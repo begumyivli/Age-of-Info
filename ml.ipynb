{
 "cells": [
  {
   "cell_type": "code",
   "execution_count": 1,
   "metadata": {},
   "outputs": [],
   "source": [
    "# dependencies\n",
    "import pandas as pd\n",
    "import optuna\n",
    "from sklearn.svm import SVC\n",
    "from sklearn.metrics import accuracy_score, precision_score, recall_score, f1_score\n",
    "from sklearn.model_selection import train_test_split, cross_val_predict, StratifiedKFold, cross_val_score\n",
    "from sklearn.preprocessing import StandardScaler, LabelEncoder"
   ]
  },
  {
   "cell_type": "code",
   "execution_count": 2,
   "metadata": {},
   "outputs": [
    {
     "name": "stdout",
     "output_type": "stream",
     "text": [
      "<class 'pandas.core.frame.DataFrame'>\n",
      "RangeIndex: 4465 entries, 0 to 4464\n",
      "Columns: 242 entries, ACCESS_ALL_DOWNLOADS to Label\n",
      "dtypes: float64(241), object(1)\n",
      "memory usage: 8.2+ MB\n",
      "<class 'pandas.core.frame.DataFrame'>\n",
      "Index: 4464 entries, 0 to 4464\n",
      "Columns: 242 entries, ACCESS_ALL_DOWNLOADS to Label\n",
      "dtypes: float64(241), object(1)\n",
      "memory usage: 8.3+ MB\n"
     ]
    }
   ],
   "source": [
    "dataset = pd.read_csv('TUANDROMD.csv')\n",
    "\n",
    "dataset.info()\n",
    "df = dataset.dropna() # cleaned dataset\n",
    "df.info()"
   ]
  },
  {
   "cell_type": "code",
   "execution_count": 3,
   "metadata": {},
   "outputs": [
    {
     "data": {
      "text/plain": [
       "0    malware\n",
       "1    malware\n",
       "2    malware\n",
       "3    malware\n",
       "4    malware\n",
       "Name: Label, dtype: object"
      ]
     },
     "execution_count": 3,
     "metadata": {},
     "output_type": "execute_result"
    }
   ],
   "source": [
    "# as described in uci website, Target Role is the attribute Label\n",
    "X = df.drop(columns=['Label'], axis=1)  # Features\n",
    "y = df['Label']  # Target variable\n",
    "y.head()"
   ]
  },
  {
   "cell_type": "code",
   "execution_count": 4,
   "metadata": {},
   "outputs": [
    {
     "data": {
      "text/plain": [
       "array([0, 0, 0, ..., 1, 1, 1])"
      ]
     },
     "execution_count": 4,
     "metadata": {},
     "output_type": "execute_result"
    }
   ],
   "source": [
    "# Encode the categorical target variable using Label Encoding\n",
    "label_encoder = LabelEncoder()\n",
    "y_encoded = label_encoder.fit_transform(y)\n",
    "y_encoded = 1 - y_encoded\n",
    "y_encoded"
   ]
  },
  {
   "cell_type": "code",
   "execution_count": 5,
   "metadata": {},
   "outputs": [],
   "source": [
    "# Split the dataset into training and testing subsets\n",
    "X_train, X_test, y_train, y_test = train_test_split(X, y_encoded, test_size=0.2, random_state=42, stratify=y_encoded)"
   ]
  },
  {
   "cell_type": "code",
   "execution_count": 6,
   "metadata": {},
   "outputs": [],
   "source": [
    "scaler = StandardScaler()\n",
    "X_train = scaler.fit_transform(X_train)\n",
    "X_test = scaler.transform(X_test)"
   ]
  },
  {
   "cell_type": "code",
   "execution_count": 23,
   "metadata": {},
   "outputs": [],
   "source": [
    "\n",
    "def objective(trial):\n",
    "    C = trial.suggest_loguniform('C', 1e-3, 1e-1)\n",
    "    gamma = trial.suggest_loguniform('gamma', 50, 1e2)\n",
    "\n",
    "    # Create the SVM classifier with RBF kernel using suggested hyperparameters\n",
    "    svm_classifier = SVC(kernel='rbf', C=C, gamma=gamma)\n",
    "\n",
    "    # Use stratified k-fold cross-validation for better validation performance\n",
    "    cv = StratifiedKFold(n_splits=5, shuffle=True, random_state=42)\n",
    "\n",
    "    # Calculate cross-validated accuracy with stratification\n",
    "    cv_accuracy = cross_val_score(svm_classifier, X_train, y_train, cv=cv, scoring='accuracy').mean()\n",
    "\n",
    "    print(cv_accuracy)\n",
    "    return cv_accuracy"
   ]
  },
  {
   "cell_type": "code",
   "execution_count": 24,
   "metadata": {},
   "outputs": [
    {
     "name": "stderr",
     "output_type": "stream",
     "text": [
      "\u001b[32m[I 2023-09-04 13:56:39,132]\u001b[0m A new study created in memory with name: no-name-86cfa58d-730e-4d1d-ac57-fae5eceb92cd\u001b[0m\n",
      "/var/folders/gp/r_0zq_nx5pl3nmv_2z2bd6hc0000gn/T/ipykernel_91342/595498502.py:2: FutureWarning: suggest_loguniform has been deprecated in v3.0.0. This feature will be removed in v6.0.0. See https://github.com/optuna/optuna/releases/tag/v3.0.0. Use :func:`~optuna.trial.Trial.suggest_float` instead.\n",
      "  C = trial.suggest_loguniform('C', 1e-3, 1e-1)\n",
      "/var/folders/gp/r_0zq_nx5pl3nmv_2z2bd6hc0000gn/T/ipykernel_91342/595498502.py:3: FutureWarning: suggest_loguniform has been deprecated in v3.0.0. This feature will be removed in v6.0.0. See https://github.com/optuna/optuna/releases/tag/v3.0.0. Use :func:`~optuna.trial.Trial.suggest_float` instead.\n",
      "  gamma = trial.suggest_loguniform('gamma', 50, 1e2)\n",
      "\u001b[32m[I 2023-09-04 13:56:43,050]\u001b[0m Trial 0 finished with value: 0.7986558539499715 and parameters: {'C': 0.0243050620297987, 'gamma': 66.01762836413565}. Best is trial 0 with value: 0.7986558539499715.\u001b[0m\n"
     ]
    },
    {
     "name": "stdout",
     "output_type": "stream",
     "text": [
      "0.7986558539499715\n"
     ]
    },
    {
     "name": "stderr",
     "output_type": "stream",
     "text": [
      "/var/folders/gp/r_0zq_nx5pl3nmv_2z2bd6hc0000gn/T/ipykernel_91342/595498502.py:2: FutureWarning: suggest_loguniform has been deprecated in v3.0.0. This feature will be removed in v6.0.0. See https://github.com/optuna/optuna/releases/tag/v3.0.0. Use :func:`~optuna.trial.Trial.suggest_float` instead.\n",
      "  C = trial.suggest_loguniform('C', 1e-3, 1e-1)\n",
      "/var/folders/gp/r_0zq_nx5pl3nmv_2z2bd6hc0000gn/T/ipykernel_91342/595498502.py:3: FutureWarning: suggest_loguniform has been deprecated in v3.0.0. This feature will be removed in v6.0.0. See https://github.com/optuna/optuna/releases/tag/v3.0.0. Use :func:`~optuna.trial.Trial.suggest_float` instead.\n",
      "  gamma = trial.suggest_loguniform('gamma', 50, 1e2)\n",
      "\u001b[32m[I 2023-09-04 13:56:46,958]\u001b[0m Trial 1 finished with value: 0.7986558539499715 and parameters: {'C': 0.005573445459029947, 'gamma': 71.3714069586089}. Best is trial 0 with value: 0.7986558539499715.\u001b[0m\n"
     ]
    },
    {
     "name": "stdout",
     "output_type": "stream",
     "text": [
      "0.7986558539499715\n"
     ]
    },
    {
     "name": "stderr",
     "output_type": "stream",
     "text": [
      "/var/folders/gp/r_0zq_nx5pl3nmv_2z2bd6hc0000gn/T/ipykernel_91342/595498502.py:2: FutureWarning: suggest_loguniform has been deprecated in v3.0.0. This feature will be removed in v6.0.0. See https://github.com/optuna/optuna/releases/tag/v3.0.0. Use :func:`~optuna.trial.Trial.suggest_float` instead.\n",
      "  C = trial.suggest_loguniform('C', 1e-3, 1e-1)\n",
      "/var/folders/gp/r_0zq_nx5pl3nmv_2z2bd6hc0000gn/T/ipykernel_91342/595498502.py:3: FutureWarning: suggest_loguniform has been deprecated in v3.0.0. This feature will be removed in v6.0.0. See https://github.com/optuna/optuna/releases/tag/v3.0.0. Use :func:`~optuna.trial.Trial.suggest_float` instead.\n",
      "  gamma = trial.suggest_loguniform('gamma', 50, 1e2)\n",
      "\u001b[32m[I 2023-09-04 13:56:50,837]\u001b[0m Trial 2 finished with value: 0.7986558539499715 and parameters: {'C': 0.00103094884470145, 'gamma': 51.274176574749845}. Best is trial 0 with value: 0.7986558539499715.\u001b[0m\n"
     ]
    },
    {
     "name": "stdout",
     "output_type": "stream",
     "text": [
      "0.7986558539499715\n"
     ]
    },
    {
     "name": "stderr",
     "output_type": "stream",
     "text": [
      "/var/folders/gp/r_0zq_nx5pl3nmv_2z2bd6hc0000gn/T/ipykernel_91342/595498502.py:2: FutureWarning: suggest_loguniform has been deprecated in v3.0.0. This feature will be removed in v6.0.0. See https://github.com/optuna/optuna/releases/tag/v3.0.0. Use :func:`~optuna.trial.Trial.suggest_float` instead.\n",
      "  C = trial.suggest_loguniform('C', 1e-3, 1e-1)\n",
      "/var/folders/gp/r_0zq_nx5pl3nmv_2z2bd6hc0000gn/T/ipykernel_91342/595498502.py:3: FutureWarning: suggest_loguniform has been deprecated in v3.0.0. This feature will be removed in v6.0.0. See https://github.com/optuna/optuna/releases/tag/v3.0.0. Use :func:`~optuna.trial.Trial.suggest_float` instead.\n",
      "  gamma = trial.suggest_loguniform('gamma', 50, 1e2)\n",
      "\u001b[32m[I 2023-09-04 13:56:54,745]\u001b[0m Trial 3 finished with value: 0.7986558539499715 and parameters: {'C': 0.01296365461672957, 'gamma': 54.39891535017294}. Best is trial 0 with value: 0.7986558539499715.\u001b[0m\n"
     ]
    },
    {
     "name": "stdout",
     "output_type": "stream",
     "text": [
      "0.7986558539499715\n"
     ]
    },
    {
     "name": "stderr",
     "output_type": "stream",
     "text": [
      "/var/folders/gp/r_0zq_nx5pl3nmv_2z2bd6hc0000gn/T/ipykernel_91342/595498502.py:2: FutureWarning: suggest_loguniform has been deprecated in v3.0.0. This feature will be removed in v6.0.0. See https://github.com/optuna/optuna/releases/tag/v3.0.0. Use :func:`~optuna.trial.Trial.suggest_float` instead.\n",
      "  C = trial.suggest_loguniform('C', 1e-3, 1e-1)\n",
      "/var/folders/gp/r_0zq_nx5pl3nmv_2z2bd6hc0000gn/T/ipykernel_91342/595498502.py:3: FutureWarning: suggest_loguniform has been deprecated in v3.0.0. This feature will be removed in v6.0.0. See https://github.com/optuna/optuna/releases/tag/v3.0.0. Use :func:`~optuna.trial.Trial.suggest_float` instead.\n",
      "  gamma = trial.suggest_loguniform('gamma', 50, 1e2)\n",
      "\u001b[32m[I 2023-09-04 13:56:58,624]\u001b[0m Trial 4 finished with value: 0.7986558539499715 and parameters: {'C': 0.0012908635862623086, 'gamma': 56.71054197395058}. Best is trial 0 with value: 0.7986558539499715.\u001b[0m\n"
     ]
    },
    {
     "name": "stdout",
     "output_type": "stream",
     "text": [
      "0.7986558539499715\n"
     ]
    },
    {
     "name": "stderr",
     "output_type": "stream",
     "text": [
      "/var/folders/gp/r_0zq_nx5pl3nmv_2z2bd6hc0000gn/T/ipykernel_91342/595498502.py:2: FutureWarning: suggest_loguniform has been deprecated in v3.0.0. This feature will be removed in v6.0.0. See https://github.com/optuna/optuna/releases/tag/v3.0.0. Use :func:`~optuna.trial.Trial.suggest_float` instead.\n",
      "  C = trial.suggest_loguniform('C', 1e-3, 1e-1)\n",
      "/var/folders/gp/r_0zq_nx5pl3nmv_2z2bd6hc0000gn/T/ipykernel_91342/595498502.py:3: FutureWarning: suggest_loguniform has been deprecated in v3.0.0. This feature will be removed in v6.0.0. See https://github.com/optuna/optuna/releases/tag/v3.0.0. Use :func:`~optuna.trial.Trial.suggest_float` instead.\n",
      "  gamma = trial.suggest_loguniform('gamma', 50, 1e2)\n",
      "\u001b[32m[I 2023-09-04 13:57:02,513]\u001b[0m Trial 5 finished with value: 0.7986558539499715 and parameters: {'C': 0.0033436042313177553, 'gamma': 59.23048382779319}. Best is trial 0 with value: 0.7986558539499715.\u001b[0m\n"
     ]
    },
    {
     "name": "stdout",
     "output_type": "stream",
     "text": [
      "0.7986558539499715\n"
     ]
    },
    {
     "name": "stderr",
     "output_type": "stream",
     "text": [
      "/var/folders/gp/r_0zq_nx5pl3nmv_2z2bd6hc0000gn/T/ipykernel_91342/595498502.py:2: FutureWarning: suggest_loguniform has been deprecated in v3.0.0. This feature will be removed in v6.0.0. See https://github.com/optuna/optuna/releases/tag/v3.0.0. Use :func:`~optuna.trial.Trial.suggest_float` instead.\n",
      "  C = trial.suggest_loguniform('C', 1e-3, 1e-1)\n",
      "/var/folders/gp/r_0zq_nx5pl3nmv_2z2bd6hc0000gn/T/ipykernel_91342/595498502.py:3: FutureWarning: suggest_loguniform has been deprecated in v3.0.0. This feature will be removed in v6.0.0. See https://github.com/optuna/optuna/releases/tag/v3.0.0. Use :func:`~optuna.trial.Trial.suggest_float` instead.\n",
      "  gamma = trial.suggest_loguniform('gamma', 50, 1e2)\n",
      "\u001b[32m[I 2023-09-04 13:57:06,404]\u001b[0m Trial 6 finished with value: 0.7986558539499715 and parameters: {'C': 0.0063308989694538746, 'gamma': 95.73707768463892}. Best is trial 0 with value: 0.7986558539499715.\u001b[0m\n"
     ]
    },
    {
     "name": "stdout",
     "output_type": "stream",
     "text": [
      "0.7986558539499715\n"
     ]
    },
    {
     "name": "stderr",
     "output_type": "stream",
     "text": [
      "/var/folders/gp/r_0zq_nx5pl3nmv_2z2bd6hc0000gn/T/ipykernel_91342/595498502.py:2: FutureWarning: suggest_loguniform has been deprecated in v3.0.0. This feature will be removed in v6.0.0. See https://github.com/optuna/optuna/releases/tag/v3.0.0. Use :func:`~optuna.trial.Trial.suggest_float` instead.\n",
      "  C = trial.suggest_loguniform('C', 1e-3, 1e-1)\n",
      "/var/folders/gp/r_0zq_nx5pl3nmv_2z2bd6hc0000gn/T/ipykernel_91342/595498502.py:3: FutureWarning: suggest_loguniform has been deprecated in v3.0.0. This feature will be removed in v6.0.0. See https://github.com/optuna/optuna/releases/tag/v3.0.0. Use :func:`~optuna.trial.Trial.suggest_float` instead.\n",
      "  gamma = trial.suggest_loguniform('gamma', 50, 1e2)\n",
      "\u001b[32m[I 2023-09-04 13:57:10,284]\u001b[0m Trial 7 finished with value: 0.7986558539499715 and parameters: {'C': 0.0014377728787319923, 'gamma': 63.847825008121454}. Best is trial 0 with value: 0.7986558539499715.\u001b[0m\n"
     ]
    },
    {
     "name": "stdout",
     "output_type": "stream",
     "text": [
      "0.7986558539499715\n"
     ]
    },
    {
     "name": "stderr",
     "output_type": "stream",
     "text": [
      "/var/folders/gp/r_0zq_nx5pl3nmv_2z2bd6hc0000gn/T/ipykernel_91342/595498502.py:2: FutureWarning: suggest_loguniform has been deprecated in v3.0.0. This feature will be removed in v6.0.0. See https://github.com/optuna/optuna/releases/tag/v3.0.0. Use :func:`~optuna.trial.Trial.suggest_float` instead.\n",
      "  C = trial.suggest_loguniform('C', 1e-3, 1e-1)\n",
      "/var/folders/gp/r_0zq_nx5pl3nmv_2z2bd6hc0000gn/T/ipykernel_91342/595498502.py:3: FutureWarning: suggest_loguniform has been deprecated in v3.0.0. This feature will be removed in v6.0.0. See https://github.com/optuna/optuna/releases/tag/v3.0.0. Use :func:`~optuna.trial.Trial.suggest_float` instead.\n",
      "  gamma = trial.suggest_loguniform('gamma', 50, 1e2)\n",
      "\u001b[32m[I 2023-09-04 13:57:14,133]\u001b[0m Trial 8 finished with value: 0.8504628704628704 and parameters: {'C': 0.09631613957496994, 'gamma': 63.79381538145846}. Best is trial 8 with value: 0.8504628704628704.\u001b[0m\n"
     ]
    },
    {
     "name": "stdout",
     "output_type": "stream",
     "text": [
      "0.8504628704628704\n"
     ]
    },
    {
     "name": "stderr",
     "output_type": "stream",
     "text": [
      "/var/folders/gp/r_0zq_nx5pl3nmv_2z2bd6hc0000gn/T/ipykernel_91342/595498502.py:2: FutureWarning: suggest_loguniform has been deprecated in v3.0.0. This feature will be removed in v6.0.0. See https://github.com/optuna/optuna/releases/tag/v3.0.0. Use :func:`~optuna.trial.Trial.suggest_float` instead.\n",
      "  C = trial.suggest_loguniform('C', 1e-3, 1e-1)\n",
      "/var/folders/gp/r_0zq_nx5pl3nmv_2z2bd6hc0000gn/T/ipykernel_91342/595498502.py:3: FutureWarning: suggest_loguniform has been deprecated in v3.0.0. This feature will be removed in v6.0.0. See https://github.com/optuna/optuna/releases/tag/v3.0.0. Use :func:`~optuna.trial.Trial.suggest_float` instead.\n",
      "  gamma = trial.suggest_loguniform('gamma', 50, 1e2)\n",
      "\u001b[32m[I 2023-09-04 13:57:18,022]\u001b[0m Trial 9 finished with value: 0.7986558539499715 and parameters: {'C': 0.0064774204646385, 'gamma': 78.0665983889342}. Best is trial 8 with value: 0.8504628704628704.\u001b[0m\n"
     ]
    },
    {
     "name": "stdout",
     "output_type": "stream",
     "text": [
      "0.7986558539499715\n"
     ]
    },
    {
     "name": "stderr",
     "output_type": "stream",
     "text": [
      "/var/folders/gp/r_0zq_nx5pl3nmv_2z2bd6hc0000gn/T/ipykernel_91342/595498502.py:2: FutureWarning: suggest_loguniform has been deprecated in v3.0.0. This feature will be removed in v6.0.0. See https://github.com/optuna/optuna/releases/tag/v3.0.0. Use :func:`~optuna.trial.Trial.suggest_float` instead.\n",
      "  C = trial.suggest_loguniform('C', 1e-3, 1e-1)\n",
      "/var/folders/gp/r_0zq_nx5pl3nmv_2z2bd6hc0000gn/T/ipykernel_91342/595498502.py:3: FutureWarning: suggest_loguniform has been deprecated in v3.0.0. This feature will be removed in v6.0.0. See https://github.com/optuna/optuna/releases/tag/v3.0.0. Use :func:`~optuna.trial.Trial.suggest_float` instead.\n",
      "  gamma = trial.suggest_loguniform('gamma', 50, 1e2)\n",
      "\u001b[32m[I 2023-09-04 13:57:21,894]\u001b[0m Trial 10 finished with value: 0.8098579851521027 and parameters: {'C': 0.07791622562743936, 'gamma': 50.16315174960702}. Best is trial 8 with value: 0.8504628704628704.\u001b[0m\n"
     ]
    },
    {
     "name": "stdout",
     "output_type": "stream",
     "text": [
      "0.8098579851521027\n"
     ]
    },
    {
     "name": "stderr",
     "output_type": "stream",
     "text": [
      "/var/folders/gp/r_0zq_nx5pl3nmv_2z2bd6hc0000gn/T/ipykernel_91342/595498502.py:2: FutureWarning: suggest_loguniform has been deprecated in v3.0.0. This feature will be removed in v6.0.0. See https://github.com/optuna/optuna/releases/tag/v3.0.0. Use :func:`~optuna.trial.Trial.suggest_float` instead.\n",
      "  C = trial.suggest_loguniform('C', 1e-3, 1e-1)\n",
      "/var/folders/gp/r_0zq_nx5pl3nmv_2z2bd6hc0000gn/T/ipykernel_91342/595498502.py:3: FutureWarning: suggest_loguniform has been deprecated in v3.0.0. This feature will be removed in v6.0.0. See https://github.com/optuna/optuna/releases/tag/v3.0.0. Use :func:`~optuna.trial.Trial.suggest_float` instead.\n",
      "  gamma = trial.suggest_loguniform('gamma', 50, 1e2)\n",
      "\u001b[32m[I 2023-09-04 13:57:25,748]\u001b[0m Trial 11 finished with value: 0.8308550273256156 and parameters: {'C': 0.09364676618398195, 'gamma': 50.90872410046113}. Best is trial 8 with value: 0.8504628704628704.\u001b[0m\n"
     ]
    },
    {
     "name": "stdout",
     "output_type": "stream",
     "text": [
      "0.8308550273256156\n"
     ]
    },
    {
     "name": "stderr",
     "output_type": "stream",
     "text": [
      "/var/folders/gp/r_0zq_nx5pl3nmv_2z2bd6hc0000gn/T/ipykernel_91342/595498502.py:2: FutureWarning: suggest_loguniform has been deprecated in v3.0.0. This feature will be removed in v6.0.0. See https://github.com/optuna/optuna/releases/tag/v3.0.0. Use :func:`~optuna.trial.Trial.suggest_float` instead.\n",
      "  C = trial.suggest_loguniform('C', 1e-3, 1e-1)\n",
      "/var/folders/gp/r_0zq_nx5pl3nmv_2z2bd6hc0000gn/T/ipykernel_91342/595498502.py:3: FutureWarning: suggest_loguniform has been deprecated in v3.0.0. This feature will be removed in v6.0.0. See https://github.com/optuna/optuna/releases/tag/v3.0.0. Use :func:`~optuna.trial.Trial.suggest_float` instead.\n",
      "  gamma = trial.suggest_loguniform('gamma', 50, 1e2)\n",
      "\u001b[32m[I 2023-09-04 13:57:29,613]\u001b[0m Trial 12 finished with value: 0.8106979295214588 and parameters: {'C': 0.08050123978587459, 'gamma': 58.895113079696685}. Best is trial 8 with value: 0.8504628704628704.\u001b[0m\n"
     ]
    },
    {
     "name": "stdout",
     "output_type": "stream",
     "text": [
      "0.8106979295214588\n"
     ]
    },
    {
     "name": "stderr",
     "output_type": "stream",
     "text": [
      "/var/folders/gp/r_0zq_nx5pl3nmv_2z2bd6hc0000gn/T/ipykernel_91342/595498502.py:2: FutureWarning: suggest_loguniform has been deprecated in v3.0.0. This feature will be removed in v6.0.0. See https://github.com/optuna/optuna/releases/tag/v3.0.0. Use :func:`~optuna.trial.Trial.suggest_float` instead.\n",
      "  C = trial.suggest_loguniform('C', 1e-3, 1e-1)\n",
      "/var/folders/gp/r_0zq_nx5pl3nmv_2z2bd6hc0000gn/T/ipykernel_91342/595498502.py:3: FutureWarning: suggest_loguniform has been deprecated in v3.0.0. This feature will be removed in v6.0.0. See https://github.com/optuna/optuna/releases/tag/v3.0.0. Use :func:`~optuna.trial.Trial.suggest_float` instead.\n",
      "  gamma = trial.suggest_loguniform('gamma', 50, 1e2)\n",
      "\u001b[32m[I 2023-09-04 13:57:33,520]\u001b[0m Trial 13 finished with value: 0.8070580399992163 and parameters: {'C': 0.04283427969971228, 'gamma': 54.70131027445775}. Best is trial 8 with value: 0.8504628704628704.\u001b[0m\n"
     ]
    },
    {
     "name": "stdout",
     "output_type": "stream",
     "text": [
      "0.8070580399992163\n"
     ]
    },
    {
     "name": "stderr",
     "output_type": "stream",
     "text": [
      "/var/folders/gp/r_0zq_nx5pl3nmv_2z2bd6hc0000gn/T/ipykernel_91342/595498502.py:2: FutureWarning: suggest_loguniform has been deprecated in v3.0.0. This feature will be removed in v6.0.0. See https://github.com/optuna/optuna/releases/tag/v3.0.0. Use :func:`~optuna.trial.Trial.suggest_float` instead.\n",
      "  C = trial.suggest_loguniform('C', 1e-3, 1e-1)\n",
      "/var/folders/gp/r_0zq_nx5pl3nmv_2z2bd6hc0000gn/T/ipykernel_91342/595498502.py:3: FutureWarning: suggest_loguniform has been deprecated in v3.0.0. This feature will be removed in v6.0.0. See https://github.com/optuna/optuna/releases/tag/v3.0.0. Use :func:`~optuna.trial.Trial.suggest_float` instead.\n",
      "  gamma = trial.suggest_loguniform('gamma', 50, 1e2)\n",
      "\u001b[32m[I 2023-09-04 13:57:37,368]\u001b[0m Trial 14 finished with value: 0.8504628704628704 and parameters: {'C': 0.09720494949896379, 'gamma': 62.48575698644942}. Best is trial 8 with value: 0.8504628704628704.\u001b[0m\n"
     ]
    },
    {
     "name": "stdout",
     "output_type": "stream",
     "text": [
      "0.8504628704628704\n"
     ]
    },
    {
     "name": "stderr",
     "output_type": "stream",
     "text": [
      "/var/folders/gp/r_0zq_nx5pl3nmv_2z2bd6hc0000gn/T/ipykernel_91342/595498502.py:2: FutureWarning: suggest_loguniform has been deprecated in v3.0.0. This feature will be removed in v6.0.0. See https://github.com/optuna/optuna/releases/tag/v3.0.0. Use :func:`~optuna.trial.Trial.suggest_float` instead.\n",
      "  C = trial.suggest_loguniform('C', 1e-3, 1e-1)\n",
      "/var/folders/gp/r_0zq_nx5pl3nmv_2z2bd6hc0000gn/T/ipykernel_91342/595498502.py:3: FutureWarning: suggest_loguniform has been deprecated in v3.0.0. This feature will be removed in v6.0.0. See https://github.com/optuna/optuna/releases/tag/v3.0.0. Use :func:`~optuna.trial.Trial.suggest_float` instead.\n",
      "  gamma = trial.suggest_loguniform('gamma', 50, 1e2)\n",
      "\u001b[32m[I 2023-09-04 13:57:41,275]\u001b[0m Trial 15 finished with value: 0.8070580399992163 and parameters: {'C': 0.0361222694347721, 'gamma': 63.5176184710763}. Best is trial 8 with value: 0.8504628704628704.\u001b[0m\n"
     ]
    },
    {
     "name": "stdout",
     "output_type": "stream",
     "text": [
      "0.8070580399992163\n"
     ]
    },
    {
     "name": "stderr",
     "output_type": "stream",
     "text": [
      "/var/folders/gp/r_0zq_nx5pl3nmv_2z2bd6hc0000gn/T/ipykernel_91342/595498502.py:2: FutureWarning: suggest_loguniform has been deprecated in v3.0.0. This feature will be removed in v6.0.0. See https://github.com/optuna/optuna/releases/tag/v3.0.0. Use :func:`~optuna.trial.Trial.suggest_float` instead.\n",
      "  C = trial.suggest_loguniform('C', 1e-3, 1e-1)\n",
      "/var/folders/gp/r_0zq_nx5pl3nmv_2z2bd6hc0000gn/T/ipykernel_91342/595498502.py:3: FutureWarning: suggest_loguniform has been deprecated in v3.0.0. This feature will be removed in v6.0.0. See https://github.com/optuna/optuna/releases/tag/v3.0.0. Use :func:`~optuna.trial.Trial.suggest_float` instead.\n",
      "  gamma = trial.suggest_loguniform('gamma', 50, 1e2)\n",
      "\u001b[32m[I 2023-09-04 13:57:45,189]\u001b[0m Trial 16 finished with value: 0.8070580399992163 and parameters: {'C': 0.04610824954679062, 'gamma': 71.93938716228318}. Best is trial 8 with value: 0.8504628704628704.\u001b[0m\n"
     ]
    },
    {
     "name": "stdout",
     "output_type": "stream",
     "text": [
      "0.8070580399992163\n"
     ]
    },
    {
     "name": "stderr",
     "output_type": "stream",
     "text": [
      "/var/folders/gp/r_0zq_nx5pl3nmv_2z2bd6hc0000gn/T/ipykernel_91342/595498502.py:2: FutureWarning: suggest_loguniform has been deprecated in v3.0.0. This feature will be removed in v6.0.0. See https://github.com/optuna/optuna/releases/tag/v3.0.0. Use :func:`~optuna.trial.Trial.suggest_float` instead.\n",
      "  C = trial.suggest_loguniform('C', 1e-3, 1e-1)\n",
      "/var/folders/gp/r_0zq_nx5pl3nmv_2z2bd6hc0000gn/T/ipykernel_91342/595498502.py:3: FutureWarning: suggest_loguniform has been deprecated in v3.0.0. This feature will be removed in v6.0.0. See https://github.com/optuna/optuna/releases/tag/v3.0.0. Use :func:`~optuna.trial.Trial.suggest_float` instead.\n",
      "  gamma = trial.suggest_loguniform('gamma', 50, 1e2)\n",
      "\u001b[32m[I 2023-09-04 13:57:49,093]\u001b[0m Trial 17 finished with value: 0.7986558539499715 and parameters: {'C': 0.019025353600023602, 'gamma': 77.06538309980945}. Best is trial 8 with value: 0.8504628704628704.\u001b[0m\n"
     ]
    },
    {
     "name": "stdout",
     "output_type": "stream",
     "text": [
      "0.7986558539499715\n"
     ]
    },
    {
     "name": "stderr",
     "output_type": "stream",
     "text": [
      "/var/folders/gp/r_0zq_nx5pl3nmv_2z2bd6hc0000gn/T/ipykernel_91342/595498502.py:2: FutureWarning: suggest_loguniform has been deprecated in v3.0.0. This feature will be removed in v6.0.0. See https://github.com/optuna/optuna/releases/tag/v3.0.0. Use :func:`~optuna.trial.Trial.suggest_float` instead.\n",
      "  C = trial.suggest_loguniform('C', 1e-3, 1e-1)\n",
      "/var/folders/gp/r_0zq_nx5pl3nmv_2z2bd6hc0000gn/T/ipykernel_91342/595498502.py:3: FutureWarning: suggest_loguniform has been deprecated in v3.0.0. This feature will be removed in v6.0.0. See https://github.com/optuna/optuna/releases/tag/v3.0.0. Use :func:`~optuna.trial.Trial.suggest_float` instead.\n",
      "  gamma = trial.suggest_loguniform('gamma', 50, 1e2)\n",
      "\u001b[32m[I 2023-09-04 13:57:52,937]\u001b[0m Trial 18 finished with value: 0.8504628704628704 and parameters: {'C': 0.09698683523651506, 'gamma': 61.15378329311086}. Best is trial 8 with value: 0.8504628704628704.\u001b[0m\n"
     ]
    },
    {
     "name": "stdout",
     "output_type": "stream",
     "text": [
      "0.8504628704628704\n"
     ]
    },
    {
     "name": "stderr",
     "output_type": "stream",
     "text": [
      "/var/folders/gp/r_0zq_nx5pl3nmv_2z2bd6hc0000gn/T/ipykernel_91342/595498502.py:2: FutureWarning: suggest_loguniform has been deprecated in v3.0.0. This feature will be removed in v6.0.0. See https://github.com/optuna/optuna/releases/tag/v3.0.0. Use :func:`~optuna.trial.Trial.suggest_float` instead.\n",
      "  C = trial.suggest_loguniform('C', 1e-3, 1e-1)\n",
      "/var/folders/gp/r_0zq_nx5pl3nmv_2z2bd6hc0000gn/T/ipykernel_91342/595498502.py:3: FutureWarning: suggest_loguniform has been deprecated in v3.0.0. This feature will be removed in v6.0.0. See https://github.com/optuna/optuna/releases/tag/v3.0.0. Use :func:`~optuna.trial.Trial.suggest_float` instead.\n",
      "  gamma = trial.suggest_loguniform('gamma', 50, 1e2)\n",
      "\u001b[32m[I 2023-09-04 13:57:56,847]\u001b[0m Trial 19 finished with value: 0.8070580399992163 and parameters: {'C': 0.05684302538527199, 'gamma': 66.6483103651628}. Best is trial 8 with value: 0.8504628704628704.\u001b[0m\n"
     ]
    },
    {
     "name": "stdout",
     "output_type": "stream",
     "text": [
      "0.8070580399992163\n"
     ]
    },
    {
     "name": "stderr",
     "output_type": "stream",
     "text": [
      "/var/folders/gp/r_0zq_nx5pl3nmv_2z2bd6hc0000gn/T/ipykernel_91342/595498502.py:2: FutureWarning: suggest_loguniform has been deprecated in v3.0.0. This feature will be removed in v6.0.0. See https://github.com/optuna/optuna/releases/tag/v3.0.0. Use :func:`~optuna.trial.Trial.suggest_float` instead.\n",
      "  C = trial.suggest_loguniform('C', 1e-3, 1e-1)\n",
      "/var/folders/gp/r_0zq_nx5pl3nmv_2z2bd6hc0000gn/T/ipykernel_91342/595498502.py:3: FutureWarning: suggest_loguniform has been deprecated in v3.0.0. This feature will be removed in v6.0.0. See https://github.com/optuna/optuna/releases/tag/v3.0.0. Use :func:`~optuna.trial.Trial.suggest_float` instead.\n",
      "  gamma = trial.suggest_loguniform('gamma', 50, 1e2)\n",
      "\u001b[32m[I 2023-09-04 13:58:00,761]\u001b[0m Trial 20 finished with value: 0.7986558539499715 and parameters: {'C': 0.0266604768254924, 'gamma': 59.84082948940757}. Best is trial 8 with value: 0.8504628704628704.\u001b[0m\n"
     ]
    },
    {
     "name": "stdout",
     "output_type": "stream",
     "text": [
      "0.7986558539499715\n"
     ]
    },
    {
     "name": "stderr",
     "output_type": "stream",
     "text": [
      "/var/folders/gp/r_0zq_nx5pl3nmv_2z2bd6hc0000gn/T/ipykernel_91342/595498502.py:2: FutureWarning: suggest_loguniform has been deprecated in v3.0.0. This feature will be removed in v6.0.0. See https://github.com/optuna/optuna/releases/tag/v3.0.0. Use :func:`~optuna.trial.Trial.suggest_float` instead.\n",
      "  C = trial.suggest_loguniform('C', 1e-3, 1e-1)\n",
      "/var/folders/gp/r_0zq_nx5pl3nmv_2z2bd6hc0000gn/T/ipykernel_91342/595498502.py:3: FutureWarning: suggest_loguniform has been deprecated in v3.0.0. This feature will be removed in v6.0.0. See https://github.com/optuna/optuna/releases/tag/v3.0.0. Use :func:`~optuna.trial.Trial.suggest_float` instead.\n",
      "  gamma = trial.suggest_loguniform('gamma', 50, 1e2)\n",
      "\u001b[32m[I 2023-09-04 13:58:04,636]\u001b[0m Trial 21 finished with value: 0.8070580399992163 and parameters: {'C': 0.06127877987477927, 'gamma': 62.338634338117785}. Best is trial 8 with value: 0.8504628704628704.\u001b[0m\n"
     ]
    },
    {
     "name": "stdout",
     "output_type": "stream",
     "text": [
      "0.8070580399992163\n"
     ]
    },
    {
     "name": "stderr",
     "output_type": "stream",
     "text": [
      "/var/folders/gp/r_0zq_nx5pl3nmv_2z2bd6hc0000gn/T/ipykernel_91342/595498502.py:2: FutureWarning: suggest_loguniform has been deprecated in v3.0.0. This feature will be removed in v6.0.0. See https://github.com/optuna/optuna/releases/tag/v3.0.0. Use :func:`~optuna.trial.Trial.suggest_float` instead.\n",
      "  C = trial.suggest_loguniform('C', 1e-3, 1e-1)\n",
      "/var/folders/gp/r_0zq_nx5pl3nmv_2z2bd6hc0000gn/T/ipykernel_91342/595498502.py:3: FutureWarning: suggest_loguniform has been deprecated in v3.0.0. This feature will be removed in v6.0.0. See https://github.com/optuna/optuna/releases/tag/v3.0.0. Use :func:`~optuna.trial.Trial.suggest_float` instead.\n",
      "  gamma = trial.suggest_loguniform('gamma', 50, 1e2)\n",
      "\u001b[32m[I 2023-09-04 13:58:08,492]\u001b[0m Trial 22 finished with value: 0.8504628704628704 and parameters: {'C': 0.09823766979944096, 'gamma': 67.77745050095749}. Best is trial 8 with value: 0.8504628704628704.\u001b[0m\n"
     ]
    },
    {
     "name": "stdout",
     "output_type": "stream",
     "text": [
      "0.8504628704628704\n"
     ]
    },
    {
     "name": "stderr",
     "output_type": "stream",
     "text": [
      "/var/folders/gp/r_0zq_nx5pl3nmv_2z2bd6hc0000gn/T/ipykernel_91342/595498502.py:2: FutureWarning: suggest_loguniform has been deprecated in v3.0.0. This feature will be removed in v6.0.0. See https://github.com/optuna/optuna/releases/tag/v3.0.0. Use :func:`~optuna.trial.Trial.suggest_float` instead.\n",
      "  C = trial.suggest_loguniform('C', 1e-3, 1e-1)\n",
      "/var/folders/gp/r_0zq_nx5pl3nmv_2z2bd6hc0000gn/T/ipykernel_91342/595498502.py:3: FutureWarning: suggest_loguniform has been deprecated in v3.0.0. This feature will be removed in v6.0.0. See https://github.com/optuna/optuna/releases/tag/v3.0.0. Use :func:`~optuna.trial.Trial.suggest_float` instead.\n",
      "  gamma = trial.suggest_loguniform('gamma', 50, 1e2)\n",
      "\u001b[32m[I 2023-09-04 13:58:12,385]\u001b[0m Trial 23 finished with value: 0.8070580399992163 and parameters: {'C': 0.05856693563098387, 'gamma': 61.214256752119894}. Best is trial 8 with value: 0.8504628704628704.\u001b[0m\n"
     ]
    },
    {
     "name": "stdout",
     "output_type": "stream",
     "text": [
      "0.8070580399992163\n"
     ]
    },
    {
     "name": "stderr",
     "output_type": "stream",
     "text": [
      "/var/folders/gp/r_0zq_nx5pl3nmv_2z2bd6hc0000gn/T/ipykernel_91342/595498502.py:2: FutureWarning: suggest_loguniform has been deprecated in v3.0.0. This feature will be removed in v6.0.0. See https://github.com/optuna/optuna/releases/tag/v3.0.0. Use :func:`~optuna.trial.Trial.suggest_float` instead.\n",
      "  C = trial.suggest_loguniform('C', 1e-3, 1e-1)\n",
      "/var/folders/gp/r_0zq_nx5pl3nmv_2z2bd6hc0000gn/T/ipykernel_91342/595498502.py:3: FutureWarning: suggest_loguniform has been deprecated in v3.0.0. This feature will be removed in v6.0.0. See https://github.com/optuna/optuna/releases/tag/v3.0.0. Use :func:`~optuna.trial.Trial.suggest_float` instead.\n",
      "  gamma = trial.suggest_loguniform('gamma', 50, 1e2)\n",
      "\u001b[32m[I 2023-09-04 13:58:16,302]\u001b[0m Trial 24 finished with value: 0.8070580399992163 and parameters: {'C': 0.03594087939735098, 'gamma': 56.97524690052302}. Best is trial 8 with value: 0.8504628704628704.\u001b[0m\n"
     ]
    },
    {
     "name": "stdout",
     "output_type": "stream",
     "text": [
      "0.8070580399992163\n"
     ]
    },
    {
     "name": "stderr",
     "output_type": "stream",
     "text": [
      "/var/folders/gp/r_0zq_nx5pl3nmv_2z2bd6hc0000gn/T/ipykernel_91342/595498502.py:2: FutureWarning: suggest_loguniform has been deprecated in v3.0.0. This feature will be removed in v6.0.0. See https://github.com/optuna/optuna/releases/tag/v3.0.0. Use :func:`~optuna.trial.Trial.suggest_float` instead.\n",
      "  C = trial.suggest_loguniform('C', 1e-3, 1e-1)\n",
      "/var/folders/gp/r_0zq_nx5pl3nmv_2z2bd6hc0000gn/T/ipykernel_91342/595498502.py:3: FutureWarning: suggest_loguniform has been deprecated in v3.0.0. This feature will be removed in v6.0.0. See https://github.com/optuna/optuna/releases/tag/v3.0.0. Use :func:`~optuna.trial.Trial.suggest_float` instead.\n",
      "  gamma = trial.suggest_loguniform('gamma', 50, 1e2)\n",
      "\u001b[32m[I 2023-09-04 13:58:20,145]\u001b[0m Trial 25 finished with value: 0.8504628704628704 and parameters: {'C': 0.09808437066600711, 'gamma': 61.93099073922709}. Best is trial 8 with value: 0.8504628704628704.\u001b[0m\n"
     ]
    },
    {
     "name": "stdout",
     "output_type": "stream",
     "text": [
      "0.8504628704628704\n"
     ]
    },
    {
     "name": "stderr",
     "output_type": "stream",
     "text": [
      "/var/folders/gp/r_0zq_nx5pl3nmv_2z2bd6hc0000gn/T/ipykernel_91342/595498502.py:2: FutureWarning: suggest_loguniform has been deprecated in v3.0.0. This feature will be removed in v6.0.0. See https://github.com/optuna/optuna/releases/tag/v3.0.0. Use :func:`~optuna.trial.Trial.suggest_float` instead.\n",
      "  C = trial.suggest_loguniform('C', 1e-3, 1e-1)\n",
      "/var/folders/gp/r_0zq_nx5pl3nmv_2z2bd6hc0000gn/T/ipykernel_91342/595498502.py:3: FutureWarning: suggest_loguniform has been deprecated in v3.0.0. This feature will be removed in v6.0.0. See https://github.com/optuna/optuna/releases/tag/v3.0.0. Use :func:`~optuna.trial.Trial.suggest_float` instead.\n",
      "  gamma = trial.suggest_loguniform('gamma', 50, 1e2)\n",
      "\u001b[32m[I 2023-09-04 13:58:24,023]\u001b[0m Trial 26 finished with value: 0.8070580399992163 and parameters: {'C': 0.06477276012926146, 'gamma': 68.5315800821492}. Best is trial 8 with value: 0.8504628704628704.\u001b[0m\n"
     ]
    },
    {
     "name": "stdout",
     "output_type": "stream",
     "text": [
      "0.8070580399992163\n"
     ]
    },
    {
     "name": "stderr",
     "output_type": "stream",
     "text": [
      "/var/folders/gp/r_0zq_nx5pl3nmv_2z2bd6hc0000gn/T/ipykernel_91342/595498502.py:2: FutureWarning: suggest_loguniform has been deprecated in v3.0.0. This feature will be removed in v6.0.0. See https://github.com/optuna/optuna/releases/tag/v3.0.0. Use :func:`~optuna.trial.Trial.suggest_float` instead.\n",
      "  C = trial.suggest_loguniform('C', 1e-3, 1e-1)\n",
      "/var/folders/gp/r_0zq_nx5pl3nmv_2z2bd6hc0000gn/T/ipykernel_91342/595498502.py:3: FutureWarning: suggest_loguniform has been deprecated in v3.0.0. This feature will be removed in v6.0.0. See https://github.com/optuna/optuna/releases/tag/v3.0.0. Use :func:`~optuna.trial.Trial.suggest_float` instead.\n",
      "  gamma = trial.suggest_loguniform('gamma', 50, 1e2)\n",
      "\u001b[32m[I 2023-09-04 13:58:27,960]\u001b[0m Trial 27 finished with value: 0.8070580399992163 and parameters: {'C': 0.04945637793478402, 'gamma': 56.27002524570266}. Best is trial 8 with value: 0.8504628704628704.\u001b[0m\n"
     ]
    },
    {
     "name": "stdout",
     "output_type": "stream",
     "text": [
      "0.8070580399992163\n"
     ]
    },
    {
     "name": "stderr",
     "output_type": "stream",
     "text": [
      "/var/folders/gp/r_0zq_nx5pl3nmv_2z2bd6hc0000gn/T/ipykernel_91342/595498502.py:2: FutureWarning: suggest_loguniform has been deprecated in v3.0.0. This feature will be removed in v6.0.0. See https://github.com/optuna/optuna/releases/tag/v3.0.0. Use :func:`~optuna.trial.Trial.suggest_float` instead.\n",
      "  C = trial.suggest_loguniform('C', 1e-3, 1e-1)\n",
      "/var/folders/gp/r_0zq_nx5pl3nmv_2z2bd6hc0000gn/T/ipykernel_91342/595498502.py:3: FutureWarning: suggest_loguniform has been deprecated in v3.0.0. This feature will be removed in v6.0.0. See https://github.com/optuna/optuna/releases/tag/v3.0.0. Use :func:`~optuna.trial.Trial.suggest_float` instead.\n",
      "  gamma = trial.suggest_loguniform('gamma', 50, 1e2)\n",
      "\u001b[32m[I 2023-09-04 13:58:31,836]\u001b[0m Trial 28 finished with value: 0.8070580399992163 and parameters: {'C': 0.06683053795636908, 'gamma': 64.50179349522425}. Best is trial 8 with value: 0.8504628704628704.\u001b[0m\n"
     ]
    },
    {
     "name": "stdout",
     "output_type": "stream",
     "text": [
      "0.8070580399992163\n"
     ]
    },
    {
     "name": "stderr",
     "output_type": "stream",
     "text": [
      "/var/folders/gp/r_0zq_nx5pl3nmv_2z2bd6hc0000gn/T/ipykernel_91342/595498502.py:2: FutureWarning: suggest_loguniform has been deprecated in v3.0.0. This feature will be removed in v6.0.0. See https://github.com/optuna/optuna/releases/tag/v3.0.0. Use :func:`~optuna.trial.Trial.suggest_float` instead.\n",
      "  C = trial.suggest_loguniform('C', 1e-3, 1e-1)\n",
      "/var/folders/gp/r_0zq_nx5pl3nmv_2z2bd6hc0000gn/T/ipykernel_91342/595498502.py:3: FutureWarning: suggest_loguniform has been deprecated in v3.0.0. This feature will be removed in v6.0.0. See https://github.com/optuna/optuna/releases/tag/v3.0.0. Use :func:`~optuna.trial.Trial.suggest_float` instead.\n",
      "  gamma = trial.suggest_loguniform('gamma', 50, 1e2)\n",
      "\u001b[32m[I 2023-09-04 13:58:35,738]\u001b[0m Trial 29 finished with value: 0.7986558539499715 and parameters: {'C': 0.023764026612772535, 'gamma': 65.32204837765565}. Best is trial 8 with value: 0.8504628704628704.\u001b[0m\n"
     ]
    },
    {
     "name": "stdout",
     "output_type": "stream",
     "text": [
      "0.7986558539499715\n"
     ]
    },
    {
     "name": "stderr",
     "output_type": "stream",
     "text": [
      "/var/folders/gp/r_0zq_nx5pl3nmv_2z2bd6hc0000gn/T/ipykernel_91342/595498502.py:2: FutureWarning: suggest_loguniform has been deprecated in v3.0.0. This feature will be removed in v6.0.0. See https://github.com/optuna/optuna/releases/tag/v3.0.0. Use :func:`~optuna.trial.Trial.suggest_float` instead.\n",
      "  C = trial.suggest_loguniform('C', 1e-3, 1e-1)\n",
      "/var/folders/gp/r_0zq_nx5pl3nmv_2z2bd6hc0000gn/T/ipykernel_91342/595498502.py:3: FutureWarning: suggest_loguniform has been deprecated in v3.0.0. This feature will be removed in v6.0.0. See https://github.com/optuna/optuna/releases/tag/v3.0.0. Use :func:`~optuna.trial.Trial.suggest_float` instead.\n",
      "  gamma = trial.suggest_loguniform('gamma', 50, 1e2)\n",
      "\u001b[32m[I 2023-09-04 13:58:39,588]\u001b[0m Trial 30 finished with value: 0.8504628704628704 and parameters: {'C': 0.09891386126261932, 'gamma': 59.03629112523843}. Best is trial 8 with value: 0.8504628704628704.\u001b[0m\n"
     ]
    },
    {
     "name": "stdout",
     "output_type": "stream",
     "text": [
      "0.8504628704628704\n"
     ]
    },
    {
     "name": "stderr",
     "output_type": "stream",
     "text": [
      "/var/folders/gp/r_0zq_nx5pl3nmv_2z2bd6hc0000gn/T/ipykernel_91342/595498502.py:2: FutureWarning: suggest_loguniform has been deprecated in v3.0.0. This feature will be removed in v6.0.0. See https://github.com/optuna/optuna/releases/tag/v3.0.0. Use :func:`~optuna.trial.Trial.suggest_float` instead.\n",
      "  C = trial.suggest_loguniform('C', 1e-3, 1e-1)\n",
      "/var/folders/gp/r_0zq_nx5pl3nmv_2z2bd6hc0000gn/T/ipykernel_91342/595498502.py:3: FutureWarning: suggest_loguniform has been deprecated in v3.0.0. This feature will be removed in v6.0.0. See https://github.com/optuna/optuna/releases/tag/v3.0.0. Use :func:`~optuna.trial.Trial.suggest_float` instead.\n",
      "  gamma = trial.suggest_loguniform('gamma', 50, 1e2)\n",
      "\u001b[32m[I 2023-09-04 13:58:43,448]\u001b[0m Trial 31 finished with value: 0.8098579851521027 and parameters: {'C': 0.07608465517514769, 'gamma': 67.0933688603469}. Best is trial 8 with value: 0.8504628704628704.\u001b[0m\n"
     ]
    },
    {
     "name": "stdout",
     "output_type": "stream",
     "text": [
      "0.8098579851521027\n"
     ]
    },
    {
     "name": "stderr",
     "output_type": "stream",
     "text": [
      "/var/folders/gp/r_0zq_nx5pl3nmv_2z2bd6hc0000gn/T/ipykernel_91342/595498502.py:2: FutureWarning: suggest_loguniform has been deprecated in v3.0.0. This feature will be removed in v6.0.0. See https://github.com/optuna/optuna/releases/tag/v3.0.0. Use :func:`~optuna.trial.Trial.suggest_float` instead.\n",
      "  C = trial.suggest_loguniform('C', 1e-3, 1e-1)\n",
      "/var/folders/gp/r_0zq_nx5pl3nmv_2z2bd6hc0000gn/T/ipykernel_91342/595498502.py:3: FutureWarning: suggest_loguniform has been deprecated in v3.0.0. This feature will be removed in v6.0.0. See https://github.com/optuna/optuna/releases/tag/v3.0.0. Use :func:`~optuna.trial.Trial.suggest_float` instead.\n",
      "  gamma = trial.suggest_loguniform('gamma', 50, 1e2)\n",
      "\u001b[32m[I 2023-09-04 13:58:47,313]\u001b[0m Trial 32 finished with value: 0.8104178174766409 and parameters: {'C': 0.07840898053051841, 'gamma': 70.42276177009322}. Best is trial 8 with value: 0.8504628704628704.\u001b[0m\n"
     ]
    },
    {
     "name": "stdout",
     "output_type": "stream",
     "text": [
      "0.8104178174766409\n"
     ]
    },
    {
     "name": "stderr",
     "output_type": "stream",
     "text": [
      "/var/folders/gp/r_0zq_nx5pl3nmv_2z2bd6hc0000gn/T/ipykernel_91342/595498502.py:2: FutureWarning: suggest_loguniform has been deprecated in v3.0.0. This feature will be removed in v6.0.0. See https://github.com/optuna/optuna/releases/tag/v3.0.0. Use :func:`~optuna.trial.Trial.suggest_float` instead.\n",
      "  C = trial.suggest_loguniform('C', 1e-3, 1e-1)\n",
      "/var/folders/gp/r_0zq_nx5pl3nmv_2z2bd6hc0000gn/T/ipykernel_91342/595498502.py:3: FutureWarning: suggest_loguniform has been deprecated in v3.0.0. This feature will be removed in v6.0.0. See https://github.com/optuna/optuna/releases/tag/v3.0.0. Use :func:`~optuna.trial.Trial.suggest_float` instead.\n",
      "  gamma = trial.suggest_loguniform('gamma', 50, 1e2)\n",
      "\u001b[32m[I 2023-09-04 13:58:51,160]\u001b[0m Trial 33 finished with value: 0.8504628704628704 and parameters: {'C': 0.09835302618383866, 'gamma': 61.76119037725696}. Best is trial 8 with value: 0.8504628704628704.\u001b[0m\n"
     ]
    },
    {
     "name": "stdout",
     "output_type": "stream",
     "text": [
      "0.8504628704628704\n"
     ]
    },
    {
     "name": "stderr",
     "output_type": "stream",
     "text": [
      "/var/folders/gp/r_0zq_nx5pl3nmv_2z2bd6hc0000gn/T/ipykernel_91342/595498502.py:2: FutureWarning: suggest_loguniform has been deprecated in v3.0.0. This feature will be removed in v6.0.0. See https://github.com/optuna/optuna/releases/tag/v3.0.0. Use :func:`~optuna.trial.Trial.suggest_float` instead.\n",
      "  C = trial.suggest_loguniform('C', 1e-3, 1e-1)\n",
      "/var/folders/gp/r_0zq_nx5pl3nmv_2z2bd6hc0000gn/T/ipykernel_91342/595498502.py:3: FutureWarning: suggest_loguniform has been deprecated in v3.0.0. This feature will be removed in v6.0.0. See https://github.com/optuna/optuna/releases/tag/v3.0.0. Use :func:`~optuna.trial.Trial.suggest_float` instead.\n",
      "  gamma = trial.suggest_loguniform('gamma', 50, 1e2)\n",
      "\u001b[32m[I 2023-09-04 13:58:55,067]\u001b[0m Trial 34 finished with value: 0.8070580399992163 and parameters: {'C': 0.045346964143242456, 'gamma': 68.60870535561655}. Best is trial 8 with value: 0.8504628704628704.\u001b[0m\n"
     ]
    },
    {
     "name": "stdout",
     "output_type": "stream",
     "text": [
      "0.8070580399992163\n"
     ]
    },
    {
     "name": "stderr",
     "output_type": "stream",
     "text": [
      "/var/folders/gp/r_0zq_nx5pl3nmv_2z2bd6hc0000gn/T/ipykernel_91342/595498502.py:2: FutureWarning: suggest_loguniform has been deprecated in v3.0.0. This feature will be removed in v6.0.0. See https://github.com/optuna/optuna/releases/tag/v3.0.0. Use :func:`~optuna.trial.Trial.suggest_float` instead.\n",
      "  C = trial.suggest_loguniform('C', 1e-3, 1e-1)\n",
      "/var/folders/gp/r_0zq_nx5pl3nmv_2z2bd6hc0000gn/T/ipykernel_91342/595498502.py:3: FutureWarning: suggest_loguniform has been deprecated in v3.0.0. This feature will be removed in v6.0.0. See https://github.com/optuna/optuna/releases/tag/v3.0.0. Use :func:`~optuna.trial.Trial.suggest_float` instead.\n",
      "  gamma = trial.suggest_loguniform('gamma', 50, 1e2)\n",
      "\u001b[32m[I 2023-09-04 13:58:58,944]\u001b[0m Trial 35 finished with value: 0.8070580399992163 and parameters: {'C': 0.06325737534750088, 'gamma': 53.39421546487689}. Best is trial 8 with value: 0.8504628704628704.\u001b[0m\n"
     ]
    },
    {
     "name": "stdout",
     "output_type": "stream",
     "text": [
      "0.8070580399992163\n"
     ]
    },
    {
     "name": "stderr",
     "output_type": "stream",
     "text": [
      "/var/folders/gp/r_0zq_nx5pl3nmv_2z2bd6hc0000gn/T/ipykernel_91342/595498502.py:2: FutureWarning: suggest_loguniform has been deprecated in v3.0.0. This feature will be removed in v6.0.0. See https://github.com/optuna/optuna/releases/tag/v3.0.0. Use :func:`~optuna.trial.Trial.suggest_float` instead.\n",
      "  C = trial.suggest_loguniform('C', 1e-3, 1e-1)\n",
      "/var/folders/gp/r_0zq_nx5pl3nmv_2z2bd6hc0000gn/T/ipykernel_91342/595498502.py:3: FutureWarning: suggest_loguniform has been deprecated in v3.0.0. This feature will be removed in v6.0.0. See https://github.com/optuna/optuna/releases/tag/v3.0.0. Use :func:`~optuna.trial.Trial.suggest_float` instead.\n",
      "  gamma = trial.suggest_loguniform('gamma', 50, 1e2)\n",
      "\u001b[32m[I 2023-09-04 13:59:02,855]\u001b[0m Trial 36 finished with value: 0.8070580399992163 and parameters: {'C': 0.035821991336400474, 'gamma': 65.86159756886441}. Best is trial 8 with value: 0.8504628704628704.\u001b[0m\n"
     ]
    },
    {
     "name": "stdout",
     "output_type": "stream",
     "text": [
      "0.8070580399992163\n"
     ]
    },
    {
     "name": "stderr",
     "output_type": "stream",
     "text": [
      "/var/folders/gp/r_0zq_nx5pl3nmv_2z2bd6hc0000gn/T/ipykernel_91342/595498502.py:2: FutureWarning: suggest_loguniform has been deprecated in v3.0.0. This feature will be removed in v6.0.0. See https://github.com/optuna/optuna/releases/tag/v3.0.0. Use :func:`~optuna.trial.Trial.suggest_float` instead.\n",
      "  C = trial.suggest_loguniform('C', 1e-3, 1e-1)\n",
      "/var/folders/gp/r_0zq_nx5pl3nmv_2z2bd6hc0000gn/T/ipykernel_91342/595498502.py:3: FutureWarning: suggest_loguniform has been deprecated in v3.0.0. This feature will be removed in v6.0.0. See https://github.com/optuna/optuna/releases/tag/v3.0.0. Use :func:`~optuna.trial.Trial.suggest_float` instead.\n",
      "  gamma = trial.suggest_loguniform('gamma', 50, 1e2)\n",
      "\u001b[32m[I 2023-09-04 13:59:06,703]\u001b[0m Trial 37 finished with value: 0.8504628704628704 and parameters: {'C': 0.0999026554311416, 'gamma': 57.7606521944235}. Best is trial 8 with value: 0.8504628704628704.\u001b[0m\n"
     ]
    },
    {
     "name": "stdout",
     "output_type": "stream",
     "text": [
      "0.8504628704628704\n"
     ]
    },
    {
     "name": "stderr",
     "output_type": "stream",
     "text": [
      "/var/folders/gp/r_0zq_nx5pl3nmv_2z2bd6hc0000gn/T/ipykernel_91342/595498502.py:2: FutureWarning: suggest_loguniform has been deprecated in v3.0.0. This feature will be removed in v6.0.0. See https://github.com/optuna/optuna/releases/tag/v3.0.0. Use :func:`~optuna.trial.Trial.suggest_float` instead.\n",
      "  C = trial.suggest_loguniform('C', 1e-3, 1e-1)\n",
      "/var/folders/gp/r_0zq_nx5pl3nmv_2z2bd6hc0000gn/T/ipykernel_91342/595498502.py:3: FutureWarning: suggest_loguniform has been deprecated in v3.0.0. This feature will be removed in v6.0.0. See https://github.com/optuna/optuna/releases/tag/v3.0.0. Use :func:`~optuna.trial.Trial.suggest_float` instead.\n",
      "  gamma = trial.suggest_loguniform('gamma', 50, 1e2)\n",
      "\u001b[32m[I 2023-09-04 13:59:10,580]\u001b[0m Trial 38 finished with value: 0.8098579851521027 and parameters: {'C': 0.07385356980788463, 'gamma': 60.39346956010901}. Best is trial 8 with value: 0.8504628704628704.\u001b[0m\n"
     ]
    },
    {
     "name": "stdout",
     "output_type": "stream",
     "text": [
      "0.8098579851521027\n"
     ]
    },
    {
     "name": "stderr",
     "output_type": "stream",
     "text": [
      "/var/folders/gp/r_0zq_nx5pl3nmv_2z2bd6hc0000gn/T/ipykernel_91342/595498502.py:2: FutureWarning: suggest_loguniform has been deprecated in v3.0.0. This feature will be removed in v6.0.0. See https://github.com/optuna/optuna/releases/tag/v3.0.0. Use :func:`~optuna.trial.Trial.suggest_float` instead.\n",
      "  C = trial.suggest_loguniform('C', 1e-3, 1e-1)\n",
      "/var/folders/gp/r_0zq_nx5pl3nmv_2z2bd6hc0000gn/T/ipykernel_91342/595498502.py:3: FutureWarning: suggest_loguniform has been deprecated in v3.0.0. This feature will be removed in v6.0.0. See https://github.com/optuna/optuna/releases/tag/v3.0.0. Use :func:`~optuna.trial.Trial.suggest_float` instead.\n",
      "  gamma = trial.suggest_loguniform('gamma', 50, 1e2)\n",
      "\u001b[32m[I 2023-09-04 13:59:14,494]\u001b[0m Trial 39 finished with value: 0.8070580399992163 and parameters: {'C': 0.050747921491831244, 'gamma': 63.045640232337576}. Best is trial 8 with value: 0.8504628704628704.\u001b[0m\n"
     ]
    },
    {
     "name": "stdout",
     "output_type": "stream",
     "text": [
      "0.8070580399992163\n"
     ]
    },
    {
     "name": "stderr",
     "output_type": "stream",
     "text": [
      "/var/folders/gp/r_0zq_nx5pl3nmv_2z2bd6hc0000gn/T/ipykernel_91342/595498502.py:2: FutureWarning: suggest_loguniform has been deprecated in v3.0.0. This feature will be removed in v6.0.0. See https://github.com/optuna/optuna/releases/tag/v3.0.0. Use :func:`~optuna.trial.Trial.suggest_float` instead.\n",
      "  C = trial.suggest_loguniform('C', 1e-3, 1e-1)\n",
      "/var/folders/gp/r_0zq_nx5pl3nmv_2z2bd6hc0000gn/T/ipykernel_91342/595498502.py:3: FutureWarning: suggest_loguniform has been deprecated in v3.0.0. This feature will be removed in v6.0.0. See https://github.com/optuna/optuna/releases/tag/v3.0.0. Use :func:`~optuna.trial.Trial.suggest_float` instead.\n",
      "  gamma = trial.suggest_loguniform('gamma', 50, 1e2)\n",
      "\u001b[32m[I 2023-09-04 13:59:18,356]\u001b[0m Trial 40 finished with value: 0.8098579851521027 and parameters: {'C': 0.07751451832592308, 'gamma': 64.38847139842515}. Best is trial 8 with value: 0.8504628704628704.\u001b[0m\n"
     ]
    },
    {
     "name": "stdout",
     "output_type": "stream",
     "text": [
      "0.8098579851521027\n"
     ]
    },
    {
     "name": "stderr",
     "output_type": "stream",
     "text": [
      "/var/folders/gp/r_0zq_nx5pl3nmv_2z2bd6hc0000gn/T/ipykernel_91342/595498502.py:2: FutureWarning: suggest_loguniform has been deprecated in v3.0.0. This feature will be removed in v6.0.0. See https://github.com/optuna/optuna/releases/tag/v3.0.0. Use :func:`~optuna.trial.Trial.suggest_float` instead.\n",
      "  C = trial.suggest_loguniform('C', 1e-3, 1e-1)\n",
      "/var/folders/gp/r_0zq_nx5pl3nmv_2z2bd6hc0000gn/T/ipykernel_91342/595498502.py:3: FutureWarning: suggest_loguniform has been deprecated in v3.0.0. This feature will be removed in v6.0.0. See https://github.com/optuna/optuna/releases/tag/v3.0.0. Use :func:`~optuna.trial.Trial.suggest_float` instead.\n",
      "  gamma = trial.suggest_loguniform('gamma', 50, 1e2)\n",
      "\u001b[32m[I 2023-09-04 13:59:22,223]\u001b[0m Trial 41 finished with value: 0.8106979295214588 and parameters: {'C': 0.08051782933519758, 'gamma': 61.39278552746945}. Best is trial 8 with value: 0.8504628704628704.\u001b[0m\n"
     ]
    },
    {
     "name": "stdout",
     "output_type": "stream",
     "text": [
      "0.8106979295214588\n"
     ]
    },
    {
     "name": "stderr",
     "output_type": "stream",
     "text": [
      "/var/folders/gp/r_0zq_nx5pl3nmv_2z2bd6hc0000gn/T/ipykernel_91342/595498502.py:2: FutureWarning: suggest_loguniform has been deprecated in v3.0.0. This feature will be removed in v6.0.0. See https://github.com/optuna/optuna/releases/tag/v3.0.0. Use :func:`~optuna.trial.Trial.suggest_float` instead.\n",
      "  C = trial.suggest_loguniform('C', 1e-3, 1e-1)\n",
      "/var/folders/gp/r_0zq_nx5pl3nmv_2z2bd6hc0000gn/T/ipykernel_91342/595498502.py:3: FutureWarning: suggest_loguniform has been deprecated in v3.0.0. This feature will be removed in v6.0.0. See https://github.com/optuna/optuna/releases/tag/v3.0.0. Use :func:`~optuna.trial.Trial.suggest_float` instead.\n",
      "  gamma = trial.suggest_loguniform('gamma', 50, 1e2)\n",
      "\u001b[32m[I 2023-09-04 13:59:26,073]\u001b[0m Trial 42 finished with value: 0.8143389943389943 and parameters: {'C': 0.09000913099833091, 'gamma': 62.18520195614051}. Best is trial 8 with value: 0.8504628704628704.\u001b[0m\n"
     ]
    },
    {
     "name": "stdout",
     "output_type": "stream",
     "text": [
      "0.8143389943389943\n"
     ]
    },
    {
     "name": "stderr",
     "output_type": "stream",
     "text": [
      "/var/folders/gp/r_0zq_nx5pl3nmv_2z2bd6hc0000gn/T/ipykernel_91342/595498502.py:2: FutureWarning: suggest_loguniform has been deprecated in v3.0.0. This feature will be removed in v6.0.0. See https://github.com/optuna/optuna/releases/tag/v3.0.0. Use :func:`~optuna.trial.Trial.suggest_float` instead.\n",
      "  C = trial.suggest_loguniform('C', 1e-3, 1e-1)\n",
      "/var/folders/gp/r_0zq_nx5pl3nmv_2z2bd6hc0000gn/T/ipykernel_91342/595498502.py:3: FutureWarning: suggest_loguniform has been deprecated in v3.0.0. This feature will be removed in v6.0.0. See https://github.com/optuna/optuna/releases/tag/v3.0.0. Use :func:`~optuna.trial.Trial.suggest_float` instead.\n",
      "  gamma = trial.suggest_loguniform('gamma', 50, 1e2)\n",
      "\u001b[32m[I 2023-09-04 13:59:29,961]\u001b[0m Trial 43 finished with value: 0.8070580399992163 and parameters: {'C': 0.059588207033430304, 'gamma': 58.35052482046191}. Best is trial 8 with value: 0.8504628704628704.\u001b[0m\n"
     ]
    },
    {
     "name": "stdout",
     "output_type": "stream",
     "text": [
      "0.8070580399992163\n"
     ]
    },
    {
     "name": "stderr",
     "output_type": "stream",
     "text": [
      "/var/folders/gp/r_0zq_nx5pl3nmv_2z2bd6hc0000gn/T/ipykernel_91342/595498502.py:2: FutureWarning: suggest_loguniform has been deprecated in v3.0.0. This feature will be removed in v6.0.0. See https://github.com/optuna/optuna/releases/tag/v3.0.0. Use :func:`~optuna.trial.Trial.suggest_float` instead.\n",
      "  C = trial.suggest_loguniform('C', 1e-3, 1e-1)\n",
      "/var/folders/gp/r_0zq_nx5pl3nmv_2z2bd6hc0000gn/T/ipykernel_91342/595498502.py:3: FutureWarning: suggest_loguniform has been deprecated in v3.0.0. This feature will be removed in v6.0.0. See https://github.com/optuna/optuna/releases/tag/v3.0.0. Use :func:`~optuna.trial.Trial.suggest_float` instead.\n",
      "  gamma = trial.suggest_loguniform('gamma', 50, 1e2)\n",
      "\u001b[32m[I 2023-09-04 13:59:33,809]\u001b[0m Trial 44 finished with value: 0.8504628704628704 and parameters: {'C': 0.09573319428857986, 'gamma': 59.72536447648337}. Best is trial 8 with value: 0.8504628704628704.\u001b[0m\n"
     ]
    },
    {
     "name": "stdout",
     "output_type": "stream",
     "text": [
      "0.8504628704628704\n"
     ]
    },
    {
     "name": "stderr",
     "output_type": "stream",
     "text": [
      "/var/folders/gp/r_0zq_nx5pl3nmv_2z2bd6hc0000gn/T/ipykernel_91342/595498502.py:2: FutureWarning: suggest_loguniform has been deprecated in v3.0.0. This feature will be removed in v6.0.0. See https://github.com/optuna/optuna/releases/tag/v3.0.0. Use :func:`~optuna.trial.Trial.suggest_float` instead.\n",
      "  C = trial.suggest_loguniform('C', 1e-3, 1e-1)\n",
      "/var/folders/gp/r_0zq_nx5pl3nmv_2z2bd6hc0000gn/T/ipykernel_91342/595498502.py:3: FutureWarning: suggest_loguniform has been deprecated in v3.0.0. This feature will be removed in v6.0.0. See https://github.com/optuna/optuna/releases/tag/v3.0.0. Use :func:`~optuna.trial.Trial.suggest_float` instead.\n",
      "  gamma = trial.suggest_loguniform('gamma', 50, 1e2)\n",
      "\u001b[32m[I 2023-09-04 13:59:37,677]\u001b[0m Trial 45 finished with value: 0.8078983761336701 and parameters: {'C': 0.07079821762333145, 'gamma': 64.64242514920566}. Best is trial 8 with value: 0.8504628704628704.\u001b[0m\n"
     ]
    },
    {
     "name": "stdout",
     "output_type": "stream",
     "text": [
      "0.8078983761336701\n"
     ]
    },
    {
     "name": "stderr",
     "output_type": "stream",
     "text": [
      "/var/folders/gp/r_0zq_nx5pl3nmv_2z2bd6hc0000gn/T/ipykernel_91342/595498502.py:2: FutureWarning: suggest_loguniform has been deprecated in v3.0.0. This feature will be removed in v6.0.0. See https://github.com/optuna/optuna/releases/tag/v3.0.0. Use :func:`~optuna.trial.Trial.suggest_float` instead.\n",
      "  C = trial.suggest_loguniform('C', 1e-3, 1e-1)\n",
      "/var/folders/gp/r_0zq_nx5pl3nmv_2z2bd6hc0000gn/T/ipykernel_91342/595498502.py:3: FutureWarning: suggest_loguniform has been deprecated in v3.0.0. This feature will be removed in v6.0.0. See https://github.com/optuna/optuna/releases/tag/v3.0.0. Use :func:`~optuna.trial.Trial.suggest_float` instead.\n",
      "  gamma = trial.suggest_loguniform('gamma', 50, 1e2)\n",
      "\u001b[32m[I 2023-09-04 13:59:41,591]\u001b[0m Trial 46 finished with value: 0.8070580399992163 and parameters: {'C': 0.051196830380004686, 'gamma': 55.804490688173544}. Best is trial 8 with value: 0.8504628704628704.\u001b[0m\n"
     ]
    },
    {
     "name": "stdout",
     "output_type": "stream",
     "text": [
      "0.8070580399992163\n"
     ]
    },
    {
     "name": "stderr",
     "output_type": "stream",
     "text": [
      "/var/folders/gp/r_0zq_nx5pl3nmv_2z2bd6hc0000gn/T/ipykernel_91342/595498502.py:2: FutureWarning: suggest_loguniform has been deprecated in v3.0.0. This feature will be removed in v6.0.0. See https://github.com/optuna/optuna/releases/tag/v3.0.0. Use :func:`~optuna.trial.Trial.suggest_float` instead.\n",
      "  C = trial.suggest_loguniform('C', 1e-3, 1e-1)\n",
      "/var/folders/gp/r_0zq_nx5pl3nmv_2z2bd6hc0000gn/T/ipykernel_91342/595498502.py:3: FutureWarning: suggest_loguniform has been deprecated in v3.0.0. This feature will be removed in v6.0.0. See https://github.com/optuna/optuna/releases/tag/v3.0.0. Use :func:`~optuna.trial.Trial.suggest_float` instead.\n",
      "  gamma = trial.suggest_loguniform('gamma', 50, 1e2)\n",
      "\u001b[32m[I 2023-09-04 13:59:45,495]\u001b[0m Trial 47 finished with value: 0.7986558539499715 and parameters: {'C': 0.010981784435862436, 'gamma': 52.909594946342644}. Best is trial 8 with value: 0.8504628704628704.\u001b[0m\n"
     ]
    },
    {
     "name": "stdout",
     "output_type": "stream",
     "text": [
      "0.7986558539499715\n"
     ]
    },
    {
     "name": "stderr",
     "output_type": "stream",
     "text": [
      "/var/folders/gp/r_0zq_nx5pl3nmv_2z2bd6hc0000gn/T/ipykernel_91342/595498502.py:2: FutureWarning: suggest_loguniform has been deprecated in v3.0.0. This feature will be removed in v6.0.0. See https://github.com/optuna/optuna/releases/tag/v3.0.0. Use :func:`~optuna.trial.Trial.suggest_float` instead.\n",
      "  C = trial.suggest_loguniform('C', 1e-3, 1e-1)\n",
      "/var/folders/gp/r_0zq_nx5pl3nmv_2z2bd6hc0000gn/T/ipykernel_91342/595498502.py:3: FutureWarning: suggest_loguniform has been deprecated in v3.0.0. This feature will be removed in v6.0.0. See https://github.com/optuna/optuna/releases/tag/v3.0.0. Use :func:`~optuna.trial.Trial.suggest_float` instead.\n",
      "  gamma = trial.suggest_loguniform('gamma', 50, 1e2)\n",
      "\u001b[32m[I 2023-09-04 13:59:49,342]\u001b[0m Trial 48 finished with value: 0.8504628704628704 and parameters: {'C': 0.0998602914818981, 'gamma': 63.322281068563456}. Best is trial 8 with value: 0.8504628704628704.\u001b[0m\n"
     ]
    },
    {
     "name": "stdout",
     "output_type": "stream",
     "text": [
      "0.8504628704628704\n"
     ]
    },
    {
     "name": "stderr",
     "output_type": "stream",
     "text": [
      "/var/folders/gp/r_0zq_nx5pl3nmv_2z2bd6hc0000gn/T/ipykernel_91342/595498502.py:2: FutureWarning: suggest_loguniform has been deprecated in v3.0.0. This feature will be removed in v6.0.0. See https://github.com/optuna/optuna/releases/tag/v3.0.0. Use :func:`~optuna.trial.Trial.suggest_float` instead.\n",
      "  C = trial.suggest_loguniform('C', 1e-3, 1e-1)\n",
      "/var/folders/gp/r_0zq_nx5pl3nmv_2z2bd6hc0000gn/T/ipykernel_91342/595498502.py:3: FutureWarning: suggest_loguniform has been deprecated in v3.0.0. This feature will be removed in v6.0.0. See https://github.com/optuna/optuna/releases/tag/v3.0.0. Use :func:`~optuna.trial.Trial.suggest_float` instead.\n",
      "  gamma = trial.suggest_loguniform('gamma', 50, 1e2)\n",
      "\u001b[32m[I 2023-09-04 13:59:53,249]\u001b[0m Trial 49 finished with value: 0.8070580399992163 and parameters: {'C': 0.03984927899866984, 'gamma': 72.27646055726485}. Best is trial 8 with value: 0.8504628704628704.\u001b[0m\n"
     ]
    },
    {
     "name": "stdout",
     "output_type": "stream",
     "text": [
      "0.8070580399992163\n"
     ]
    },
    {
     "name": "stderr",
     "output_type": "stream",
     "text": [
      "/var/folders/gp/r_0zq_nx5pl3nmv_2z2bd6hc0000gn/T/ipykernel_91342/595498502.py:2: FutureWarning: suggest_loguniform has been deprecated in v3.0.0. This feature will be removed in v6.0.0. See https://github.com/optuna/optuna/releases/tag/v3.0.0. Use :func:`~optuna.trial.Trial.suggest_float` instead.\n",
      "  C = trial.suggest_loguniform('C', 1e-3, 1e-1)\n",
      "/var/folders/gp/r_0zq_nx5pl3nmv_2z2bd6hc0000gn/T/ipykernel_91342/595498502.py:3: FutureWarning: suggest_loguniform has been deprecated in v3.0.0. This feature will be removed in v6.0.0. See https://github.com/optuna/optuna/releases/tag/v3.0.0. Use :func:`~optuna.trial.Trial.suggest_float` instead.\n",
      "  gamma = trial.suggest_loguniform('gamma', 50, 1e2)\n",
      "\u001b[32m[I 2023-09-04 13:59:57,110]\u001b[0m Trial 50 finished with value: 0.8106979295214588 and parameters: {'C': 0.08271121490857346, 'gamma': 60.354496143867}. Best is trial 8 with value: 0.8504628704628704.\u001b[0m\n"
     ]
    },
    {
     "name": "stdout",
     "output_type": "stream",
     "text": [
      "0.8106979295214588\n"
     ]
    },
    {
     "name": "stderr",
     "output_type": "stream",
     "text": [
      "/var/folders/gp/r_0zq_nx5pl3nmv_2z2bd6hc0000gn/T/ipykernel_91342/595498502.py:2: FutureWarning: suggest_loguniform has been deprecated in v3.0.0. This feature will be removed in v6.0.0. See https://github.com/optuna/optuna/releases/tag/v3.0.0. Use :func:`~optuna.trial.Trial.suggest_float` instead.\n",
      "  C = trial.suggest_loguniform('C', 1e-3, 1e-1)\n",
      "/var/folders/gp/r_0zq_nx5pl3nmv_2z2bd6hc0000gn/T/ipykernel_91342/595498502.py:3: FutureWarning: suggest_loguniform has been deprecated in v3.0.0. This feature will be removed in v6.0.0. See https://github.com/optuna/optuna/releases/tag/v3.0.0. Use :func:`~optuna.trial.Trial.suggest_float` instead.\n",
      "  gamma = trial.suggest_loguniform('gamma', 50, 1e2)\n",
      "\u001b[32m[I 2023-09-04 14:00:00,975]\u001b[0m Trial 51 finished with value: 0.8106979295214588 and parameters: {'C': 0.08438399892128, 'gamma': 59.25430613700734}. Best is trial 8 with value: 0.8504628704628704.\u001b[0m\n"
     ]
    },
    {
     "name": "stdout",
     "output_type": "stream",
     "text": [
      "0.8106979295214588\n"
     ]
    },
    {
     "name": "stderr",
     "output_type": "stream",
     "text": [
      "/var/folders/gp/r_0zq_nx5pl3nmv_2z2bd6hc0000gn/T/ipykernel_91342/595498502.py:2: FutureWarning: suggest_loguniform has been deprecated in v3.0.0. This feature will be removed in v6.0.0. See https://github.com/optuna/optuna/releases/tag/v3.0.0. Use :func:`~optuna.trial.Trial.suggest_float` instead.\n",
      "  C = trial.suggest_loguniform('C', 1e-3, 1e-1)\n",
      "/var/folders/gp/r_0zq_nx5pl3nmv_2z2bd6hc0000gn/T/ipykernel_91342/595498502.py:3: FutureWarning: suggest_loguniform has been deprecated in v3.0.0. This feature will be removed in v6.0.0. See https://github.com/optuna/optuna/releases/tag/v3.0.0. Use :func:`~optuna.trial.Trial.suggest_float` instead.\n",
      "  gamma = trial.suggest_loguniform('gamma', 50, 1e2)\n",
      "\u001b[32m[I 2023-09-04 14:00:04,845]\u001b[0m Trial 52 finished with value: 0.8078983761336701 and parameters: {'C': 0.07036674078484219, 'gamma': 57.48054417482822}. Best is trial 8 with value: 0.8504628704628704.\u001b[0m\n"
     ]
    },
    {
     "name": "stdout",
     "output_type": "stream",
     "text": [
      "0.8078983761336701\n"
     ]
    },
    {
     "name": "stderr",
     "output_type": "stream",
     "text": [
      "/var/folders/gp/r_0zq_nx5pl3nmv_2z2bd6hc0000gn/T/ipykernel_91342/595498502.py:2: FutureWarning: suggest_loguniform has been deprecated in v3.0.0. This feature will be removed in v6.0.0. See https://github.com/optuna/optuna/releases/tag/v3.0.0. Use :func:`~optuna.trial.Trial.suggest_float` instead.\n",
      "  C = trial.suggest_loguniform('C', 1e-3, 1e-1)\n",
      "/var/folders/gp/r_0zq_nx5pl3nmv_2z2bd6hc0000gn/T/ipykernel_91342/595498502.py:3: FutureWarning: suggest_loguniform has been deprecated in v3.0.0. This feature will be removed in v6.0.0. See https://github.com/optuna/optuna/releases/tag/v3.0.0. Use :func:`~optuna.trial.Trial.suggest_float` instead.\n",
      "  gamma = trial.suggest_loguniform('gamma', 50, 1e2)\n",
      "\u001b[32m[I 2023-09-04 14:00:08,752]\u001b[0m Trial 53 finished with value: 0.8070580399992163 and parameters: {'C': 0.05709127669718904, 'gamma': 61.24188276227083}. Best is trial 8 with value: 0.8504628704628704.\u001b[0m\n"
     ]
    },
    {
     "name": "stdout",
     "output_type": "stream",
     "text": [
      "0.8070580399992163\n"
     ]
    },
    {
     "name": "stderr",
     "output_type": "stream",
     "text": [
      "/var/folders/gp/r_0zq_nx5pl3nmv_2z2bd6hc0000gn/T/ipykernel_91342/595498502.py:2: FutureWarning: suggest_loguniform has been deprecated in v3.0.0. This feature will be removed in v6.0.0. See https://github.com/optuna/optuna/releases/tag/v3.0.0. Use :func:`~optuna.trial.Trial.suggest_float` instead.\n",
      "  C = trial.suggest_loguniform('C', 1e-3, 1e-1)\n",
      "/var/folders/gp/r_0zq_nx5pl3nmv_2z2bd6hc0000gn/T/ipykernel_91342/595498502.py:3: FutureWarning: suggest_loguniform has been deprecated in v3.0.0. This feature will be removed in v6.0.0. See https://github.com/optuna/optuna/releases/tag/v3.0.0. Use :func:`~optuna.trial.Trial.suggest_float` instead.\n",
      "  gamma = trial.suggest_loguniform('gamma', 50, 1e2)\n",
      "\u001b[32m[I 2023-09-04 14:00:12,607]\u001b[0m Trial 54 finished with value: 0.8504628704628704 and parameters: {'C': 0.09846365306442482, 'gamma': 58.504413405580074}. Best is trial 8 with value: 0.8504628704628704.\u001b[0m\n"
     ]
    },
    {
     "name": "stdout",
     "output_type": "stream",
     "text": [
      "0.8504628704628704\n"
     ]
    },
    {
     "name": "stderr",
     "output_type": "stream",
     "text": [
      "/var/folders/gp/r_0zq_nx5pl3nmv_2z2bd6hc0000gn/T/ipykernel_91342/595498502.py:2: FutureWarning: suggest_loguniform has been deprecated in v3.0.0. This feature will be removed in v6.0.0. See https://github.com/optuna/optuna/releases/tag/v3.0.0. Use :func:`~optuna.trial.Trial.suggest_float` instead.\n",
      "  C = trial.suggest_loguniform('C', 1e-3, 1e-1)\n",
      "/var/folders/gp/r_0zq_nx5pl3nmv_2z2bd6hc0000gn/T/ipykernel_91342/595498502.py:3: FutureWarning: suggest_loguniform has been deprecated in v3.0.0. This feature will be removed in v6.0.0. See https://github.com/optuna/optuna/releases/tag/v3.0.0. Use :func:`~optuna.trial.Trial.suggest_float` instead.\n",
      "  gamma = trial.suggest_loguniform('gamma', 50, 1e2)\n",
      "\u001b[32m[I 2023-09-04 14:00:16,479]\u001b[0m Trial 55 finished with value: 0.8078983761336701 and parameters: {'C': 0.06916052287609625, 'gamma': 66.53529543704703}. Best is trial 8 with value: 0.8504628704628704.\u001b[0m\n"
     ]
    },
    {
     "name": "stdout",
     "output_type": "stream",
     "text": [
      "0.8078983761336701\n"
     ]
    },
    {
     "name": "stderr",
     "output_type": "stream",
     "text": [
      "/var/folders/gp/r_0zq_nx5pl3nmv_2z2bd6hc0000gn/T/ipykernel_91342/595498502.py:2: FutureWarning: suggest_loguniform has been deprecated in v3.0.0. This feature will be removed in v6.0.0. See https://github.com/optuna/optuna/releases/tag/v3.0.0. Use :func:`~optuna.trial.Trial.suggest_float` instead.\n",
      "  C = trial.suggest_loguniform('C', 1e-3, 1e-1)\n",
      "/var/folders/gp/r_0zq_nx5pl3nmv_2z2bd6hc0000gn/T/ipykernel_91342/595498502.py:3: FutureWarning: suggest_loguniform has been deprecated in v3.0.0. This feature will be removed in v6.0.0. See https://github.com/optuna/optuna/releases/tag/v3.0.0. Use :func:`~optuna.trial.Trial.suggest_float` instead.\n",
      "  gamma = trial.suggest_loguniform('gamma', 50, 1e2)\n",
      "\u001b[32m[I 2023-09-04 14:00:20,330]\u001b[0m Trial 56 finished with value: 0.8106979295214588 and parameters: {'C': 0.0827006169431468, 'gamma': 62.85726817479809}. Best is trial 8 with value: 0.8504628704628704.\u001b[0m\n"
     ]
    },
    {
     "name": "stdout",
     "output_type": "stream",
     "text": [
      "0.8106979295214588\n"
     ]
    },
    {
     "name": "stderr",
     "output_type": "stream",
     "text": [
      "/var/folders/gp/r_0zq_nx5pl3nmv_2z2bd6hc0000gn/T/ipykernel_91342/595498502.py:2: FutureWarning: suggest_loguniform has been deprecated in v3.0.0. This feature will be removed in v6.0.0. See https://github.com/optuna/optuna/releases/tag/v3.0.0. Use :func:`~optuna.trial.Trial.suggest_float` instead.\n",
      "  C = trial.suggest_loguniform('C', 1e-3, 1e-1)\n",
      "/var/folders/gp/r_0zq_nx5pl3nmv_2z2bd6hc0000gn/T/ipykernel_91342/595498502.py:3: FutureWarning: suggest_loguniform has been deprecated in v3.0.0. This feature will be removed in v6.0.0. See https://github.com/optuna/optuna/releases/tag/v3.0.0. Use :func:`~optuna.trial.Trial.suggest_float` instead.\n",
      "  gamma = trial.suggest_loguniform('gamma', 50, 1e2)\n",
      "\u001b[32m[I 2023-09-04 14:00:24,248]\u001b[0m Trial 57 finished with value: 0.8070580399992163 and parameters: {'C': 0.05238882176751011, 'gamma': 54.903091148597454}. Best is trial 8 with value: 0.8504628704628704.\u001b[0m\n"
     ]
    },
    {
     "name": "stdout",
     "output_type": "stream",
     "text": [
      "0.8070580399992163\n"
     ]
    },
    {
     "name": "stderr",
     "output_type": "stream",
     "text": [
      "/var/folders/gp/r_0zq_nx5pl3nmv_2z2bd6hc0000gn/T/ipykernel_91342/595498502.py:2: FutureWarning: suggest_loguniform has been deprecated in v3.0.0. This feature will be removed in v6.0.0. See https://github.com/optuna/optuna/releases/tag/v3.0.0. Use :func:`~optuna.trial.Trial.suggest_float` instead.\n",
      "  C = trial.suggest_loguniform('C', 1e-3, 1e-1)\n",
      "/var/folders/gp/r_0zq_nx5pl3nmv_2z2bd6hc0000gn/T/ipykernel_91342/595498502.py:3: FutureWarning: suggest_loguniform has been deprecated in v3.0.0. This feature will be removed in v6.0.0. See https://github.com/optuna/optuna/releases/tag/v3.0.0. Use :func:`~optuna.trial.Trial.suggest_float` instead.\n",
      "  gamma = trial.suggest_loguniform('gamma', 50, 1e2)\n",
      "\u001b[32m[I 2023-09-04 14:00:28,128]\u001b[0m Trial 58 finished with value: 0.8070580399992163 and parameters: {'C': 0.06378067842329316, 'gamma': 63.6636569733764}. Best is trial 8 with value: 0.8504628704628704.\u001b[0m\n"
     ]
    },
    {
     "name": "stdout",
     "output_type": "stream",
     "text": [
      "0.8070580399992163\n"
     ]
    },
    {
     "name": "stderr",
     "output_type": "stream",
     "text": [
      "/var/folders/gp/r_0zq_nx5pl3nmv_2z2bd6hc0000gn/T/ipykernel_91342/595498502.py:2: FutureWarning: suggest_loguniform has been deprecated in v3.0.0. This feature will be removed in v6.0.0. See https://github.com/optuna/optuna/releases/tag/v3.0.0. Use :func:`~optuna.trial.Trial.suggest_float` instead.\n",
      "  C = trial.suggest_loguniform('C', 1e-3, 1e-1)\n",
      "/var/folders/gp/r_0zq_nx5pl3nmv_2z2bd6hc0000gn/T/ipykernel_91342/595498502.py:3: FutureWarning: suggest_loguniform has been deprecated in v3.0.0. This feature will be removed in v6.0.0. See https://github.com/optuna/optuna/releases/tag/v3.0.0. Use :func:`~optuna.trial.Trial.suggest_float` instead.\n",
      "  gamma = trial.suggest_loguniform('gamma', 50, 1e2)\n",
      "\u001b[32m[I 2023-09-04 14:00:32,042]\u001b[0m Trial 59 finished with value: 0.8070580399992163 and parameters: {'C': 0.044249495256496685, 'gamma': 56.74304819355719}. Best is trial 8 with value: 0.8504628704628704.\u001b[0m\n"
     ]
    },
    {
     "name": "stdout",
     "output_type": "stream",
     "text": [
      "0.8070580399992163\n"
     ]
    },
    {
     "name": "stderr",
     "output_type": "stream",
     "text": [
      "/var/folders/gp/r_0zq_nx5pl3nmv_2z2bd6hc0000gn/T/ipykernel_91342/595498502.py:2: FutureWarning: suggest_loguniform has been deprecated in v3.0.0. This feature will be removed in v6.0.0. See https://github.com/optuna/optuna/releases/tag/v3.0.0. Use :func:`~optuna.trial.Trial.suggest_float` instead.\n",
      "  C = trial.suggest_loguniform('C', 1e-3, 1e-1)\n",
      "/var/folders/gp/r_0zq_nx5pl3nmv_2z2bd6hc0000gn/T/ipykernel_91342/595498502.py:3: FutureWarning: suggest_loguniform has been deprecated in v3.0.0. This feature will be removed in v6.0.0. See https://github.com/optuna/optuna/releases/tag/v3.0.0. Use :func:`~optuna.trial.Trial.suggest_float` instead.\n",
      "  gamma = trial.suggest_loguniform('gamma', 50, 1e2)\n",
      "\u001b[32m[I 2023-09-04 14:00:35,901]\u001b[0m Trial 60 finished with value: 0.8143389943389943 and parameters: {'C': 0.08787151959451635, 'gamma': 59.03355156567778}. Best is trial 8 with value: 0.8504628704628704.\u001b[0m\n"
     ]
    },
    {
     "name": "stdout",
     "output_type": "stream",
     "text": [
      "0.8143389943389943\n"
     ]
    },
    {
     "name": "stderr",
     "output_type": "stream",
     "text": [
      "/var/folders/gp/r_0zq_nx5pl3nmv_2z2bd6hc0000gn/T/ipykernel_91342/595498502.py:2: FutureWarning: suggest_loguniform has been deprecated in v3.0.0. This feature will be removed in v6.0.0. See https://github.com/optuna/optuna/releases/tag/v3.0.0. Use :func:`~optuna.trial.Trial.suggest_float` instead.\n",
      "  C = trial.suggest_loguniform('C', 1e-3, 1e-1)\n",
      "/var/folders/gp/r_0zq_nx5pl3nmv_2z2bd6hc0000gn/T/ipykernel_91342/595498502.py:3: FutureWarning: suggest_loguniform has been deprecated in v3.0.0. This feature will be removed in v6.0.0. See https://github.com/optuna/optuna/releases/tag/v3.0.0. Use :func:`~optuna.trial.Trial.suggest_float` instead.\n",
      "  gamma = trial.suggest_loguniform('gamma', 50, 1e2)\n",
      "\u001b[32m[I 2023-09-04 14:00:39,751]\u001b[0m Trial 61 finished with value: 0.8143389943389943 and parameters: {'C': 0.090448169910416, 'gamma': 61.693525039072036}. Best is trial 8 with value: 0.8504628704628704.\u001b[0m\n"
     ]
    },
    {
     "name": "stdout",
     "output_type": "stream",
     "text": [
      "0.8143389943389943\n"
     ]
    },
    {
     "name": "stderr",
     "output_type": "stream",
     "text": [
      "/var/folders/gp/r_0zq_nx5pl3nmv_2z2bd6hc0000gn/T/ipykernel_91342/595498502.py:2: FutureWarning: suggest_loguniform has been deprecated in v3.0.0. This feature will be removed in v6.0.0. See https://github.com/optuna/optuna/releases/tag/v3.0.0. Use :func:`~optuna.trial.Trial.suggest_float` instead.\n",
      "  C = trial.suggest_loguniform('C', 1e-3, 1e-1)\n",
      "/var/folders/gp/r_0zq_nx5pl3nmv_2z2bd6hc0000gn/T/ipykernel_91342/595498502.py:3: FutureWarning: suggest_loguniform has been deprecated in v3.0.0. This feature will be removed in v6.0.0. See https://github.com/optuna/optuna/releases/tag/v3.0.0. Use :func:`~optuna.trial.Trial.suggest_float` instead.\n",
      "  gamma = trial.suggest_loguniform('gamma', 50, 1e2)\n",
      "\u001b[32m[I 2023-09-04 14:00:43,606]\u001b[0m Trial 62 finished with value: 0.8437401813872402 and parameters: {'C': 0.09551440971031525, 'gamma': 60.457412618060744}. Best is trial 8 with value: 0.8504628704628704.\u001b[0m\n"
     ]
    },
    {
     "name": "stdout",
     "output_type": "stream",
     "text": [
      "0.8437401813872402\n"
     ]
    },
    {
     "name": "stderr",
     "output_type": "stream",
     "text": [
      "/var/folders/gp/r_0zq_nx5pl3nmv_2z2bd6hc0000gn/T/ipykernel_91342/595498502.py:2: FutureWarning: suggest_loguniform has been deprecated in v3.0.0. This feature will be removed in v6.0.0. See https://github.com/optuna/optuna/releases/tag/v3.0.0. Use :func:`~optuna.trial.Trial.suggest_float` instead.\n",
      "  C = trial.suggest_loguniform('C', 1e-3, 1e-1)\n",
      "/var/folders/gp/r_0zq_nx5pl3nmv_2z2bd6hc0000gn/T/ipykernel_91342/595498502.py:3: FutureWarning: suggest_loguniform has been deprecated in v3.0.0. This feature will be removed in v6.0.0. See https://github.com/optuna/optuna/releases/tag/v3.0.0. Use :func:`~optuna.trial.Trial.suggest_float` instead.\n",
      "  gamma = trial.suggest_loguniform('gamma', 50, 1e2)\n",
      "\u001b[32m[I 2023-09-04 14:00:47,446]\u001b[0m Trial 63 finished with value: 0.8504628704628704 and parameters: {'C': 0.09958352474129455, 'gamma': 62.3386088601815}. Best is trial 8 with value: 0.8504628704628704.\u001b[0m\n"
     ]
    },
    {
     "name": "stdout",
     "output_type": "stream",
     "text": [
      "0.8504628704628704\n"
     ]
    },
    {
     "name": "stderr",
     "output_type": "stream",
     "text": [
      "/var/folders/gp/r_0zq_nx5pl3nmv_2z2bd6hc0000gn/T/ipykernel_91342/595498502.py:2: FutureWarning: suggest_loguniform has been deprecated in v3.0.0. This feature will be removed in v6.0.0. See https://github.com/optuna/optuna/releases/tag/v3.0.0. Use :func:`~optuna.trial.Trial.suggest_float` instead.\n",
      "  C = trial.suggest_loguniform('C', 1e-3, 1e-1)\n",
      "/var/folders/gp/r_0zq_nx5pl3nmv_2z2bd6hc0000gn/T/ipykernel_91342/595498502.py:3: FutureWarning: suggest_loguniform has been deprecated in v3.0.0. This feature will be removed in v6.0.0. See https://github.com/optuna/optuna/releases/tag/v3.0.0. Use :func:`~optuna.trial.Trial.suggest_float` instead.\n",
      "  gamma = trial.suggest_loguniform('gamma', 50, 1e2)\n",
      "\u001b[32m[I 2023-09-04 14:00:51,321]\u001b[0m Trial 64 finished with value: 0.8070580399992163 and parameters: {'C': 0.06373329911919753, 'gamma': 64.48464907569246}. Best is trial 8 with value: 0.8504628704628704.\u001b[0m\n"
     ]
    },
    {
     "name": "stdout",
     "output_type": "stream",
     "text": [
      "0.8070580399992163\n"
     ]
    },
    {
     "name": "stderr",
     "output_type": "stream",
     "text": [
      "/var/folders/gp/r_0zq_nx5pl3nmv_2z2bd6hc0000gn/T/ipykernel_91342/595498502.py:2: FutureWarning: suggest_loguniform has been deprecated in v3.0.0. This feature will be removed in v6.0.0. See https://github.com/optuna/optuna/releases/tag/v3.0.0. Use :func:`~optuna.trial.Trial.suggest_float` instead.\n",
      "  C = trial.suggest_loguniform('C', 1e-3, 1e-1)\n",
      "/var/folders/gp/r_0zq_nx5pl3nmv_2z2bd6hc0000gn/T/ipykernel_91342/595498502.py:3: FutureWarning: suggest_loguniform has been deprecated in v3.0.0. This feature will be removed in v6.0.0. See https://github.com/optuna/optuna/releases/tag/v3.0.0. Use :func:`~optuna.trial.Trial.suggest_float` instead.\n",
      "  gamma = trial.suggest_loguniform('gamma', 50, 1e2)\n",
      "\u001b[32m[I 2023-09-04 14:00:55,194]\u001b[0m Trial 65 finished with value: 0.8098579851521027 and parameters: {'C': 0.07404571916874839, 'gamma': 66.00325148911611}. Best is trial 8 with value: 0.8504628704628704.\u001b[0m\n"
     ]
    },
    {
     "name": "stdout",
     "output_type": "stream",
     "text": [
      "0.8098579851521027\n"
     ]
    },
    {
     "name": "stderr",
     "output_type": "stream",
     "text": [
      "/var/folders/gp/r_0zq_nx5pl3nmv_2z2bd6hc0000gn/T/ipykernel_91342/595498502.py:2: FutureWarning: suggest_loguniform has been deprecated in v3.0.0. This feature will be removed in v6.0.0. See https://github.com/optuna/optuna/releases/tag/v3.0.0. Use :func:`~optuna.trial.Trial.suggest_float` instead.\n",
      "  C = trial.suggest_loguniform('C', 1e-3, 1e-1)\n",
      "/var/folders/gp/r_0zq_nx5pl3nmv_2z2bd6hc0000gn/T/ipykernel_91342/595498502.py:3: FutureWarning: suggest_loguniform has been deprecated in v3.0.0. This feature will be removed in v6.0.0. See https://github.com/optuna/optuna/releases/tag/v3.0.0. Use :func:`~optuna.trial.Trial.suggest_float` instead.\n",
      "  gamma = trial.suggest_loguniform('gamma', 50, 1e2)\n",
      "\u001b[32m[I 2023-09-04 14:00:59,116]\u001b[0m Trial 66 finished with value: 0.8070580399992163 and parameters: {'C': 0.0553989269340574, 'gamma': 67.96570805406316}. Best is trial 8 with value: 0.8504628704628704.\u001b[0m\n"
     ]
    },
    {
     "name": "stdout",
     "output_type": "stream",
     "text": [
      "0.8070580399992163\n"
     ]
    },
    {
     "name": "stderr",
     "output_type": "stream",
     "text": [
      "/var/folders/gp/r_0zq_nx5pl3nmv_2z2bd6hc0000gn/T/ipykernel_91342/595498502.py:2: FutureWarning: suggest_loguniform has been deprecated in v3.0.0. This feature will be removed in v6.0.0. See https://github.com/optuna/optuna/releases/tag/v3.0.0. Use :func:`~optuna.trial.Trial.suggest_float` instead.\n",
      "  C = trial.suggest_loguniform('C', 1e-3, 1e-1)\n",
      "/var/folders/gp/r_0zq_nx5pl3nmv_2z2bd6hc0000gn/T/ipykernel_91342/595498502.py:3: FutureWarning: suggest_loguniform has been deprecated in v3.0.0. This feature will be removed in v6.0.0. See https://github.com/optuna/optuna/releases/tag/v3.0.0. Use :func:`~optuna.trial.Trial.suggest_float` instead.\n",
      "  gamma = trial.suggest_loguniform('gamma', 50, 1e2)\n",
      "\u001b[32m[I 2023-09-04 14:01:02,982]\u001b[0m Trial 67 finished with value: 0.8106979295214588 and parameters: {'C': 0.08197841472996552, 'gamma': 60.832500515447315}. Best is trial 8 with value: 0.8504628704628704.\u001b[0m\n"
     ]
    },
    {
     "name": "stdout",
     "output_type": "stream",
     "text": [
      "0.8106979295214588\n"
     ]
    },
    {
     "name": "stderr",
     "output_type": "stream",
     "text": [
      "/var/folders/gp/r_0zq_nx5pl3nmv_2z2bd6hc0000gn/T/ipykernel_91342/595498502.py:2: FutureWarning: suggest_loguniform has been deprecated in v3.0.0. This feature will be removed in v6.0.0. See https://github.com/optuna/optuna/releases/tag/v3.0.0. Use :func:`~optuna.trial.Trial.suggest_float` instead.\n",
      "  C = trial.suggest_loguniform('C', 1e-3, 1e-1)\n",
      "/var/folders/gp/r_0zq_nx5pl3nmv_2z2bd6hc0000gn/T/ipykernel_91342/595498502.py:3: FutureWarning: suggest_loguniform has been deprecated in v3.0.0. This feature will be removed in v6.0.0. See https://github.com/optuna/optuna/releases/tag/v3.0.0. Use :func:`~optuna.trial.Trial.suggest_float` instead.\n",
      "  gamma = trial.suggest_loguniform('gamma', 50, 1e2)\n",
      "\u001b[32m[I 2023-09-04 14:01:06,854]\u001b[0m Trial 68 finished with value: 0.8078983761336701 and parameters: {'C': 0.06936114674249841, 'gamma': 65.20818912142134}. Best is trial 8 with value: 0.8504628704628704.\u001b[0m\n"
     ]
    },
    {
     "name": "stdout",
     "output_type": "stream",
     "text": [
      "0.8078983761336701\n"
     ]
    },
    {
     "name": "stderr",
     "output_type": "stream",
     "text": [
      "/var/folders/gp/r_0zq_nx5pl3nmv_2z2bd6hc0000gn/T/ipykernel_91342/595498502.py:2: FutureWarning: suggest_loguniform has been deprecated in v3.0.0. This feature will be removed in v6.0.0. See https://github.com/optuna/optuna/releases/tag/v3.0.0. Use :func:`~optuna.trial.Trial.suggest_float` instead.\n",
      "  C = trial.suggest_loguniform('C', 1e-3, 1e-1)\n",
      "/var/folders/gp/r_0zq_nx5pl3nmv_2z2bd6hc0000gn/T/ipykernel_91342/595498502.py:3: FutureWarning: suggest_loguniform has been deprecated in v3.0.0. This feature will be removed in v6.0.0. See https://github.com/optuna/optuna/releases/tag/v3.0.0. Use :func:`~optuna.trial.Trial.suggest_float` instead.\n",
      "  gamma = trial.suggest_loguniform('gamma', 50, 1e2)\n",
      "\u001b[32m[I 2023-09-04 14:01:10,735]\u001b[0m Trial 69 finished with value: 0.8070580399992163 and parameters: {'C': 0.05856574052380605, 'gamma': 62.36371439288532}. Best is trial 8 with value: 0.8504628704628704.\u001b[0m\n"
     ]
    },
    {
     "name": "stdout",
     "output_type": "stream",
     "text": [
      "0.8070580399992163\n"
     ]
    },
    {
     "name": "stderr",
     "output_type": "stream",
     "text": [
      "/var/folders/gp/r_0zq_nx5pl3nmv_2z2bd6hc0000gn/T/ipykernel_91342/595498502.py:2: FutureWarning: suggest_loguniform has been deprecated in v3.0.0. This feature will be removed in v6.0.0. See https://github.com/optuna/optuna/releases/tag/v3.0.0. Use :func:`~optuna.trial.Trial.suggest_float` instead.\n",
      "  C = trial.suggest_loguniform('C', 1e-3, 1e-1)\n",
      "/var/folders/gp/r_0zq_nx5pl3nmv_2z2bd6hc0000gn/T/ipykernel_91342/595498502.py:3: FutureWarning: suggest_loguniform has been deprecated in v3.0.0. This feature will be removed in v6.0.0. See https://github.com/optuna/optuna/releases/tag/v3.0.0. Use :func:`~optuna.trial.Trial.suggest_float` instead.\n",
      "  gamma = trial.suggest_loguniform('gamma', 50, 1e2)\n",
      "\u001b[32m[I 2023-09-04 14:01:14,618]\u001b[0m Trial 70 finished with value: 0.8106979295214588 and parameters: {'C': 0.08245404921962955, 'gamma': 58.16702292385708}. Best is trial 8 with value: 0.8504628704628704.\u001b[0m\n"
     ]
    },
    {
     "name": "stdout",
     "output_type": "stream",
     "text": [
      "0.8106979295214588\n"
     ]
    },
    {
     "name": "stderr",
     "output_type": "stream",
     "text": [
      "/var/folders/gp/r_0zq_nx5pl3nmv_2z2bd6hc0000gn/T/ipykernel_91342/595498502.py:2: FutureWarning: suggest_loguniform has been deprecated in v3.0.0. This feature will be removed in v6.0.0. See https://github.com/optuna/optuna/releases/tag/v3.0.0. Use :func:`~optuna.trial.Trial.suggest_float` instead.\n",
      "  C = trial.suggest_loguniform('C', 1e-3, 1e-1)\n",
      "/var/folders/gp/r_0zq_nx5pl3nmv_2z2bd6hc0000gn/T/ipykernel_91342/595498502.py:3: FutureWarning: suggest_loguniform has been deprecated in v3.0.0. This feature will be removed in v6.0.0. See https://github.com/optuna/optuna/releases/tag/v3.0.0. Use :func:`~optuna.trial.Trial.suggest_float` instead.\n",
      "  gamma = trial.suggest_loguniform('gamma', 50, 1e2)\n",
      "\u001b[32m[I 2023-09-04 14:01:18,462]\u001b[0m Trial 71 finished with value: 0.8504628704628704 and parameters: {'C': 0.09979986977222577, 'gamma': 57.14311047381268}. Best is trial 8 with value: 0.8504628704628704.\u001b[0m\n"
     ]
    },
    {
     "name": "stdout",
     "output_type": "stream",
     "text": [
      "0.8504628704628704\n"
     ]
    },
    {
     "name": "stderr",
     "output_type": "stream",
     "text": [
      "/var/folders/gp/r_0zq_nx5pl3nmv_2z2bd6hc0000gn/T/ipykernel_91342/595498502.py:2: FutureWarning: suggest_loguniform has been deprecated in v3.0.0. This feature will be removed in v6.0.0. See https://github.com/optuna/optuna/releases/tag/v3.0.0. Use :func:`~optuna.trial.Trial.suggest_float` instead.\n",
      "  C = trial.suggest_loguniform('C', 1e-3, 1e-1)\n",
      "/var/folders/gp/r_0zq_nx5pl3nmv_2z2bd6hc0000gn/T/ipykernel_91342/595498502.py:3: FutureWarning: suggest_loguniform has been deprecated in v3.0.0. This feature will be removed in v6.0.0. See https://github.com/optuna/optuna/releases/tag/v3.0.0. Use :func:`~optuna.trial.Trial.suggest_float` instead.\n",
      "  gamma = trial.suggest_loguniform('gamma', 50, 1e2)\n",
      "\u001b[32m[I 2023-09-04 14:01:22,316]\u001b[0m Trial 72 finished with value: 0.8504628704628704 and parameters: {'C': 0.09991741463256153, 'gamma': 59.45840787947805}. Best is trial 8 with value: 0.8504628704628704.\u001b[0m\n"
     ]
    },
    {
     "name": "stdout",
     "output_type": "stream",
     "text": [
      "0.8504628704628704\n"
     ]
    },
    {
     "name": "stderr",
     "output_type": "stream",
     "text": [
      "/var/folders/gp/r_0zq_nx5pl3nmv_2z2bd6hc0000gn/T/ipykernel_91342/595498502.py:2: FutureWarning: suggest_loguniform has been deprecated in v3.0.0. This feature will be removed in v6.0.0. See https://github.com/optuna/optuna/releases/tag/v3.0.0. Use :func:`~optuna.trial.Trial.suggest_float` instead.\n",
      "  C = trial.suggest_loguniform('C', 1e-3, 1e-1)\n",
      "/var/folders/gp/r_0zq_nx5pl3nmv_2z2bd6hc0000gn/T/ipykernel_91342/595498502.py:3: FutureWarning: suggest_loguniform has been deprecated in v3.0.0. This feature will be removed in v6.0.0. See https://github.com/optuna/optuna/releases/tag/v3.0.0. Use :func:`~optuna.trial.Trial.suggest_float` instead.\n",
      "  gamma = trial.suggest_loguniform('gamma', 50, 1e2)\n",
      "\u001b[32m[I 2023-09-04 14:01:26,191]\u001b[0m Trial 73 finished with value: 0.8098579851521027 and parameters: {'C': 0.07495823160780468, 'gamma': 58.0875781326674}. Best is trial 8 with value: 0.8504628704628704.\u001b[0m\n"
     ]
    },
    {
     "name": "stdout",
     "output_type": "stream",
     "text": [
      "0.8098579851521027\n"
     ]
    },
    {
     "name": "stderr",
     "output_type": "stream",
     "text": [
      "/var/folders/gp/r_0zq_nx5pl3nmv_2z2bd6hc0000gn/T/ipykernel_91342/595498502.py:2: FutureWarning: suggest_loguniform has been deprecated in v3.0.0. This feature will be removed in v6.0.0. See https://github.com/optuna/optuna/releases/tag/v3.0.0. Use :func:`~optuna.trial.Trial.suggest_float` instead.\n",
      "  C = trial.suggest_loguniform('C', 1e-3, 1e-1)\n",
      "/var/folders/gp/r_0zq_nx5pl3nmv_2z2bd6hc0000gn/T/ipykernel_91342/595498502.py:3: FutureWarning: suggest_loguniform has been deprecated in v3.0.0. This feature will be removed in v6.0.0. See https://github.com/optuna/optuna/releases/tag/v3.0.0. Use :func:`~optuna.trial.Trial.suggest_float` instead.\n",
      "  gamma = trial.suggest_loguniform('gamma', 50, 1e2)\n",
      "\u001b[32m[I 2023-09-04 14:01:30,044]\u001b[0m Trial 74 finished with value: 0.8143389943389943 and parameters: {'C': 0.0884361050879406, 'gamma': 63.78967453573748}. Best is trial 8 with value: 0.8504628704628704.\u001b[0m\n"
     ]
    },
    {
     "name": "stdout",
     "output_type": "stream",
     "text": [
      "0.8143389943389943\n"
     ]
    },
    {
     "name": "stderr",
     "output_type": "stream",
     "text": [
      "/var/folders/gp/r_0zq_nx5pl3nmv_2z2bd6hc0000gn/T/ipykernel_91342/595498502.py:2: FutureWarning: suggest_loguniform has been deprecated in v3.0.0. This feature will be removed in v6.0.0. See https://github.com/optuna/optuna/releases/tag/v3.0.0. Use :func:`~optuna.trial.Trial.suggest_float` instead.\n",
      "  C = trial.suggest_loguniform('C', 1e-3, 1e-1)\n",
      "/var/folders/gp/r_0zq_nx5pl3nmv_2z2bd6hc0000gn/T/ipykernel_91342/595498502.py:3: FutureWarning: suggest_loguniform has been deprecated in v3.0.0. This feature will be removed in v6.0.0. See https://github.com/optuna/optuna/releases/tag/v3.0.0. Use :func:`~optuna.trial.Trial.suggest_float` instead.\n",
      "  gamma = trial.suggest_loguniform('gamma', 50, 1e2)\n",
      "\u001b[32m[I 2023-09-04 14:01:33,927]\u001b[0m Trial 75 finished with value: 0.8078983761336701 and parameters: {'C': 0.06832194906839284, 'gamma': 60.33329186177663}. Best is trial 8 with value: 0.8504628704628704.\u001b[0m\n"
     ]
    },
    {
     "name": "stdout",
     "output_type": "stream",
     "text": [
      "0.8078983761336701\n"
     ]
    },
    {
     "name": "stderr",
     "output_type": "stream",
     "text": [
      "/var/folders/gp/r_0zq_nx5pl3nmv_2z2bd6hc0000gn/T/ipykernel_91342/595498502.py:2: FutureWarning: suggest_loguniform has been deprecated in v3.0.0. This feature will be removed in v6.0.0. See https://github.com/optuna/optuna/releases/tag/v3.0.0. Use :func:`~optuna.trial.Trial.suggest_float` instead.\n",
      "  C = trial.suggest_loguniform('C', 1e-3, 1e-1)\n",
      "/var/folders/gp/r_0zq_nx5pl3nmv_2z2bd6hc0000gn/T/ipykernel_91342/595498502.py:3: FutureWarning: suggest_loguniform has been deprecated in v3.0.0. This feature will be removed in v6.0.0. See https://github.com/optuna/optuna/releases/tag/v3.0.0. Use :func:`~optuna.trial.Trial.suggest_float` instead.\n",
      "  gamma = trial.suggest_loguniform('gamma', 50, 1e2)\n",
      "\u001b[32m[I 2023-09-04 14:01:37,779]\u001b[0m Trial 76 finished with value: 0.8118179859356329 and parameters: {'C': 0.085312809881352, 'gamma': 61.945361412430124}. Best is trial 8 with value: 0.8504628704628704.\u001b[0m\n"
     ]
    },
    {
     "name": "stdout",
     "output_type": "stream",
     "text": [
      "0.8118179859356329\n"
     ]
    },
    {
     "name": "stderr",
     "output_type": "stream",
     "text": [
      "/var/folders/gp/r_0zq_nx5pl3nmv_2z2bd6hc0000gn/T/ipykernel_91342/595498502.py:2: FutureWarning: suggest_loguniform has been deprecated in v3.0.0. This feature will be removed in v6.0.0. See https://github.com/optuna/optuna/releases/tag/v3.0.0. Use :func:`~optuna.trial.Trial.suggest_float` instead.\n",
      "  C = trial.suggest_loguniform('C', 1e-3, 1e-1)\n",
      "/var/folders/gp/r_0zq_nx5pl3nmv_2z2bd6hc0000gn/T/ipykernel_91342/595498502.py:3: FutureWarning: suggest_loguniform has been deprecated in v3.0.0. This feature will be removed in v6.0.0. See https://github.com/optuna/optuna/releases/tag/v3.0.0. Use :func:`~optuna.trial.Trial.suggest_float` instead.\n",
      "  gamma = trial.suggest_loguniform('gamma', 50, 1e2)\n",
      "\u001b[32m[I 2023-09-04 14:01:41,660]\u001b[0m Trial 77 finished with value: 0.8070580399992163 and parameters: {'C': 0.06309871836588822, 'gamma': 56.05250519256167}. Best is trial 8 with value: 0.8504628704628704.\u001b[0m\n"
     ]
    },
    {
     "name": "stdout",
     "output_type": "stream",
     "text": [
      "0.8070580399992163\n"
     ]
    },
    {
     "name": "stderr",
     "output_type": "stream",
     "text": [
      "/var/folders/gp/r_0zq_nx5pl3nmv_2z2bd6hc0000gn/T/ipykernel_91342/595498502.py:2: FutureWarning: suggest_loguniform has been deprecated in v3.0.0. This feature will be removed in v6.0.0. See https://github.com/optuna/optuna/releases/tag/v3.0.0. Use :func:`~optuna.trial.Trial.suggest_float` instead.\n",
      "  C = trial.suggest_loguniform('C', 1e-3, 1e-1)\n",
      "/var/folders/gp/r_0zq_nx5pl3nmv_2z2bd6hc0000gn/T/ipykernel_91342/595498502.py:3: FutureWarning: suggest_loguniform has been deprecated in v3.0.0. This feature will be removed in v6.0.0. See https://github.com/optuna/optuna/releases/tag/v3.0.0. Use :func:`~optuna.trial.Trial.suggest_float` instead.\n",
      "  gamma = trial.suggest_loguniform('gamma', 50, 1e2)\n",
      "\u001b[32m[I 2023-09-04 14:01:45,521]\u001b[0m Trial 78 finished with value: 0.8098579851521027 and parameters: {'C': 0.07588473867547105, 'gamma': 63.26391534858526}. Best is trial 8 with value: 0.8504628704628704.\u001b[0m\n"
     ]
    },
    {
     "name": "stdout",
     "output_type": "stream",
     "text": [
      "0.8098579851521027\n"
     ]
    },
    {
     "name": "stderr",
     "output_type": "stream",
     "text": [
      "/var/folders/gp/r_0zq_nx5pl3nmv_2z2bd6hc0000gn/T/ipykernel_91342/595498502.py:2: FutureWarning: suggest_loguniform has been deprecated in v3.0.0. This feature will be removed in v6.0.0. See https://github.com/optuna/optuna/releases/tag/v3.0.0. Use :func:`~optuna.trial.Trial.suggest_float` instead.\n",
      "  C = trial.suggest_loguniform('C', 1e-3, 1e-1)\n",
      "/var/folders/gp/r_0zq_nx5pl3nmv_2z2bd6hc0000gn/T/ipykernel_91342/595498502.py:3: FutureWarning: suggest_loguniform has been deprecated in v3.0.0. This feature will be removed in v6.0.0. See https://github.com/optuna/optuna/releases/tag/v3.0.0. Use :func:`~optuna.trial.Trial.suggest_float` instead.\n",
      "  gamma = trial.suggest_loguniform('gamma', 50, 1e2)\n",
      "\u001b[32m[I 2023-09-04 14:01:49,428]\u001b[0m Trial 79 finished with value: 0.8070580399992163 and parameters: {'C': 0.05262169175203053, 'gamma': 67.57039951150193}. Best is trial 8 with value: 0.8504628704628704.\u001b[0m\n"
     ]
    },
    {
     "name": "stdout",
     "output_type": "stream",
     "text": [
      "0.8070580399992163\n"
     ]
    },
    {
     "name": "stderr",
     "output_type": "stream",
     "text": [
      "/var/folders/gp/r_0zq_nx5pl3nmv_2z2bd6hc0000gn/T/ipykernel_91342/595498502.py:2: FutureWarning: suggest_loguniform has been deprecated in v3.0.0. This feature will be removed in v6.0.0. See https://github.com/optuna/optuna/releases/tag/v3.0.0. Use :func:`~optuna.trial.Trial.suggest_float` instead.\n",
      "  C = trial.suggest_loguniform('C', 1e-3, 1e-1)\n",
      "/var/folders/gp/r_0zq_nx5pl3nmv_2z2bd6hc0000gn/T/ipykernel_91342/595498502.py:3: FutureWarning: suggest_loguniform has been deprecated in v3.0.0. This feature will be removed in v6.0.0. See https://github.com/optuna/optuna/releases/tag/v3.0.0. Use :func:`~optuna.trial.Trial.suggest_float` instead.\n",
      "  gamma = trial.suggest_loguniform('gamma', 50, 1e2)\n",
      "\u001b[32m[I 2023-09-04 14:01:53,291]\u001b[0m Trial 80 finished with value: 0.8118179859356329 and parameters: {'C': 0.08593562157322066, 'gamma': 59.86116180865593}. Best is trial 8 with value: 0.8504628704628704.\u001b[0m\n"
     ]
    },
    {
     "name": "stdout",
     "output_type": "stream",
     "text": [
      "0.8118179859356329\n"
     ]
    },
    {
     "name": "stderr",
     "output_type": "stream",
     "text": [
      "/var/folders/gp/r_0zq_nx5pl3nmv_2z2bd6hc0000gn/T/ipykernel_91342/595498502.py:2: FutureWarning: suggest_loguniform has been deprecated in v3.0.0. This feature will be removed in v6.0.0. See https://github.com/optuna/optuna/releases/tag/v3.0.0. Use :func:`~optuna.trial.Trial.suggest_float` instead.\n",
      "  C = trial.suggest_loguniform('C', 1e-3, 1e-1)\n",
      "/var/folders/gp/r_0zq_nx5pl3nmv_2z2bd6hc0000gn/T/ipykernel_91342/595498502.py:3: FutureWarning: suggest_loguniform has been deprecated in v3.0.0. This feature will be removed in v6.0.0. See https://github.com/optuna/optuna/releases/tag/v3.0.0. Use :func:`~optuna.trial.Trial.suggest_float` instead.\n",
      "  gamma = trial.suggest_loguniform('gamma', 50, 1e2)\n",
      "\u001b[32m[I 2023-09-04 14:01:57,152]\u001b[0m Trial 81 finished with value: 0.8143389943389943 and parameters: {'C': 0.09147958567537118, 'gamma': 59.35584684760637}. Best is trial 8 with value: 0.8504628704628704.\u001b[0m\n"
     ]
    },
    {
     "name": "stdout",
     "output_type": "stream",
     "text": [
      "0.8143389943389943\n"
     ]
    },
    {
     "name": "stderr",
     "output_type": "stream",
     "text": [
      "/var/folders/gp/r_0zq_nx5pl3nmv_2z2bd6hc0000gn/T/ipykernel_91342/595498502.py:2: FutureWarning: suggest_loguniform has been deprecated in v3.0.0. This feature will be removed in v6.0.0. See https://github.com/optuna/optuna/releases/tag/v3.0.0. Use :func:`~optuna.trial.Trial.suggest_float` instead.\n",
      "  C = trial.suggest_loguniform('C', 1e-3, 1e-1)\n",
      "/var/folders/gp/r_0zq_nx5pl3nmv_2z2bd6hc0000gn/T/ipykernel_91342/595498502.py:3: FutureWarning: suggest_loguniform has been deprecated in v3.0.0. This feature will be removed in v6.0.0. See https://github.com/optuna/optuna/releases/tag/v3.0.0. Use :func:`~optuna.trial.Trial.suggest_float` instead.\n",
      "  gamma = trial.suggest_loguniform('gamma', 50, 1e2)\n",
      "\u001b[32m[I 2023-09-04 14:02:01,022]\u001b[0m Trial 82 finished with value: 0.8098579851521027 and parameters: {'C': 0.074449674100721, 'gamma': 61.105608638581025}. Best is trial 8 with value: 0.8504628704628704.\u001b[0m\n"
     ]
    },
    {
     "name": "stdout",
     "output_type": "stream",
     "text": [
      "0.8098579851521027\n"
     ]
    },
    {
     "name": "stderr",
     "output_type": "stream",
     "text": [
      "/var/folders/gp/r_0zq_nx5pl3nmv_2z2bd6hc0000gn/T/ipykernel_91342/595498502.py:2: FutureWarning: suggest_loguniform has been deprecated in v3.0.0. This feature will be removed in v6.0.0. See https://github.com/optuna/optuna/releases/tag/v3.0.0. Use :func:`~optuna.trial.Trial.suggest_float` instead.\n",
      "  C = trial.suggest_loguniform('C', 1e-3, 1e-1)\n",
      "/var/folders/gp/r_0zq_nx5pl3nmv_2z2bd6hc0000gn/T/ipykernel_91342/595498502.py:3: FutureWarning: suggest_loguniform has been deprecated in v3.0.0. This feature will be removed in v6.0.0. See https://github.com/optuna/optuna/releases/tag/v3.0.0. Use :func:`~optuna.trial.Trial.suggest_float` instead.\n",
      "  gamma = trial.suggest_loguniform('gamma', 50, 1e2)\n",
      "\u001b[32m[I 2023-09-04 14:02:04,871]\u001b[0m Trial 83 finished with value: 0.8143389943389943 and parameters: {'C': 0.09134155499907286, 'gamma': 57.8858896408676}. Best is trial 8 with value: 0.8504628704628704.\u001b[0m\n"
     ]
    },
    {
     "name": "stdout",
     "output_type": "stream",
     "text": [
      "0.8143389943389943\n"
     ]
    },
    {
     "name": "stderr",
     "output_type": "stream",
     "text": [
      "/var/folders/gp/r_0zq_nx5pl3nmv_2z2bd6hc0000gn/T/ipykernel_91342/595498502.py:2: FutureWarning: suggest_loguniform has been deprecated in v3.0.0. This feature will be removed in v6.0.0. See https://github.com/optuna/optuna/releases/tag/v3.0.0. Use :func:`~optuna.trial.Trial.suggest_float` instead.\n",
      "  C = trial.suggest_loguniform('C', 1e-3, 1e-1)\n",
      "/var/folders/gp/r_0zq_nx5pl3nmv_2z2bd6hc0000gn/T/ipykernel_91342/595498502.py:3: FutureWarning: suggest_loguniform has been deprecated in v3.0.0. This feature will be removed in v6.0.0. See https://github.com/optuna/optuna/releases/tag/v3.0.0. Use :func:`~optuna.trial.Trial.suggest_float` instead.\n",
      "  gamma = trial.suggest_loguniform('gamma', 50, 1e2)\n",
      "\u001b[32m[I 2023-09-04 14:02:08,702]\u001b[0m Trial 84 finished with value: 0.8504628704628704 and parameters: {'C': 0.09977074723502283, 'gamma': 61.58833125538941}. Best is trial 8 with value: 0.8504628704628704.\u001b[0m\n"
     ]
    },
    {
     "name": "stdout",
     "output_type": "stream",
     "text": [
      "0.8504628704628704\n"
     ]
    },
    {
     "name": "stderr",
     "output_type": "stream",
     "text": [
      "/var/folders/gp/r_0zq_nx5pl3nmv_2z2bd6hc0000gn/T/ipykernel_91342/595498502.py:2: FutureWarning: suggest_loguniform has been deprecated in v3.0.0. This feature will be removed in v6.0.0. See https://github.com/optuna/optuna/releases/tag/v3.0.0. Use :func:`~optuna.trial.Trial.suggest_float` instead.\n",
      "  C = trial.suggest_loguniform('C', 1e-3, 1e-1)\n",
      "/var/folders/gp/r_0zq_nx5pl3nmv_2z2bd6hc0000gn/T/ipykernel_91342/595498502.py:3: FutureWarning: suggest_loguniform has been deprecated in v3.0.0. This feature will be removed in v6.0.0. See https://github.com/optuna/optuna/releases/tag/v3.0.0. Use :func:`~optuna.trial.Trial.suggest_float` instead.\n",
      "  gamma = trial.suggest_loguniform('gamma', 50, 1e2)\n",
      "\u001b[32m[I 2023-09-04 14:02:12,580]\u001b[0m Trial 85 finished with value: 0.8070580399992163 and parameters: {'C': 0.06504653925946456, 'gamma': 65.7642332836062}. Best is trial 8 with value: 0.8504628704628704.\u001b[0m\n"
     ]
    },
    {
     "name": "stdout",
     "output_type": "stream",
     "text": [
      "0.8070580399992163\n"
     ]
    },
    {
     "name": "stderr",
     "output_type": "stream",
     "text": [
      "/var/folders/gp/r_0zq_nx5pl3nmv_2z2bd6hc0000gn/T/ipykernel_91342/595498502.py:2: FutureWarning: suggest_loguniform has been deprecated in v3.0.0. This feature will be removed in v6.0.0. See https://github.com/optuna/optuna/releases/tag/v3.0.0. Use :func:`~optuna.trial.Trial.suggest_float` instead.\n",
      "  C = trial.suggest_loguniform('C', 1e-3, 1e-1)\n",
      "/var/folders/gp/r_0zq_nx5pl3nmv_2z2bd6hc0000gn/T/ipykernel_91342/595498502.py:3: FutureWarning: suggest_loguniform has been deprecated in v3.0.0. This feature will be removed in v6.0.0. See https://github.com/optuna/optuna/releases/tag/v3.0.0. Use :func:`~optuna.trial.Trial.suggest_float` instead.\n",
      "  gamma = trial.suggest_loguniform('gamma', 50, 1e2)\n",
      "\u001b[32m[I 2023-09-04 14:02:16,455]\u001b[0m Trial 86 finished with value: 0.8104178174766409 and parameters: {'C': 0.07848024897143745, 'gamma': 59.559280335753606}. Best is trial 8 with value: 0.8504628704628704.\u001b[0m\n"
     ]
    },
    {
     "name": "stdout",
     "output_type": "stream",
     "text": [
      "0.8104178174766409\n"
     ]
    },
    {
     "name": "stderr",
     "output_type": "stream",
     "text": [
      "/var/folders/gp/r_0zq_nx5pl3nmv_2z2bd6hc0000gn/T/ipykernel_91342/595498502.py:2: FutureWarning: suggest_loguniform has been deprecated in v3.0.0. This feature will be removed in v6.0.0. See https://github.com/optuna/optuna/releases/tag/v3.0.0. Use :func:`~optuna.trial.Trial.suggest_float` instead.\n",
      "  C = trial.suggest_loguniform('C', 1e-3, 1e-1)\n",
      "/var/folders/gp/r_0zq_nx5pl3nmv_2z2bd6hc0000gn/T/ipykernel_91342/595498502.py:3: FutureWarning: suggest_loguniform has been deprecated in v3.0.0. This feature will be removed in v6.0.0. See https://github.com/optuna/optuna/releases/tag/v3.0.0. Use :func:`~optuna.trial.Trial.suggest_float` instead.\n",
      "  gamma = trial.suggest_loguniform('gamma', 50, 1e2)\n",
      "\u001b[32m[I 2023-09-04 14:02:20,366]\u001b[0m Trial 87 finished with value: 0.8070580399992163 and parameters: {'C': 0.047511447295518434, 'gamma': 64.0171867768649}. Best is trial 8 with value: 0.8504628704628704.\u001b[0m\n"
     ]
    },
    {
     "name": "stdout",
     "output_type": "stream",
     "text": [
      "0.8070580399992163\n"
     ]
    },
    {
     "name": "stderr",
     "output_type": "stream",
     "text": [
      "/var/folders/gp/r_0zq_nx5pl3nmv_2z2bd6hc0000gn/T/ipykernel_91342/595498502.py:2: FutureWarning: suggest_loguniform has been deprecated in v3.0.0. This feature will be removed in v6.0.0. See https://github.com/optuna/optuna/releases/tag/v3.0.0. Use :func:`~optuna.trial.Trial.suggest_float` instead.\n",
      "  C = trial.suggest_loguniform('C', 1e-3, 1e-1)\n",
      "/var/folders/gp/r_0zq_nx5pl3nmv_2z2bd6hc0000gn/T/ipykernel_91342/595498502.py:3: FutureWarning: suggest_loguniform has been deprecated in v3.0.0. This feature will be removed in v6.0.0. See https://github.com/optuna/optuna/releases/tag/v3.0.0. Use :func:`~optuna.trial.Trial.suggest_float` instead.\n",
      "  gamma = trial.suggest_loguniform('gamma', 50, 1e2)\n",
      "\u001b[32m[I 2023-09-04 14:02:24,218]\u001b[0m Trial 88 finished with value: 0.8143389943389943 and parameters: {'C': 0.08911779268406007, 'gamma': 62.430424894032825}. Best is trial 8 with value: 0.8504628704628704.\u001b[0m\n"
     ]
    },
    {
     "name": "stdout",
     "output_type": "stream",
     "text": [
      "0.8143389943389943\n"
     ]
    },
    {
     "name": "stderr",
     "output_type": "stream",
     "text": [
      "/var/folders/gp/r_0zq_nx5pl3nmv_2z2bd6hc0000gn/T/ipykernel_91342/595498502.py:2: FutureWarning: suggest_loguniform has been deprecated in v3.0.0. This feature will be removed in v6.0.0. See https://github.com/optuna/optuna/releases/tag/v3.0.0. Use :func:`~optuna.trial.Trial.suggest_float` instead.\n",
      "  C = trial.suggest_loguniform('C', 1e-3, 1e-1)\n",
      "/var/folders/gp/r_0zq_nx5pl3nmv_2z2bd6hc0000gn/T/ipykernel_91342/595498502.py:3: FutureWarning: suggest_loguniform has been deprecated in v3.0.0. This feature will be removed in v6.0.0. See https://github.com/optuna/optuna/releases/tag/v3.0.0. Use :func:`~optuna.trial.Trial.suggest_float` instead.\n",
      "  gamma = trial.suggest_loguniform('gamma', 50, 1e2)\n",
      "\u001b[32m[I 2023-09-04 14:02:28,100]\u001b[0m Trial 89 finished with value: 0.8078983761336701 and parameters: {'C': 0.0705625616148442, 'gamma': 57.25603806935422}. Best is trial 8 with value: 0.8504628704628704.\u001b[0m\n"
     ]
    },
    {
     "name": "stdout",
     "output_type": "stream",
     "text": [
      "0.8078983761336701\n"
     ]
    },
    {
     "name": "stderr",
     "output_type": "stream",
     "text": [
      "/var/folders/gp/r_0zq_nx5pl3nmv_2z2bd6hc0000gn/T/ipykernel_91342/595498502.py:2: FutureWarning: suggest_loguniform has been deprecated in v3.0.0. This feature will be removed in v6.0.0. See https://github.com/optuna/optuna/releases/tag/v3.0.0. Use :func:`~optuna.trial.Trial.suggest_float` instead.\n",
      "  C = trial.suggest_loguniform('C', 1e-3, 1e-1)\n",
      "/var/folders/gp/r_0zq_nx5pl3nmv_2z2bd6hc0000gn/T/ipykernel_91342/595498502.py:3: FutureWarning: suggest_loguniform has been deprecated in v3.0.0. This feature will be removed in v6.0.0. See https://github.com/optuna/optuna/releases/tag/v3.0.0. Use :func:`~optuna.trial.Trial.suggest_float` instead.\n",
      "  gamma = trial.suggest_loguniform('gamma', 50, 1e2)\n",
      "\u001b[32m[I 2023-09-04 14:02:32,015]\u001b[0m Trial 90 finished with value: 0.8070580399992163 and parameters: {'C': 0.058285517507089116, 'gamma': 65.02418423888282}. Best is trial 8 with value: 0.8504628704628704.\u001b[0m\n"
     ]
    },
    {
     "name": "stdout",
     "output_type": "stream",
     "text": [
      "0.8070580399992163\n"
     ]
    },
    {
     "name": "stderr",
     "output_type": "stream",
     "text": [
      "/var/folders/gp/r_0zq_nx5pl3nmv_2z2bd6hc0000gn/T/ipykernel_91342/595498502.py:2: FutureWarning: suggest_loguniform has been deprecated in v3.0.0. This feature will be removed in v6.0.0. See https://github.com/optuna/optuna/releases/tag/v3.0.0. Use :func:`~optuna.trial.Trial.suggest_float` instead.\n",
      "  C = trial.suggest_loguniform('C', 1e-3, 1e-1)\n",
      "/var/folders/gp/r_0zq_nx5pl3nmv_2z2bd6hc0000gn/T/ipykernel_91342/595498502.py:3: FutureWarning: suggest_loguniform has been deprecated in v3.0.0. This feature will be removed in v6.0.0. See https://github.com/optuna/optuna/releases/tag/v3.0.0. Use :func:`~optuna.trial.Trial.suggest_float` instead.\n",
      "  gamma = trial.suggest_loguniform('gamma', 50, 1e2)\n",
      "\u001b[32m[I 2023-09-04 14:02:35,859]\u001b[0m Trial 91 finished with value: 0.8504628704628704 and parameters: {'C': 0.09813806109769947, 'gamma': 63.41402480197825}. Best is trial 8 with value: 0.8504628704628704.\u001b[0m\n"
     ]
    },
    {
     "name": "stdout",
     "output_type": "stream",
     "text": [
      "0.8504628704628704\n"
     ]
    },
    {
     "name": "stderr",
     "output_type": "stream",
     "text": [
      "/var/folders/gp/r_0zq_nx5pl3nmv_2z2bd6hc0000gn/T/ipykernel_91342/595498502.py:2: FutureWarning: suggest_loguniform has been deprecated in v3.0.0. This feature will be removed in v6.0.0. See https://github.com/optuna/optuna/releases/tag/v3.0.0. Use :func:`~optuna.trial.Trial.suggest_float` instead.\n",
      "  C = trial.suggest_loguniform('C', 1e-3, 1e-1)\n",
      "/var/folders/gp/r_0zq_nx5pl3nmv_2z2bd6hc0000gn/T/ipykernel_91342/595498502.py:3: FutureWarning: suggest_loguniform has been deprecated in v3.0.0. This feature will be removed in v6.0.0. See https://github.com/optuna/optuna/releases/tag/v3.0.0. Use :func:`~optuna.trial.Trial.suggest_float` instead.\n",
      "  gamma = trial.suggest_loguniform('gamma', 50, 1e2)\n",
      "\u001b[32m[I 2023-09-04 14:02:39,726]\u001b[0m Trial 92 finished with value: 0.8106979295214588 and parameters: {'C': 0.07977914807940827, 'gamma': 62.885323323538294}. Best is trial 8 with value: 0.8504628704628704.\u001b[0m\n"
     ]
    },
    {
     "name": "stdout",
     "output_type": "stream",
     "text": [
      "0.8106979295214588\n"
     ]
    },
    {
     "name": "stderr",
     "output_type": "stream",
     "text": [
      "/var/folders/gp/r_0zq_nx5pl3nmv_2z2bd6hc0000gn/T/ipykernel_91342/595498502.py:2: FutureWarning: suggest_loguniform has been deprecated in v3.0.0. This feature will be removed in v6.0.0. See https://github.com/optuna/optuna/releases/tag/v3.0.0. Use :func:`~optuna.trial.Trial.suggest_float` instead.\n",
      "  C = trial.suggest_loguniform('C', 1e-3, 1e-1)\n",
      "/var/folders/gp/r_0zq_nx5pl3nmv_2z2bd6hc0000gn/T/ipykernel_91342/595498502.py:3: FutureWarning: suggest_loguniform has been deprecated in v3.0.0. This feature will be removed in v6.0.0. See https://github.com/optuna/optuna/releases/tag/v3.0.0. Use :func:`~optuna.trial.Trial.suggest_float` instead.\n",
      "  gamma = trial.suggest_loguniform('gamma', 50, 1e2)\n",
      "\u001b[32m[I 2023-09-04 14:02:43,581]\u001b[0m Trial 93 finished with value: 0.8143389943389943 and parameters: {'C': 0.08828050317509037, 'gamma': 60.78840340910734}. Best is trial 8 with value: 0.8504628704628704.\u001b[0m\n"
     ]
    },
    {
     "name": "stdout",
     "output_type": "stream",
     "text": [
      "0.8143389943389943\n"
     ]
    },
    {
     "name": "stderr",
     "output_type": "stream",
     "text": [
      "/var/folders/gp/r_0zq_nx5pl3nmv_2z2bd6hc0000gn/T/ipykernel_91342/595498502.py:2: FutureWarning: suggest_loguniform has been deprecated in v3.0.0. This feature will be removed in v6.0.0. See https://github.com/optuna/optuna/releases/tag/v3.0.0. Use :func:`~optuna.trial.Trial.suggest_float` instead.\n",
      "  C = trial.suggest_loguniform('C', 1e-3, 1e-1)\n",
      "/var/folders/gp/r_0zq_nx5pl3nmv_2z2bd6hc0000gn/T/ipykernel_91342/595498502.py:3: FutureWarning: suggest_loguniform has been deprecated in v3.0.0. This feature will be removed in v6.0.0. See https://github.com/optuna/optuna/releases/tag/v3.0.0. Use :func:`~optuna.trial.Trial.suggest_float` instead.\n",
      "  gamma = trial.suggest_loguniform('gamma', 50, 1e2)\n",
      "\u001b[32m[I 2023-09-04 14:02:47,441]\u001b[0m Trial 94 finished with value: 0.8143389943389943 and parameters: {'C': 0.09153662927514603, 'gamma': 58.628144114864014}. Best is trial 8 with value: 0.8504628704628704.\u001b[0m\n"
     ]
    },
    {
     "name": "stdout",
     "output_type": "stream",
     "text": [
      "0.8143389943389943\n"
     ]
    },
    {
     "name": "stderr",
     "output_type": "stream",
     "text": [
      "/var/folders/gp/r_0zq_nx5pl3nmv_2z2bd6hc0000gn/T/ipykernel_91342/595498502.py:2: FutureWarning: suggest_loguniform has been deprecated in v3.0.0. This feature will be removed in v6.0.0. See https://github.com/optuna/optuna/releases/tag/v3.0.0. Use :func:`~optuna.trial.Trial.suggest_float` instead.\n",
      "  C = trial.suggest_loguniform('C', 1e-3, 1e-1)\n",
      "/var/folders/gp/r_0zq_nx5pl3nmv_2z2bd6hc0000gn/T/ipykernel_91342/595498502.py:3: FutureWarning: suggest_loguniform has been deprecated in v3.0.0. This feature will be removed in v6.0.0. See https://github.com/optuna/optuna/releases/tag/v3.0.0. Use :func:`~optuna.trial.Trial.suggest_float` instead.\n",
      "  gamma = trial.suggest_loguniform('gamma', 50, 1e2)\n",
      "\u001b[32m[I 2023-09-04 14:02:51,291]\u001b[0m Trial 95 finished with value: 0.8504628704628704 and parameters: {'C': 0.099308849274603, 'gamma': 59.91520501220795}. Best is trial 8 with value: 0.8504628704628704.\u001b[0m\n"
     ]
    },
    {
     "name": "stdout",
     "output_type": "stream",
     "text": [
      "0.8504628704628704\n"
     ]
    },
    {
     "name": "stderr",
     "output_type": "stream",
     "text": [
      "/var/folders/gp/r_0zq_nx5pl3nmv_2z2bd6hc0000gn/T/ipykernel_91342/595498502.py:2: FutureWarning: suggest_loguniform has been deprecated in v3.0.0. This feature will be removed in v6.0.0. See https://github.com/optuna/optuna/releases/tag/v3.0.0. Use :func:`~optuna.trial.Trial.suggest_float` instead.\n",
      "  C = trial.suggest_loguniform('C', 1e-3, 1e-1)\n",
      "/var/folders/gp/r_0zq_nx5pl3nmv_2z2bd6hc0000gn/T/ipykernel_91342/595498502.py:3: FutureWarning: suggest_loguniform has been deprecated in v3.0.0. This feature will be removed in v6.0.0. See https://github.com/optuna/optuna/releases/tag/v3.0.0. Use :func:`~optuna.trial.Trial.suggest_float` instead.\n",
      "  gamma = trial.suggest_loguniform('gamma', 50, 1e2)\n",
      "\u001b[32m[I 2023-09-04 14:02:55,158]\u001b[0m Trial 96 finished with value: 0.8104178174766409 and parameters: {'C': 0.07839835748606869, 'gamma': 61.53686438871755}. Best is trial 8 with value: 0.8504628704628704.\u001b[0m\n"
     ]
    },
    {
     "name": "stdout",
     "output_type": "stream",
     "text": [
      "0.8104178174766409\n"
     ]
    },
    {
     "name": "stderr",
     "output_type": "stream",
     "text": [
      "/var/folders/gp/r_0zq_nx5pl3nmv_2z2bd6hc0000gn/T/ipykernel_91342/595498502.py:2: FutureWarning: suggest_loguniform has been deprecated in v3.0.0. This feature will be removed in v6.0.0. See https://github.com/optuna/optuna/releases/tag/v3.0.0. Use :func:`~optuna.trial.Trial.suggest_float` instead.\n",
      "  C = trial.suggest_loguniform('C', 1e-3, 1e-1)\n",
      "/var/folders/gp/r_0zq_nx5pl3nmv_2z2bd6hc0000gn/T/ipykernel_91342/595498502.py:3: FutureWarning: suggest_loguniform has been deprecated in v3.0.0. This feature will be removed in v6.0.0. See https://github.com/optuna/optuna/releases/tag/v3.0.0. Use :func:`~optuna.trial.Trial.suggest_float` instead.\n",
      "  gamma = trial.suggest_loguniform('gamma', 50, 1e2)\n",
      "\u001b[32m[I 2023-09-04 14:02:59,041]\u001b[0m Trial 97 finished with value: 0.8078983761336701 and parameters: {'C': 0.06937950751826127, 'gamma': 64.42943397813855}. Best is trial 8 with value: 0.8504628704628704.\u001b[0m\n"
     ]
    },
    {
     "name": "stdout",
     "output_type": "stream",
     "text": [
      "0.8078983761336701\n"
     ]
    },
    {
     "name": "stderr",
     "output_type": "stream",
     "text": [
      "/var/folders/gp/r_0zq_nx5pl3nmv_2z2bd6hc0000gn/T/ipykernel_91342/595498502.py:2: FutureWarning: suggest_loguniform has been deprecated in v3.0.0. This feature will be removed in v6.0.0. See https://github.com/optuna/optuna/releases/tag/v3.0.0. Use :func:`~optuna.trial.Trial.suggest_float` instead.\n",
      "  C = trial.suggest_loguniform('C', 1e-3, 1e-1)\n",
      "/var/folders/gp/r_0zq_nx5pl3nmv_2z2bd6hc0000gn/T/ipykernel_91342/595498502.py:3: FutureWarning: suggest_loguniform has been deprecated in v3.0.0. This feature will be removed in v6.0.0. See https://github.com/optuna/optuna/releases/tag/v3.0.0. Use :func:`~optuna.trial.Trial.suggest_float` instead.\n",
      "  gamma = trial.suggest_loguniform('gamma', 50, 1e2)\n",
      "\u001b[32m[I 2023-09-04 14:03:02,930]\u001b[0m Trial 98 finished with value: 0.8070580399992163 and parameters: {'C': 0.06094510782561936, 'gamma': 58.79469928980188}. Best is trial 8 with value: 0.8504628704628704.\u001b[0m\n"
     ]
    },
    {
     "name": "stdout",
     "output_type": "stream",
     "text": [
      "0.8070580399992163\n"
     ]
    },
    {
     "name": "stderr",
     "output_type": "stream",
     "text": [
      "/var/folders/gp/r_0zq_nx5pl3nmv_2z2bd6hc0000gn/T/ipykernel_91342/595498502.py:2: FutureWarning: suggest_loguniform has been deprecated in v3.0.0. This feature will be removed in v6.0.0. See https://github.com/optuna/optuna/releases/tag/v3.0.0. Use :func:`~optuna.trial.Trial.suggest_float` instead.\n",
      "  C = trial.suggest_loguniform('C', 1e-3, 1e-1)\n",
      "/var/folders/gp/r_0zq_nx5pl3nmv_2z2bd6hc0000gn/T/ipykernel_91342/595498502.py:3: FutureWarning: suggest_loguniform has been deprecated in v3.0.0. This feature will be removed in v6.0.0. See https://github.com/optuna/optuna/releases/tag/v3.0.0. Use :func:`~optuna.trial.Trial.suggest_float` instead.\n",
      "  gamma = trial.suggest_loguniform('gamma', 50, 1e2)\n",
      "\u001b[32m[I 2023-09-04 14:03:06,823]\u001b[0m Trial 99 finished with value: 0.8098579851521027 and parameters: {'C': 0.07409267018156356, 'gamma': 66.16267037630631}. Best is trial 8 with value: 0.8504628704628704.\u001b[0m\n"
     ]
    },
    {
     "name": "stdout",
     "output_type": "stream",
     "text": [
      "0.8098579851521027\n"
     ]
    }
   ],
   "source": [
    "study = optuna.create_study(direction='maximize')\n",
    "study.optimize(objective, n_trials=100) # adjust n_trials"
   ]
  },
  {
   "cell_type": "code",
   "execution_count": 25,
   "metadata": {},
   "outputs": [
    {
     "data": {
      "text/html": [
       "<style>#sk-container-id-4 {color: black;background-color: white;}#sk-container-id-4 pre{padding: 0;}#sk-container-id-4 div.sk-toggleable {background-color: white;}#sk-container-id-4 label.sk-toggleable__label {cursor: pointer;display: block;width: 100%;margin-bottom: 0;padding: 0.3em;box-sizing: border-box;text-align: center;}#sk-container-id-4 label.sk-toggleable__label-arrow:before {content: \"▸\";float: left;margin-right: 0.25em;color: #696969;}#sk-container-id-4 label.sk-toggleable__label-arrow:hover:before {color: black;}#sk-container-id-4 div.sk-estimator:hover label.sk-toggleable__label-arrow:before {color: black;}#sk-container-id-4 div.sk-toggleable__content {max-height: 0;max-width: 0;overflow: hidden;text-align: left;background-color: #f0f8ff;}#sk-container-id-4 div.sk-toggleable__content pre {margin: 0.2em;color: black;border-radius: 0.25em;background-color: #f0f8ff;}#sk-container-id-4 input.sk-toggleable__control:checked~div.sk-toggleable__content {max-height: 200px;max-width: 100%;overflow: auto;}#sk-container-id-4 input.sk-toggleable__control:checked~label.sk-toggleable__label-arrow:before {content: \"▾\";}#sk-container-id-4 div.sk-estimator input.sk-toggleable__control:checked~label.sk-toggleable__label {background-color: #d4ebff;}#sk-container-id-4 div.sk-label input.sk-toggleable__control:checked~label.sk-toggleable__label {background-color: #d4ebff;}#sk-container-id-4 input.sk-hidden--visually {border: 0;clip: rect(1px 1px 1px 1px);clip: rect(1px, 1px, 1px, 1px);height: 1px;margin: -1px;overflow: hidden;padding: 0;position: absolute;width: 1px;}#sk-container-id-4 div.sk-estimator {font-family: monospace;background-color: #f0f8ff;border: 1px dotted black;border-radius: 0.25em;box-sizing: border-box;margin-bottom: 0.5em;}#sk-container-id-4 div.sk-estimator:hover {background-color: #d4ebff;}#sk-container-id-4 div.sk-parallel-item::after {content: \"\";width: 100%;border-bottom: 1px solid gray;flex-grow: 1;}#sk-container-id-4 div.sk-label:hover label.sk-toggleable__label {background-color: #d4ebff;}#sk-container-id-4 div.sk-serial::before {content: \"\";position: absolute;border-left: 1px solid gray;box-sizing: border-box;top: 0;bottom: 0;left: 50%;z-index: 0;}#sk-container-id-4 div.sk-serial {display: flex;flex-direction: column;align-items: center;background-color: white;padding-right: 0.2em;padding-left: 0.2em;position: relative;}#sk-container-id-4 div.sk-item {position: relative;z-index: 1;}#sk-container-id-4 div.sk-parallel {display: flex;align-items: stretch;justify-content: center;background-color: white;position: relative;}#sk-container-id-4 div.sk-item::before, #sk-container-id-4 div.sk-parallel-item::before {content: \"\";position: absolute;border-left: 1px solid gray;box-sizing: border-box;top: 0;bottom: 0;left: 50%;z-index: -1;}#sk-container-id-4 div.sk-parallel-item {display: flex;flex-direction: column;z-index: 1;position: relative;background-color: white;}#sk-container-id-4 div.sk-parallel-item:first-child::after {align-self: flex-end;width: 50%;}#sk-container-id-4 div.sk-parallel-item:last-child::after {align-self: flex-start;width: 50%;}#sk-container-id-4 div.sk-parallel-item:only-child::after {width: 0;}#sk-container-id-4 div.sk-dashed-wrapped {border: 1px dashed gray;margin: 0 0.4em 0.5em 0.4em;box-sizing: border-box;padding-bottom: 0.4em;background-color: white;}#sk-container-id-4 div.sk-label label {font-family: monospace;font-weight: bold;display: inline-block;line-height: 1.2em;}#sk-container-id-4 div.sk-label-container {text-align: center;}#sk-container-id-4 div.sk-container {/* jupyter's `normalize.less` sets `[hidden] { display: none; }` but bootstrap.min.css set `[hidden] { display: none !important; }` so we also need the `!important` here to be able to override the default hidden behavior on the sphinx rendered scikit-learn.org. See: https://github.com/scikit-learn/scikit-learn/issues/21755 */display: inline-block !important;position: relative;}#sk-container-id-4 div.sk-text-repr-fallback {display: none;}</style><div id=\"sk-container-id-4\" class=\"sk-top-container\"><div class=\"sk-text-repr-fallback\"><pre>SVC(C=0.09631613957496994, gamma=63.79381538145846)</pre><b>In a Jupyter environment, please rerun this cell to show the HTML representation or trust the notebook. <br />On GitHub, the HTML representation is unable to render, please try loading this page with nbviewer.org.</b></div><div class=\"sk-container\" hidden><div class=\"sk-item\"><div class=\"sk-estimator sk-toggleable\"><input class=\"sk-toggleable__control sk-hidden--visually\" id=\"sk-estimator-id-4\" type=\"checkbox\" checked><label for=\"sk-estimator-id-4\" class=\"sk-toggleable__label sk-toggleable__label-arrow\">SVC</label><div class=\"sk-toggleable__content\"><pre>SVC(C=0.09631613957496994, gamma=63.79381538145846)</pre></div></div></div></div></div>"
      ],
      "text/plain": [
       "SVC(C=0.09631613957496994, gamma=63.79381538145846)"
      ]
     },
     "execution_count": 25,
     "metadata": {},
     "output_type": "execute_result"
    }
   ],
   "source": [
    "# Get the best hyperparameters\n",
    "n_trials = len(study.trials)\n",
    "best_params = study.best_params\n",
    "\n",
    "best_C = best_params['C']\n",
    "best_gamma = best_params['gamma']\n",
    "\n",
    "svm_classifier = SVC(kernel='rbf', C=best_C, gamma=best_gamma)\n",
    "svm_classifier.fit(X_train, y_train)"
   ]
  },
  {
   "cell_type": "code",
   "execution_count": 26,
   "metadata": {},
   "outputs": [
    {
     "name": "stdout",
     "output_type": "stream",
     "text": [
      "Accuracy: 0.9932810750279956\n",
      "Precision: 0.9728260869565217\n",
      "Recall: 0.9944444444444445\n",
      "F1-score: 0.9835164835164836\n"
     ]
    }
   ],
   "source": [
    "y_pred = svm_classifier.predict(X_test)\n",
    "accuracy = accuracy_score(y_test, y_pred)\n",
    "print(f\"Accuracy: {accuracy}\")\n",
    "\n",
    "precision = precision_score(y_test, y_pred)\n",
    "recall = recall_score(y_test, y_pred)\n",
    "f1 = f1_score(y_test, y_pred)\n",
    "print(f\"Precision: {precision}\")\n",
    "print(f\"Recall: {recall}\")\n",
    "print(f\"F1-score: {f1}\")\n"
   ]
  },
  {
   "cell_type": "code",
   "execution_count": 28,
   "metadata": {},
   "outputs": [
    {
     "name": "stdout",
     "output_type": "stream",
     "text": [
      "Model evaluation information saved to model_evaluation.txt\n"
     ]
    }
   ],
   "source": [
    "file_path = \"model_evaluation.txt\"\n",
    "\n",
    "with open(file_path, 'a') as file:\n",
    "    # Write the best hyperparameters\n",
    "    file.write(\"Best Hyperparameters:\\n\")\n",
    "    file.write(f\"C: {best_C}\\n\")\n",
    "    file.write(f\"Gamma: {best_gamma}\\n\")\n",
    "    file.write(f\"n_trials: {n_trials}\\n\")\n",
    "    \n",
    "    # Write the evaluation scores\n",
    "    file.write(\"\\nEvaluation Scores:\\n\")\n",
    "    file.write(f\"Accuracy: {accuracy}\\n\")\n",
    "    file.write(f\"Precision: {precision}\\n\")\n",
    "    file.write(f\"Recall: {recall}\\n\")\n",
    "    file.write(f\"F1-score: {f1}\\n\")\n",
    "    file.write(\"\\n\")\n",
    "\n",
    "print(f\"Model evaluation information saved to {file_path}\")"
   ]
  }
 ],
 "metadata": {
  "kernelspec": {
   "display_name": "Python 3",
   "language": "python",
   "name": "python3"
  },
  "language_info": {
   "codemirror_mode": {
    "name": "ipython",
    "version": 3
   },
   "file_extension": ".py",
   "mimetype": "text/x-python",
   "name": "python",
   "nbconvert_exporter": "python",
   "pygments_lexer": "ipython3",
   "version": "3.11.4"
  },
  "orig_nbformat": 4
 },
 "nbformat": 4,
 "nbformat_minor": 2
}
