{
 "cells": [
  {
   "cell_type": "code",
   "execution_count": 12,
   "metadata": {},
   "outputs": [],
   "source": [
    "# dependencies\n",
    "import pandas as pd\n",
    "import optuna\n",
    "from sklearn.svm import SVC\n",
    "from sklearn.metrics import accuracy_score, precision_score, recall_score, f1_score\n",
    "from sklearn.model_selection import train_test_split, cross_val_predict, StratifiedKFold, cross_val_score\n",
    "from sklearn.preprocessing import StandardScaler, LabelEncoder"
   ]
  },
  {
   "cell_type": "code",
   "execution_count": 13,
   "metadata": {},
   "outputs": [
    {
     "name": "stdout",
     "output_type": "stream",
     "text": [
      "<class 'pandas.core.frame.DataFrame'>\n",
      "RangeIndex: 4465 entries, 0 to 4464\n",
      "Columns: 242 entries, ACCESS_ALL_DOWNLOADS to Label\n",
      "dtypes: float64(241), object(1)\n",
      "memory usage: 8.2+ MB\n",
      "<class 'pandas.core.frame.DataFrame'>\n",
      "Index: 4464 entries, 0 to 4464\n",
      "Columns: 242 entries, ACCESS_ALL_DOWNLOADS to Label\n",
      "dtypes: float64(241), object(1)\n",
      "memory usage: 8.3+ MB\n"
     ]
    }
   ],
   "source": [
    "dataset = pd.read_csv('TUANDROMD.csv')\n",
    "\n",
    "dataset.info()\n",
    "df = dataset.dropna() # cleaned dataset\n",
    "df.info()"
   ]
  },
  {
   "cell_type": "code",
   "execution_count": 14,
   "metadata": {},
   "outputs": [
    {
     "data": {
      "text/plain": [
       "0    malware\n",
       "1    malware\n",
       "2    malware\n",
       "3    malware\n",
       "4    malware\n",
       "Name: Label, dtype: object"
      ]
     },
     "execution_count": 14,
     "metadata": {},
     "output_type": "execute_result"
    }
   ],
   "source": [
    "# as described in uci website, Target Role is the attribute Label\n",
    "X = df.drop(columns=['Label'], axis=1)  # Features\n",
    "y = df['Label']  # Target variable\n",
    "y.head()"
   ]
  },
  {
   "cell_type": "code",
   "execution_count": 15,
   "metadata": {},
   "outputs": [
    {
     "data": {
      "text/plain": [
       "array([0, 0, 0, ..., 1, 1, 1])"
      ]
     },
     "execution_count": 15,
     "metadata": {},
     "output_type": "execute_result"
    }
   ],
   "source": [
    "# Encode the categorical target variable using Label Encoding\n",
    "label_encoder = LabelEncoder()\n",
    "y_encoded = label_encoder.fit_transform(y)\n",
    "y_encoded = 1 - y_encoded\n",
    "y_encoded"
   ]
  },
  {
   "cell_type": "code",
   "execution_count": 16,
   "metadata": {},
   "outputs": [],
   "source": [
    "# Split the dataset into training and testing subsets\n",
    "X_train, X_test, y_train, y_test = train_test_split(X, y_encoded, test_size=0.2, random_state=42, stratify=y_encoded)"
   ]
  },
  {
   "cell_type": "code",
   "execution_count": 17,
   "metadata": {},
   "outputs": [],
   "source": [
    "scaler = StandardScaler()\n",
    "X_train = scaler.fit_transform(X_train)\n",
    "X_test = scaler.transform(X_test)"
   ]
  },
  {
   "cell_type": "code",
   "execution_count": 18,
   "metadata": {},
   "outputs": [],
   "source": [
    "\n",
    "def objective(trial):\n",
    "    C = trial.suggest_loguniform('C', 1e-3, 1)\n",
    "    gamma = trial.suggest_loguniform('gamma', 1e-1, 1e1)\n",
    "\n",
    "    # Create the SVM classifier with RBF kernel using suggested hyperparameters\n",
    "    svm_classifier = SVC(kernel='rbf', C=C, gamma=gamma)\n",
    "\n",
    "    # Use stratified k-fold cross-validation for better validation performance\n",
    "    cv = StratifiedKFold(n_splits=5, shuffle=True, random_state=42)\n",
    "\n",
    "    # Calculate cross-validated accuracy with stratification\n",
    "    cv_accuracy = cross_val_score(svm_classifier, X_train, y_train, cv=cv, scoring='accuracy').mean()\n",
    "\n",
    "    print(cv_accuracy)\n",
    "    return cv_accuracy"
   ]
  },
  {
   "cell_type": "code",
   "execution_count": 19,
   "metadata": {},
   "outputs": [
    {
     "name": "stderr",
     "output_type": "stream",
     "text": [
      "\u001b[32m[I 2023-09-06 00:35:10,877]\u001b[0m A new study created in memory with name: no-name-6c68070d-9eca-4e2f-98af-c8839214325f\u001b[0m\n",
      "/var/folders/gp/r_0zq_nx5pl3nmv_2z2bd6hc0000gn/T/ipykernel_46961/506725017.py:2: FutureWarning: suggest_loguniform has been deprecated in v3.0.0. This feature will be removed in v6.0.0. See https://github.com/optuna/optuna/releases/tag/v3.0.0. Use :func:`~optuna.trial.Trial.suggest_float` instead.\n",
      "  C = trial.suggest_loguniform('C', 1e-3, 1)\n",
      "/var/folders/gp/r_0zq_nx5pl3nmv_2z2bd6hc0000gn/T/ipykernel_46961/506725017.py:3: FutureWarning: suggest_loguniform has been deprecated in v3.0.0. This feature will be removed in v6.0.0. See https://github.com/optuna/optuna/releases/tag/v3.0.0. Use :func:`~optuna.trial.Trial.suggest_float` instead.\n",
      "  gamma = trial.suggest_loguniform('gamma', 1e-1, 1e1)\n",
      "\u001b[32m[I 2023-09-06 00:35:13,531]\u001b[0m Trial 0 finished with value: 0.9882396035337212 and parameters: {'C': 0.7665512987440601, 'gamma': 5.756763570299377}. Best is trial 0 with value: 0.9882396035337212.\u001b[0m\n"
     ]
    },
    {
     "name": "stdout",
     "output_type": "stream",
     "text": [
      "0.9882396035337212\n"
     ]
    },
    {
     "name": "stderr",
     "output_type": "stream",
     "text": [
      "/var/folders/gp/r_0zq_nx5pl3nmv_2z2bd6hc0000gn/T/ipykernel_46961/506725017.py:2: FutureWarning: suggest_loguniform has been deprecated in v3.0.0. This feature will be removed in v6.0.0. See https://github.com/optuna/optuna/releases/tag/v3.0.0. Use :func:`~optuna.trial.Trial.suggest_float` instead.\n",
      "  C = trial.suggest_loguniform('C', 1e-3, 1)\n",
      "/var/folders/gp/r_0zq_nx5pl3nmv_2z2bd6hc0000gn/T/ipykernel_46961/506725017.py:3: FutureWarning: suggest_loguniform has been deprecated in v3.0.0. This feature will be removed in v6.0.0. See https://github.com/optuna/optuna/releases/tag/v3.0.0. Use :func:`~optuna.trial.Trial.suggest_float` instead.\n",
      "  gamma = trial.suggest_loguniform('gamma', 1e-1, 1e1)\n",
      "\u001b[32m[I 2023-09-06 00:35:17,691]\u001b[0m Trial 1 finished with value: 0.8070580399992163 and parameters: {'C': 0.041172062612715374, 'gamma': 1.6647806427078062}. Best is trial 0 with value: 0.9882396035337212.\u001b[0m\n"
     ]
    },
    {
     "name": "stdout",
     "output_type": "stream",
     "text": [
      "0.8070580399992163\n"
     ]
    },
    {
     "name": "stderr",
     "output_type": "stream",
     "text": [
      "/var/folders/gp/r_0zq_nx5pl3nmv_2z2bd6hc0000gn/T/ipykernel_46961/506725017.py:2: FutureWarning: suggest_loguniform has been deprecated in v3.0.0. This feature will be removed in v6.0.0. See https://github.com/optuna/optuna/releases/tag/v3.0.0. Use :func:`~optuna.trial.Trial.suggest_float` instead.\n",
      "  C = trial.suggest_loguniform('C', 1e-3, 1)\n",
      "/var/folders/gp/r_0zq_nx5pl3nmv_2z2bd6hc0000gn/T/ipykernel_46961/506725017.py:3: FutureWarning: suggest_loguniform has been deprecated in v3.0.0. This feature will be removed in v6.0.0. See https://github.com/optuna/optuna/releases/tag/v3.0.0. Use :func:`~optuna.trial.Trial.suggest_float` instead.\n",
      "  gamma = trial.suggest_loguniform('gamma', 1e-1, 1e1)\n",
      "\u001b[32m[I 2023-09-06 00:35:21,790]\u001b[0m Trial 2 finished with value: 0.8070580399992163 and parameters: {'C': 0.04534734539096853, 'gamma': 1.26221396702409}. Best is trial 0 with value: 0.9882396035337212.\u001b[0m\n"
     ]
    },
    {
     "name": "stdout",
     "output_type": "stream",
     "text": [
      "0.8070580399992163\n"
     ]
    },
    {
     "name": "stderr",
     "output_type": "stream",
     "text": [
      "/var/folders/gp/r_0zq_nx5pl3nmv_2z2bd6hc0000gn/T/ipykernel_46961/506725017.py:2: FutureWarning: suggest_loguniform has been deprecated in v3.0.0. This feature will be removed in v6.0.0. See https://github.com/optuna/optuna/releases/tag/v3.0.0. Use :func:`~optuna.trial.Trial.suggest_float` instead.\n",
      "  C = trial.suggest_loguniform('C', 1e-3, 1)\n",
      "/var/folders/gp/r_0zq_nx5pl3nmv_2z2bd6hc0000gn/T/ipykernel_46961/506725017.py:3: FutureWarning: suggest_loguniform has been deprecated in v3.0.0. This feature will be removed in v6.0.0. See https://github.com/optuna/optuna/releases/tag/v3.0.0. Use :func:`~optuna.trial.Trial.suggest_float` instead.\n",
      "  gamma = trial.suggest_loguniform('gamma', 1e-1, 1e1)\n",
      "\u001b[32m[I 2023-09-06 00:35:25,823]\u001b[0m Trial 3 finished with value: 0.8106979295214588 and parameters: {'C': 0.07911145042703221, 'gamma': 0.9938472553817654}. Best is trial 0 with value: 0.9882396035337212.\u001b[0m\n"
     ]
    },
    {
     "name": "stdout",
     "output_type": "stream",
     "text": [
      "0.8106979295214588\n"
     ]
    },
    {
     "name": "stderr",
     "output_type": "stream",
     "text": [
      "/var/folders/gp/r_0zq_nx5pl3nmv_2z2bd6hc0000gn/T/ipykernel_46961/506725017.py:2: FutureWarning: suggest_loguniform has been deprecated in v3.0.0. This feature will be removed in v6.0.0. See https://github.com/optuna/optuna/releases/tag/v3.0.0. Use :func:`~optuna.trial.Trial.suggest_float` instead.\n",
      "  C = trial.suggest_loguniform('C', 1e-3, 1)\n",
      "/var/folders/gp/r_0zq_nx5pl3nmv_2z2bd6hc0000gn/T/ipykernel_46961/506725017.py:3: FutureWarning: suggest_loguniform has been deprecated in v3.0.0. This feature will be removed in v6.0.0. See https://github.com/optuna/optuna/releases/tag/v3.0.0. Use :func:`~optuna.trial.Trial.suggest_float` instead.\n",
      "  gamma = trial.suggest_loguniform('gamma', 1e-1, 1e1)\n",
      "\u001b[32m[I 2023-09-06 00:35:29,109]\u001b[0m Trial 4 finished with value: 0.9638757321110262 and parameters: {'C': 0.2885259045858718, 'gamma': 0.36699479433746457}. Best is trial 0 with value: 0.9882396035337212.\u001b[0m\n"
     ]
    },
    {
     "name": "stdout",
     "output_type": "stream",
     "text": [
      "0.9638757321110262\n"
     ]
    },
    {
     "name": "stderr",
     "output_type": "stream",
     "text": [
      "/var/folders/gp/r_0zq_nx5pl3nmv_2z2bd6hc0000gn/T/ipykernel_46961/506725017.py:2: FutureWarning: suggest_loguniform has been deprecated in v3.0.0. This feature will be removed in v6.0.0. See https://github.com/optuna/optuna/releases/tag/v3.0.0. Use :func:`~optuna.trial.Trial.suggest_float` instead.\n",
      "  C = trial.suggest_loguniform('C', 1e-3, 1)\n",
      "/var/folders/gp/r_0zq_nx5pl3nmv_2z2bd6hc0000gn/T/ipykernel_46961/506725017.py:3: FutureWarning: suggest_loguniform has been deprecated in v3.0.0. This feature will be removed in v6.0.0. See https://github.com/optuna/optuna/releases/tag/v3.0.0. Use :func:`~optuna.trial.Trial.suggest_float` instead.\n",
      "  gamma = trial.suggest_loguniform('gamma', 1e-1, 1e1)\n",
      "\u001b[32m[I 2023-09-06 00:35:33,219]\u001b[0m Trial 5 finished with value: 0.7986558539499715 and parameters: {'C': 0.0010725879370394953, 'gamma': 1.785527937104192}. Best is trial 0 with value: 0.9882396035337212.\u001b[0m\n"
     ]
    },
    {
     "name": "stdout",
     "output_type": "stream",
     "text": [
      "0.7986558539499715\n"
     ]
    },
    {
     "name": "stderr",
     "output_type": "stream",
     "text": [
      "/var/folders/gp/r_0zq_nx5pl3nmv_2z2bd6hc0000gn/T/ipykernel_46961/506725017.py:2: FutureWarning: suggest_loguniform has been deprecated in v3.0.0. This feature will be removed in v6.0.0. See https://github.com/optuna/optuna/releases/tag/v3.0.0. Use :func:`~optuna.trial.Trial.suggest_float` instead.\n",
      "  C = trial.suggest_loguniform('C', 1e-3, 1)\n",
      "/var/folders/gp/r_0zq_nx5pl3nmv_2z2bd6hc0000gn/T/ipykernel_46961/506725017.py:3: FutureWarning: suggest_loguniform has been deprecated in v3.0.0. This feature will be removed in v6.0.0. See https://github.com/optuna/optuna/releases/tag/v3.0.0. Use :func:`~optuna.trial.Trial.suggest_float` instead.\n",
      "  gamma = trial.suggest_loguniform('gamma', 1e-1, 1e1)\n",
      "\u001b[32m[I 2023-09-06 00:35:37,430]\u001b[0m Trial 6 finished with value: 0.7986558539499715 and parameters: {'C': 0.013024248252535533, 'gamma': 7.36182081790053}. Best is trial 0 with value: 0.9882396035337212.\u001b[0m\n"
     ]
    },
    {
     "name": "stdout",
     "output_type": "stream",
     "text": [
      "0.7986558539499715\n"
     ]
    },
    {
     "name": "stderr",
     "output_type": "stream",
     "text": [
      "/var/folders/gp/r_0zq_nx5pl3nmv_2z2bd6hc0000gn/T/ipykernel_46961/506725017.py:2: FutureWarning: suggest_loguniform has been deprecated in v3.0.0. This feature will be removed in v6.0.0. See https://github.com/optuna/optuna/releases/tag/v3.0.0. Use :func:`~optuna.trial.Trial.suggest_float` instead.\n",
      "  C = trial.suggest_loguniform('C', 1e-3, 1)\n",
      "/var/folders/gp/r_0zq_nx5pl3nmv_2z2bd6hc0000gn/T/ipykernel_46961/506725017.py:3: FutureWarning: suggest_loguniform has been deprecated in v3.0.0. This feature will be removed in v6.0.0. See https://github.com/optuna/optuna/releases/tag/v3.0.0. Use :func:`~optuna.trial.Trial.suggest_float` instead.\n",
      "  gamma = trial.suggest_loguniform('gamma', 1e-1, 1e1)\n",
      "\u001b[32m[I 2023-09-06 00:35:40,204]\u001b[0m Trial 7 finished with value: 0.9680762374880022 and parameters: {'C': 0.5246445166236466, 'gamma': 1.8510427794103703}. Best is trial 0 with value: 0.9882396035337212.\u001b[0m\n"
     ]
    },
    {
     "name": "stdout",
     "output_type": "stream",
     "text": [
      "0.9680762374880022\n"
     ]
    },
    {
     "name": "stderr",
     "output_type": "stream",
     "text": [
      "/var/folders/gp/r_0zq_nx5pl3nmv_2z2bd6hc0000gn/T/ipykernel_46961/506725017.py:2: FutureWarning: suggest_loguniform has been deprecated in v3.0.0. This feature will be removed in v6.0.0. See https://github.com/optuna/optuna/releases/tag/v3.0.0. Use :func:`~optuna.trial.Trial.suggest_float` instead.\n",
      "  C = trial.suggest_loguniform('C', 1e-3, 1)\n",
      "/var/folders/gp/r_0zq_nx5pl3nmv_2z2bd6hc0000gn/T/ipykernel_46961/506725017.py:3: FutureWarning: suggest_loguniform has been deprecated in v3.0.0. This feature will be removed in v6.0.0. See https://github.com/optuna/optuna/releases/tag/v3.0.0. Use :func:`~optuna.trial.Trial.suggest_float` instead.\n",
      "  gamma = trial.suggest_loguniform('gamma', 1e-1, 1e1)\n",
      "\u001b[32m[I 2023-09-06 00:35:44,271]\u001b[0m Trial 8 finished with value: 0.7986558539499715 and parameters: {'C': 0.009832415814820198, 'gamma': 0.22281457820240624}. Best is trial 0 with value: 0.9882396035337212.\u001b[0m\n"
     ]
    },
    {
     "name": "stdout",
     "output_type": "stream",
     "text": [
      "0.7986558539499715\n"
     ]
    },
    {
     "name": "stderr",
     "output_type": "stream",
     "text": [
      "/var/folders/gp/r_0zq_nx5pl3nmv_2z2bd6hc0000gn/T/ipykernel_46961/506725017.py:2: FutureWarning: suggest_loguniform has been deprecated in v3.0.0. This feature will be removed in v6.0.0. See https://github.com/optuna/optuna/releases/tag/v3.0.0. Use :func:`~optuna.trial.Trial.suggest_float` instead.\n",
      "  C = trial.suggest_loguniform('C', 1e-3, 1)\n",
      "/var/folders/gp/r_0zq_nx5pl3nmv_2z2bd6hc0000gn/T/ipykernel_46961/506725017.py:3: FutureWarning: suggest_loguniform has been deprecated in v3.0.0. This feature will be removed in v6.0.0. See https://github.com/optuna/optuna/releases/tag/v3.0.0. Use :func:`~optuna.trial.Trial.suggest_float` instead.\n",
      "  gamma = trial.suggest_loguniform('gamma', 1e-1, 1e1)\n",
      "\u001b[32m[I 2023-09-06 00:35:48,284]\u001b[0m Trial 9 finished with value: 0.97647959883254 and parameters: {'C': 0.13591700046314945, 'gamma': 1.3805086998439873}. Best is trial 0 with value: 0.9882396035337212.\u001b[0m\n"
     ]
    },
    {
     "name": "stdout",
     "output_type": "stream",
     "text": [
      "0.97647959883254\n"
     ]
    },
    {
     "name": "stderr",
     "output_type": "stream",
     "text": [
      "/var/folders/gp/r_0zq_nx5pl3nmv_2z2bd6hc0000gn/T/ipykernel_46961/506725017.py:2: FutureWarning: suggest_loguniform has been deprecated in v3.0.0. This feature will be removed in v6.0.0. See https://github.com/optuna/optuna/releases/tag/v3.0.0. Use :func:`~optuna.trial.Trial.suggest_float` instead.\n",
      "  C = trial.suggest_loguniform('C', 1e-3, 1)\n",
      "/var/folders/gp/r_0zq_nx5pl3nmv_2z2bd6hc0000gn/T/ipykernel_46961/506725017.py:3: FutureWarning: suggest_loguniform has been deprecated in v3.0.0. This feature will be removed in v6.0.0. See https://github.com/optuna/optuna/releases/tag/v3.0.0. Use :func:`~optuna.trial.Trial.suggest_float` instead.\n",
      "  gamma = trial.suggest_loguniform('gamma', 1e-1, 1e1)\n",
      "\u001b[32m[I 2023-09-06 00:35:50,580]\u001b[0m Trial 10 finished with value: 0.9882396035337212 and parameters: {'C': 0.9178521271847273, 'gamma': 9.730960858358491}. Best is trial 0 with value: 0.9882396035337212.\u001b[0m\n"
     ]
    },
    {
     "name": "stdout",
     "output_type": "stream",
     "text": [
      "0.9882396035337212\n"
     ]
    },
    {
     "name": "stderr",
     "output_type": "stream",
     "text": [
      "/var/folders/gp/r_0zq_nx5pl3nmv_2z2bd6hc0000gn/T/ipykernel_46961/506725017.py:2: FutureWarning: suggest_loguniform has been deprecated in v3.0.0. This feature will be removed in v6.0.0. See https://github.com/optuna/optuna/releases/tag/v3.0.0. Use :func:`~optuna.trial.Trial.suggest_float` instead.\n",
      "  C = trial.suggest_loguniform('C', 1e-3, 1)\n",
      "/var/folders/gp/r_0zq_nx5pl3nmv_2z2bd6hc0000gn/T/ipykernel_46961/506725017.py:3: FutureWarning: suggest_loguniform has been deprecated in v3.0.0. This feature will be removed in v6.0.0. See https://github.com/optuna/optuna/releases/tag/v3.0.0. Use :func:`~optuna.trial.Trial.suggest_float` instead.\n",
      "  gamma = trial.suggest_loguniform('gamma', 1e-1, 1e1)\n",
      "\u001b[32m[I 2023-09-06 00:35:52,842]\u001b[0m Trial 11 finished with value: 0.9882396035337212 and parameters: {'C': 0.8538694309352899, 'gamma': 9.777022043924916}. Best is trial 0 with value: 0.9882396035337212.\u001b[0m\n"
     ]
    },
    {
     "name": "stdout",
     "output_type": "stream",
     "text": [
      "0.9882396035337212\n"
     ]
    },
    {
     "name": "stderr",
     "output_type": "stream",
     "text": [
      "/var/folders/gp/r_0zq_nx5pl3nmv_2z2bd6hc0000gn/T/ipykernel_46961/506725017.py:2: FutureWarning: suggest_loguniform has been deprecated in v3.0.0. This feature will be removed in v6.0.0. See https://github.com/optuna/optuna/releases/tag/v3.0.0. Use :func:`~optuna.trial.Trial.suggest_float` instead.\n",
      "  C = trial.suggest_loguniform('C', 1e-3, 1)\n",
      "/var/folders/gp/r_0zq_nx5pl3nmv_2z2bd6hc0000gn/T/ipykernel_46961/506725017.py:3: FutureWarning: suggest_loguniform has been deprecated in v3.0.0. This feature will be removed in v6.0.0. See https://github.com/optuna/optuna/releases/tag/v3.0.0. Use :func:`~optuna.trial.Trial.suggest_float` instead.\n",
      "  gamma = trial.suggest_loguniform('gamma', 1e-1, 1e1)\n",
      "\u001b[32m[I 2023-09-06 00:35:55,180]\u001b[0m Trial 12 finished with value: 0.9882396035337212 and parameters: {'C': 0.9021230970447611, 'gamma': 4.8731284364414345}. Best is trial 0 with value: 0.9882396035337212.\u001b[0m\n"
     ]
    },
    {
     "name": "stdout",
     "output_type": "stream",
     "text": [
      "0.9882396035337212\n"
     ]
    },
    {
     "name": "stderr",
     "output_type": "stream",
     "text": [
      "/var/folders/gp/r_0zq_nx5pl3nmv_2z2bd6hc0000gn/T/ipykernel_46961/506725017.py:2: FutureWarning: suggest_loguniform has been deprecated in v3.0.0. This feature will be removed in v6.0.0. See https://github.com/optuna/optuna/releases/tag/v3.0.0. Use :func:`~optuna.trial.Trial.suggest_float` instead.\n",
      "  C = trial.suggest_loguniform('C', 1e-3, 1)\n",
      "/var/folders/gp/r_0zq_nx5pl3nmv_2z2bd6hc0000gn/T/ipykernel_46961/506725017.py:3: FutureWarning: suggest_loguniform has been deprecated in v3.0.0. This feature will be removed in v6.0.0. See https://github.com/optuna/optuna/releases/tag/v3.0.0. Use :func:`~optuna.trial.Trial.suggest_float` instead.\n",
      "  gamma = trial.suggest_loguniform('gamma', 1e-1, 1e1)\n",
      "\u001b[32m[I 2023-09-06 00:35:58,717]\u001b[0m Trial 13 finished with value: 0.9599557305439659 and parameters: {'C': 0.2692474264054388, 'gamma': 4.360957272504026}. Best is trial 0 with value: 0.9882396035337212.\u001b[0m\n"
     ]
    },
    {
     "name": "stdout",
     "output_type": "stream",
     "text": [
      "0.9599557305439659\n"
     ]
    },
    {
     "name": "stderr",
     "output_type": "stream",
     "text": [
      "/var/folders/gp/r_0zq_nx5pl3nmv_2z2bd6hc0000gn/T/ipykernel_46961/506725017.py:2: FutureWarning: suggest_loguniform has been deprecated in v3.0.0. This feature will be removed in v6.0.0. See https://github.com/optuna/optuna/releases/tag/v3.0.0. Use :func:`~optuna.trial.Trial.suggest_float` instead.\n",
      "  C = trial.suggest_loguniform('C', 1e-3, 1)\n",
      "/var/folders/gp/r_0zq_nx5pl3nmv_2z2bd6hc0000gn/T/ipykernel_46961/506725017.py:3: FutureWarning: suggest_loguniform has been deprecated in v3.0.0. This feature will be removed in v6.0.0. See https://github.com/optuna/optuna/releases/tag/v3.0.0. Use :func:`~optuna.trial.Trial.suggest_float` instead.\n",
      "  gamma = trial.suggest_loguniform('gamma', 1e-1, 1e1)\n",
      "\u001b[32m[I 2023-09-06 00:36:01,045]\u001b[0m Trial 14 finished with value: 0.9882396035337212 and parameters: {'C': 0.9990290937010324, 'gamma': 4.27614553697469}. Best is trial 0 with value: 0.9882396035337212.\u001b[0m\n"
     ]
    },
    {
     "name": "stdout",
     "output_type": "stream",
     "text": [
      "0.9882396035337212\n"
     ]
    },
    {
     "name": "stderr",
     "output_type": "stream",
     "text": [
      "/var/folders/gp/r_0zq_nx5pl3nmv_2z2bd6hc0000gn/T/ipykernel_46961/506725017.py:2: FutureWarning: suggest_loguniform has been deprecated in v3.0.0. This feature will be removed in v6.0.0. See https://github.com/optuna/optuna/releases/tag/v3.0.0. Use :func:`~optuna.trial.Trial.suggest_float` instead.\n",
      "  C = trial.suggest_loguniform('C', 1e-3, 1)\n",
      "/var/folders/gp/r_0zq_nx5pl3nmv_2z2bd6hc0000gn/T/ipykernel_46961/506725017.py:3: FutureWarning: suggest_loguniform has been deprecated in v3.0.0. This feature will be removed in v6.0.0. See https://github.com/optuna/optuna/releases/tag/v3.0.0. Use :func:`~optuna.trial.Trial.suggest_float` instead.\n",
      "  gamma = trial.suggest_loguniform('gamma', 1e-1, 1e1)\n",
      "\u001b[32m[I 2023-09-06 00:36:04,528]\u001b[0m Trial 15 finished with value: 0.9599557305439659 and parameters: {'C': 0.29332718075444797, 'gamma': 8.051954268137699}. Best is trial 0 with value: 0.9882396035337212.\u001b[0m\n"
     ]
    },
    {
     "name": "stdout",
     "output_type": "stream",
     "text": [
      "0.9599557305439659\n"
     ]
    },
    {
     "name": "stderr",
     "output_type": "stream",
     "text": [
      "/var/folders/gp/r_0zq_nx5pl3nmv_2z2bd6hc0000gn/T/ipykernel_46961/506725017.py:2: FutureWarning: suggest_loguniform has been deprecated in v3.0.0. This feature will be removed in v6.0.0. See https://github.com/optuna/optuna/releases/tag/v3.0.0. Use :func:`~optuna.trial.Trial.suggest_float` instead.\n",
      "  C = trial.suggest_loguniform('C', 1e-3, 1)\n",
      "/var/folders/gp/r_0zq_nx5pl3nmv_2z2bd6hc0000gn/T/ipykernel_46961/506725017.py:3: FutureWarning: suggest_loguniform has been deprecated in v3.0.0. This feature will be removed in v6.0.0. See https://github.com/optuna/optuna/releases/tag/v3.0.0. Use :func:`~optuna.trial.Trial.suggest_float` instead.\n",
      "  gamma = trial.suggest_loguniform('gamma', 1e-1, 1e1)\n",
      "\u001b[32m[I 2023-09-06 00:36:08,609]\u001b[0m Trial 16 finished with value: 0.9680762374880022 and parameters: {'C': 0.1526664546049688, 'gamma': 3.377868500641122}. Best is trial 0 with value: 0.9882396035337212.\u001b[0m\n"
     ]
    },
    {
     "name": "stdout",
     "output_type": "stream",
     "text": [
      "0.9680762374880022\n"
     ]
    },
    {
     "name": "stderr",
     "output_type": "stream",
     "text": [
      "/var/folders/gp/r_0zq_nx5pl3nmv_2z2bd6hc0000gn/T/ipykernel_46961/506725017.py:2: FutureWarning: suggest_loguniform has been deprecated in v3.0.0. This feature will be removed in v6.0.0. See https://github.com/optuna/optuna/releases/tag/v3.0.0. Use :func:`~optuna.trial.Trial.suggest_float` instead.\n",
      "  C = trial.suggest_loguniform('C', 1e-3, 1)\n",
      "/var/folders/gp/r_0zq_nx5pl3nmv_2z2bd6hc0000gn/T/ipykernel_46961/506725017.py:3: FutureWarning: suggest_loguniform has been deprecated in v3.0.0. This feature will be removed in v6.0.0. See https://github.com/optuna/optuna/releases/tag/v3.0.0. Use :func:`~optuna.trial.Trial.suggest_float` instead.\n",
      "  gamma = trial.suggest_loguniform('gamma', 1e-1, 1e1)\n",
      "\u001b[32m[I 2023-09-06 00:36:11,572]\u001b[0m Trial 17 finished with value: 0.9680762374880022 and parameters: {'C': 0.4074935890252524, 'gamma': 9.957125583559657}. Best is trial 0 with value: 0.9882396035337212.\u001b[0m\n"
     ]
    },
    {
     "name": "stdout",
     "output_type": "stream",
     "text": [
      "0.9680762374880022\n"
     ]
    },
    {
     "name": "stderr",
     "output_type": "stream",
     "text": [
      "/var/folders/gp/r_0zq_nx5pl3nmv_2z2bd6hc0000gn/T/ipykernel_46961/506725017.py:2: FutureWarning: suggest_loguniform has been deprecated in v3.0.0. This feature will be removed in v6.0.0. See https://github.com/optuna/optuna/releases/tag/v3.0.0. Use :func:`~optuna.trial.Trial.suggest_float` instead.\n",
      "  C = trial.suggest_loguniform('C', 1e-3, 1)\n",
      "/var/folders/gp/r_0zq_nx5pl3nmv_2z2bd6hc0000gn/T/ipykernel_46961/506725017.py:3: FutureWarning: suggest_loguniform has been deprecated in v3.0.0. This feature will be removed in v6.0.0. See https://github.com/optuna/optuna/releases/tag/v3.0.0. Use :func:`~optuna.trial.Trial.suggest_float` instead.\n",
      "  gamma = trial.suggest_loguniform('gamma', 1e-1, 1e1)\n",
      "\u001b[32m[I 2023-09-06 00:36:14,361]\u001b[0m Trial 18 finished with value: 0.9680762374880022 and parameters: {'C': 0.460490143548533, 'gamma': 2.9014096995349004}. Best is trial 0 with value: 0.9882396035337212.\u001b[0m\n"
     ]
    },
    {
     "name": "stdout",
     "output_type": "stream",
     "text": [
      "0.9680762374880022\n"
     ]
    },
    {
     "name": "stderr",
     "output_type": "stream",
     "text": [
      "/var/folders/gp/r_0zq_nx5pl3nmv_2z2bd6hc0000gn/T/ipykernel_46961/506725017.py:2: FutureWarning: suggest_loguniform has been deprecated in v3.0.0. This feature will be removed in v6.0.0. See https://github.com/optuna/optuna/releases/tag/v3.0.0. Use :func:`~optuna.trial.Trial.suggest_float` instead.\n",
      "  C = trial.suggest_loguniform('C', 1e-3, 1)\n",
      "/var/folders/gp/r_0zq_nx5pl3nmv_2z2bd6hc0000gn/T/ipykernel_46961/506725017.py:3: FutureWarning: suggest_loguniform has been deprecated in v3.0.0. This feature will be removed in v6.0.0. See https://github.com/optuna/optuna/releases/tag/v3.0.0. Use :func:`~optuna.trial.Trial.suggest_float` instead.\n",
      "  gamma = trial.suggest_loguniform('gamma', 1e-1, 1e1)\n",
      "\u001b[32m[I 2023-09-06 00:36:18,474]\u001b[0m Trial 19 finished with value: 0.9680762374880022 and parameters: {'C': 0.14783299711940717, 'gamma': 5.707377779878358}. Best is trial 0 with value: 0.9882396035337212.\u001b[0m\n"
     ]
    },
    {
     "name": "stdout",
     "output_type": "stream",
     "text": [
      "0.9680762374880022\n"
     ]
    },
    {
     "name": "stderr",
     "output_type": "stream",
     "text": [
      "/var/folders/gp/r_0zq_nx5pl3nmv_2z2bd6hc0000gn/T/ipykernel_46961/506725017.py:2: FutureWarning: suggest_loguniform has been deprecated in v3.0.0. This feature will be removed in v6.0.0. See https://github.com/optuna/optuna/releases/tag/v3.0.0. Use :func:`~optuna.trial.Trial.suggest_float` instead.\n",
      "  C = trial.suggest_loguniform('C', 1e-3, 1)\n",
      "/var/folders/gp/r_0zq_nx5pl3nmv_2z2bd6hc0000gn/T/ipykernel_46961/506725017.py:3: FutureWarning: suggest_loguniform has been deprecated in v3.0.0. This feature will be removed in v6.0.0. See https://github.com/optuna/optuna/releases/tag/v3.0.0. Use :func:`~optuna.trial.Trial.suggest_float` instead.\n",
      "  gamma = trial.suggest_loguniform('gamma', 1e-1, 1e1)\n",
      "\u001b[32m[I 2023-09-06 00:36:21,104]\u001b[0m Trial 20 finished with value: 0.9882396035337212 and parameters: {'C': 0.6349366529602958, 'gamma': 6.110566439764475}. Best is trial 0 with value: 0.9882396035337212.\u001b[0m\n"
     ]
    },
    {
     "name": "stdout",
     "output_type": "stream",
     "text": [
      "0.9882396035337212\n"
     ]
    },
    {
     "name": "stderr",
     "output_type": "stream",
     "text": [
      "/var/folders/gp/r_0zq_nx5pl3nmv_2z2bd6hc0000gn/T/ipykernel_46961/506725017.py:2: FutureWarning: suggest_loguniform has been deprecated in v3.0.0. This feature will be removed in v6.0.0. See https://github.com/optuna/optuna/releases/tag/v3.0.0. Use :func:`~optuna.trial.Trial.suggest_float` instead.\n",
      "  C = trial.suggest_loguniform('C', 1e-3, 1)\n",
      "/var/folders/gp/r_0zq_nx5pl3nmv_2z2bd6hc0000gn/T/ipykernel_46961/506725017.py:3: FutureWarning: suggest_loguniform has been deprecated in v3.0.0. This feature will be removed in v6.0.0. See https://github.com/optuna/optuna/releases/tag/v3.0.0. Use :func:`~optuna.trial.Trial.suggest_float` instead.\n",
      "  gamma = trial.suggest_loguniform('gamma', 1e-1, 1e1)\n",
      "\u001b[32m[I 2023-09-06 00:36:23,408]\u001b[0m Trial 21 finished with value: 0.9882396035337212 and parameters: {'C': 0.9321107114710164, 'gamma': 9.623646003491634}. Best is trial 0 with value: 0.9882396035337212.\u001b[0m\n"
     ]
    },
    {
     "name": "stdout",
     "output_type": "stream",
     "text": [
      "0.9882396035337212\n"
     ]
    },
    {
     "name": "stderr",
     "output_type": "stream",
     "text": [
      "/var/folders/gp/r_0zq_nx5pl3nmv_2z2bd6hc0000gn/T/ipykernel_46961/506725017.py:2: FutureWarning: suggest_loguniform has been deprecated in v3.0.0. This feature will be removed in v6.0.0. See https://github.com/optuna/optuna/releases/tag/v3.0.0. Use :func:`~optuna.trial.Trial.suggest_float` instead.\n",
      "  C = trial.suggest_loguniform('C', 1e-3, 1)\n",
      "/var/folders/gp/r_0zq_nx5pl3nmv_2z2bd6hc0000gn/T/ipykernel_46961/506725017.py:3: FutureWarning: suggest_loguniform has been deprecated in v3.0.0. This feature will be removed in v6.0.0. See https://github.com/optuna/optuna/releases/tag/v3.0.0. Use :func:`~optuna.trial.Trial.suggest_float` instead.\n",
      "  gamma = trial.suggest_loguniform('gamma', 1e-1, 1e1)\n",
      "\u001b[32m[I 2023-09-06 00:36:25,978]\u001b[0m Trial 22 finished with value: 0.9680762374880022 and parameters: {'C': 0.5498601566058993, 'gamma': 9.140230940904065}. Best is trial 0 with value: 0.9882396035337212.\u001b[0m\n"
     ]
    },
    {
     "name": "stdout",
     "output_type": "stream",
     "text": [
      "0.9680762374880022\n"
     ]
    },
    {
     "name": "stderr",
     "output_type": "stream",
     "text": [
      "/var/folders/gp/r_0zq_nx5pl3nmv_2z2bd6hc0000gn/T/ipykernel_46961/506725017.py:2: FutureWarning: suggest_loguniform has been deprecated in v3.0.0. This feature will be removed in v6.0.0. See https://github.com/optuna/optuna/releases/tag/v3.0.0. Use :func:`~optuna.trial.Trial.suggest_float` instead.\n",
      "  C = trial.suggest_loguniform('C', 1e-3, 1)\n",
      "/var/folders/gp/r_0zq_nx5pl3nmv_2z2bd6hc0000gn/T/ipykernel_46961/506725017.py:3: FutureWarning: suggest_loguniform has been deprecated in v3.0.0. This feature will be removed in v6.0.0. See https://github.com/optuna/optuna/releases/tag/v3.0.0. Use :func:`~optuna.trial.Trial.suggest_float` instead.\n",
      "  gamma = trial.suggest_loguniform('gamma', 1e-1, 1e1)\n",
      "\u001b[32m[I 2023-09-06 00:36:28,322]\u001b[0m Trial 23 finished with value: 0.9882396035337212 and parameters: {'C': 0.9337858521886855, 'gamma': 6.438678991288889}. Best is trial 0 with value: 0.9882396035337212.\u001b[0m\n"
     ]
    },
    {
     "name": "stdout",
     "output_type": "stream",
     "text": [
      "0.9882396035337212\n"
     ]
    },
    {
     "name": "stderr",
     "output_type": "stream",
     "text": [
      "/var/folders/gp/r_0zq_nx5pl3nmv_2z2bd6hc0000gn/T/ipykernel_46961/506725017.py:2: FutureWarning: suggest_loguniform has been deprecated in v3.0.0. This feature will be removed in v6.0.0. See https://github.com/optuna/optuna/releases/tag/v3.0.0. Use :func:`~optuna.trial.Trial.suggest_float` instead.\n",
      "  C = trial.suggest_loguniform('C', 1e-3, 1)\n",
      "/var/folders/gp/r_0zq_nx5pl3nmv_2z2bd6hc0000gn/T/ipykernel_46961/506725017.py:3: FutureWarning: suggest_loguniform has been deprecated in v3.0.0. This feature will be removed in v6.0.0. See https://github.com/optuna/optuna/releases/tag/v3.0.0. Use :func:`~optuna.trial.Trial.suggest_float` instead.\n",
      "  gamma = trial.suggest_loguniform('gamma', 1e-1, 1e1)\n",
      "\u001b[32m[I 2023-09-06 00:36:31,990]\u001b[0m Trial 24 finished with value: 0.9599557305439659 and parameters: {'C': 0.23762211445371306, 'gamma': 3.268965029838684}. Best is trial 0 with value: 0.9882396035337212.\u001b[0m\n"
     ]
    },
    {
     "name": "stdout",
     "output_type": "stream",
     "text": [
      "0.9599557305439659\n"
     ]
    },
    {
     "name": "stderr",
     "output_type": "stream",
     "text": [
      "/var/folders/gp/r_0zq_nx5pl3nmv_2z2bd6hc0000gn/T/ipykernel_46961/506725017.py:2: FutureWarning: suggest_loguniform has been deprecated in v3.0.0. This feature will be removed in v6.0.0. See https://github.com/optuna/optuna/releases/tag/v3.0.0. Use :func:`~optuna.trial.Trial.suggest_float` instead.\n",
      "  C = trial.suggest_loguniform('C', 1e-3, 1)\n",
      "/var/folders/gp/r_0zq_nx5pl3nmv_2z2bd6hc0000gn/T/ipykernel_46961/506725017.py:3: FutureWarning: suggest_loguniform has been deprecated in v3.0.0. This feature will be removed in v6.0.0. See https://github.com/optuna/optuna/releases/tag/v3.0.0. Use :func:`~optuna.trial.Trial.suggest_float` instead.\n",
      "  gamma = trial.suggest_loguniform('gamma', 1e-1, 1e1)\n",
      "\u001b[32m[I 2023-09-06 00:36:34,751]\u001b[0m Trial 25 finished with value: 0.9680762374880022 and parameters: {'C': 0.48734958906630604, 'gamma': 6.714221701437907}. Best is trial 0 with value: 0.9882396035337212.\u001b[0m\n"
     ]
    },
    {
     "name": "stdout",
     "output_type": "stream",
     "text": [
      "0.9680762374880022\n"
     ]
    },
    {
     "name": "stderr",
     "output_type": "stream",
     "text": [
      "/var/folders/gp/r_0zq_nx5pl3nmv_2z2bd6hc0000gn/T/ipykernel_46961/506725017.py:2: FutureWarning: suggest_loguniform has been deprecated in v3.0.0. This feature will be removed in v6.0.0. See https://github.com/optuna/optuna/releases/tag/v3.0.0. Use :func:`~optuna.trial.Trial.suggest_float` instead.\n",
      "  C = trial.suggest_loguniform('C', 1e-3, 1)\n",
      "/var/folders/gp/r_0zq_nx5pl3nmv_2z2bd6hc0000gn/T/ipykernel_46961/506725017.py:3: FutureWarning: suggest_loguniform has been deprecated in v3.0.0. This feature will be removed in v6.0.0. See https://github.com/optuna/optuna/releases/tag/v3.0.0. Use :func:`~optuna.trial.Trial.suggest_float` instead.\n",
      "  gamma = trial.suggest_loguniform('gamma', 1e-1, 1e1)\n",
      "\u001b[32m[I 2023-09-06 00:36:37,805]\u001b[0m Trial 26 finished with value: 0.9680762374880022 and parameters: {'C': 0.38853411712368513, 'gamma': 5.3165986061685935}. Best is trial 0 with value: 0.9882396035337212.\u001b[0m\n"
     ]
    },
    {
     "name": "stdout",
     "output_type": "stream",
     "text": [
      "0.9680762374880022\n"
     ]
    },
    {
     "name": "stderr",
     "output_type": "stream",
     "text": [
      "/var/folders/gp/r_0zq_nx5pl3nmv_2z2bd6hc0000gn/T/ipykernel_46961/506725017.py:2: FutureWarning: suggest_loguniform has been deprecated in v3.0.0. This feature will be removed in v6.0.0. See https://github.com/optuna/optuna/releases/tag/v3.0.0. Use :func:`~optuna.trial.Trial.suggest_float` instead.\n",
      "  C = trial.suggest_loguniform('C', 1e-3, 1)\n",
      "/var/folders/gp/r_0zq_nx5pl3nmv_2z2bd6hc0000gn/T/ipykernel_46961/506725017.py:3: FutureWarning: suggest_loguniform has been deprecated in v3.0.0. This feature will be removed in v6.0.0. See https://github.com/optuna/optuna/releases/tag/v3.0.0. Use :func:`~optuna.trial.Trial.suggest_float` instead.\n",
      "  gamma = trial.suggest_loguniform('gamma', 1e-1, 1e1)\n",
      "\u001b[32m[I 2023-09-06 00:36:40,370]\u001b[0m Trial 27 finished with value: 0.9882396035337212 and parameters: {'C': 0.7327939725306999, 'gamma': 9.695592581635195}. Best is trial 0 with value: 0.9882396035337212.\u001b[0m\n"
     ]
    },
    {
     "name": "stdout",
     "output_type": "stream",
     "text": [
      "0.9882396035337212\n"
     ]
    },
    {
     "name": "stderr",
     "output_type": "stream",
     "text": [
      "/var/folders/gp/r_0zq_nx5pl3nmv_2z2bd6hc0000gn/T/ipykernel_46961/506725017.py:2: FutureWarning: suggest_loguniform has been deprecated in v3.0.0. This feature will be removed in v6.0.0. See https://github.com/optuna/optuna/releases/tag/v3.0.0. Use :func:`~optuna.trial.Trial.suggest_float` instead.\n",
      "  C = trial.suggest_loguniform('C', 1e-3, 1)\n",
      "/var/folders/gp/r_0zq_nx5pl3nmv_2z2bd6hc0000gn/T/ipykernel_46961/506725017.py:3: FutureWarning: suggest_loguniform has been deprecated in v3.0.0. This feature will be removed in v6.0.0. See https://github.com/optuna/optuna/releases/tag/v3.0.0. Use :func:`~optuna.trial.Trial.suggest_float` instead.\n",
      "  gamma = trial.suggest_loguniform('gamma', 1e-1, 1e1)\n",
      "\u001b[32m[I 2023-09-06 00:36:44,271]\u001b[0m Trial 28 finished with value: 0.9599557305439659 and parameters: {'C': 0.20675465871812268, 'gamma': 3.0974973858561525}. Best is trial 0 with value: 0.9882396035337212.\u001b[0m\n"
     ]
    },
    {
     "name": "stdout",
     "output_type": "stream",
     "text": [
      "0.9599557305439659\n"
     ]
    },
    {
     "name": "stderr",
     "output_type": "stream",
     "text": [
      "/var/folders/gp/r_0zq_nx5pl3nmv_2z2bd6hc0000gn/T/ipykernel_46961/506725017.py:2: FutureWarning: suggest_loguniform has been deprecated in v3.0.0. This feature will be removed in v6.0.0. See https://github.com/optuna/optuna/releases/tag/v3.0.0. Use :func:`~optuna.trial.Trial.suggest_float` instead.\n",
      "  C = trial.suggest_loguniform('C', 1e-3, 1)\n",
      "/var/folders/gp/r_0zq_nx5pl3nmv_2z2bd6hc0000gn/T/ipykernel_46961/506725017.py:3: FutureWarning: suggest_loguniform has been deprecated in v3.0.0. This feature will be removed in v6.0.0. See https://github.com/optuna/optuna/releases/tag/v3.0.0. Use :func:`~optuna.trial.Trial.suggest_float` instead.\n",
      "  gamma = trial.suggest_loguniform('gamma', 1e-1, 1e1)\n",
      "\u001b[32m[I 2023-09-06 00:36:46,855]\u001b[0m Trial 29 finished with value: 0.9680762374880022 and parameters: {'C': 0.5536174122989082, 'gamma': 7.056089822333606}. Best is trial 0 with value: 0.9882396035337212.\u001b[0m\n"
     ]
    },
    {
     "name": "stdout",
     "output_type": "stream",
     "text": [
      "0.9680762374880022\n"
     ]
    },
    {
     "name": "stderr",
     "output_type": "stream",
     "text": [
      "/var/folders/gp/r_0zq_nx5pl3nmv_2z2bd6hc0000gn/T/ipykernel_46961/506725017.py:2: FutureWarning: suggest_loguniform has been deprecated in v3.0.0. This feature will be removed in v6.0.0. See https://github.com/optuna/optuna/releases/tag/v3.0.0. Use :func:`~optuna.trial.Trial.suggest_float` instead.\n",
      "  C = trial.suggest_loguniform('C', 1e-3, 1)\n",
      "/var/folders/gp/r_0zq_nx5pl3nmv_2z2bd6hc0000gn/T/ipykernel_46961/506725017.py:3: FutureWarning: suggest_loguniform has been deprecated in v3.0.0. This feature will be removed in v6.0.0. See https://github.com/optuna/optuna/releases/tag/v3.0.0. Use :func:`~optuna.trial.Trial.suggest_float` instead.\n",
      "  gamma = trial.suggest_loguniform('gamma', 1e-1, 1e1)\n",
      "\u001b[32m[I 2023-09-06 00:36:49,831]\u001b[0m Trial 30 finished with value: 0.9680762374880022 and parameters: {'C': 0.3673838037364959, 'gamma': 2.4004573141059233}. Best is trial 0 with value: 0.9882396035337212.\u001b[0m\n"
     ]
    },
    {
     "name": "stdout",
     "output_type": "stream",
     "text": [
      "0.9680762374880022\n"
     ]
    },
    {
     "name": "stderr",
     "output_type": "stream",
     "text": [
      "/var/folders/gp/r_0zq_nx5pl3nmv_2z2bd6hc0000gn/T/ipykernel_46961/506725017.py:2: FutureWarning: suggest_loguniform has been deprecated in v3.0.0. This feature will be removed in v6.0.0. See https://github.com/optuna/optuna/releases/tag/v3.0.0. Use :func:`~optuna.trial.Trial.suggest_float` instead.\n",
      "  C = trial.suggest_loguniform('C', 1e-3, 1)\n",
      "/var/folders/gp/r_0zq_nx5pl3nmv_2z2bd6hc0000gn/T/ipykernel_46961/506725017.py:3: FutureWarning: suggest_loguniform has been deprecated in v3.0.0. This feature will be removed in v6.0.0. See https://github.com/optuna/optuna/releases/tag/v3.0.0. Use :func:`~optuna.trial.Trial.suggest_float` instead.\n",
      "  gamma = trial.suggest_loguniform('gamma', 1e-1, 1e1)\n",
      "\u001b[32m[I 2023-09-06 00:36:52,154]\u001b[0m Trial 31 finished with value: 0.9882396035337212 and parameters: {'C': 0.9960889205390051, 'gamma': 4.7335131392963365}. Best is trial 0 with value: 0.9882396035337212.\u001b[0m\n"
     ]
    },
    {
     "name": "stdout",
     "output_type": "stream",
     "text": [
      "0.9882396035337212\n"
     ]
    },
    {
     "name": "stderr",
     "output_type": "stream",
     "text": [
      "/var/folders/gp/r_0zq_nx5pl3nmv_2z2bd6hc0000gn/T/ipykernel_46961/506725017.py:2: FutureWarning: suggest_loguniform has been deprecated in v3.0.0. This feature will be removed in v6.0.0. See https://github.com/optuna/optuna/releases/tag/v3.0.0. Use :func:`~optuna.trial.Trial.suggest_float` instead.\n",
      "  C = trial.suggest_loguniform('C', 1e-3, 1)\n",
      "/var/folders/gp/r_0zq_nx5pl3nmv_2z2bd6hc0000gn/T/ipykernel_46961/506725017.py:3: FutureWarning: suggest_loguniform has been deprecated in v3.0.0. This feature will be removed in v6.0.0. See https://github.com/optuna/optuna/releases/tag/v3.0.0. Use :func:`~optuna.trial.Trial.suggest_float` instead.\n",
      "  gamma = trial.suggest_loguniform('gamma', 1e-1, 1e1)\n",
      "\u001b[32m[I 2023-09-06 00:36:54,779]\u001b[0m Trial 32 finished with value: 0.9882396035337212 and parameters: {'C': 0.6713631957134283, 'gamma': 4.430080122334537}. Best is trial 0 with value: 0.9882396035337212.\u001b[0m\n"
     ]
    },
    {
     "name": "stdout",
     "output_type": "stream",
     "text": [
      "0.9882396035337212\n"
     ]
    },
    {
     "name": "stderr",
     "output_type": "stream",
     "text": [
      "/var/folders/gp/r_0zq_nx5pl3nmv_2z2bd6hc0000gn/T/ipykernel_46961/506725017.py:2: FutureWarning: suggest_loguniform has been deprecated in v3.0.0. This feature will be removed in v6.0.0. See https://github.com/optuna/optuna/releases/tag/v3.0.0. Use :func:`~optuna.trial.Trial.suggest_float` instead.\n",
      "  C = trial.suggest_loguniform('C', 1e-3, 1)\n",
      "/var/folders/gp/r_0zq_nx5pl3nmv_2z2bd6hc0000gn/T/ipykernel_46961/506725017.py:3: FutureWarning: suggest_loguniform has been deprecated in v3.0.0. This feature will be removed in v6.0.0. See https://github.com/optuna/optuna/releases/tag/v3.0.0. Use :func:`~optuna.trial.Trial.suggest_float` instead.\n",
      "  gamma = trial.suggest_loguniform('gamma', 1e-1, 1e1)\n",
      "\u001b[32m[I 2023-09-06 00:36:57,395]\u001b[0m Trial 33 finished with value: 0.9882396035337212 and parameters: {'C': 0.7024327442935742, 'gamma': 7.224464438283021}. Best is trial 0 with value: 0.9882396035337212.\u001b[0m\n"
     ]
    },
    {
     "name": "stdout",
     "output_type": "stream",
     "text": [
      "0.9882396035337212\n"
     ]
    },
    {
     "name": "stderr",
     "output_type": "stream",
     "text": [
      "/var/folders/gp/r_0zq_nx5pl3nmv_2z2bd6hc0000gn/T/ipykernel_46961/506725017.py:2: FutureWarning: suggest_loguniform has been deprecated in v3.0.0. This feature will be removed in v6.0.0. See https://github.com/optuna/optuna/releases/tag/v3.0.0. Use :func:`~optuna.trial.Trial.suggest_float` instead.\n",
      "  C = trial.suggest_loguniform('C', 1e-3, 1)\n",
      "/var/folders/gp/r_0zq_nx5pl3nmv_2z2bd6hc0000gn/T/ipykernel_46961/506725017.py:3: FutureWarning: suggest_loguniform has been deprecated in v3.0.0. This feature will be removed in v6.0.0. See https://github.com/optuna/optuna/releases/tag/v3.0.0. Use :func:`~optuna.trial.Trial.suggest_float` instead.\n",
      "  gamma = trial.suggest_loguniform('gamma', 1e-1, 1e1)\n",
      "\u001b[32m[I 2023-09-06 00:37:00,443]\u001b[0m Trial 34 finished with value: 0.9680762374880022 and parameters: {'C': 0.3943131415202266, 'gamma': 5.210098506537867}. Best is trial 0 with value: 0.9882396035337212.\u001b[0m\n"
     ]
    },
    {
     "name": "stdout",
     "output_type": "stream",
     "text": [
      "0.9680762374880022\n"
     ]
    },
    {
     "name": "stderr",
     "output_type": "stream",
     "text": [
      "/var/folders/gp/r_0zq_nx5pl3nmv_2z2bd6hc0000gn/T/ipykernel_46961/506725017.py:2: FutureWarning: suggest_loguniform has been deprecated in v3.0.0. This feature will be removed in v6.0.0. See https://github.com/optuna/optuna/releases/tag/v3.0.0. Use :func:`~optuna.trial.Trial.suggest_float` instead.\n",
      "  C = trial.suggest_loguniform('C', 1e-3, 1)\n",
      "/var/folders/gp/r_0zq_nx5pl3nmv_2z2bd6hc0000gn/T/ipykernel_46961/506725017.py:3: FutureWarning: suggest_loguniform has been deprecated in v3.0.0. This feature will be removed in v6.0.0. See https://github.com/optuna/optuna/releases/tag/v3.0.0. Use :func:`~optuna.trial.Trial.suggest_float` instead.\n",
      "  gamma = trial.suggest_loguniform('gamma', 1e-1, 1e1)\n",
      "\u001b[32m[I 2023-09-06 00:37:04,470]\u001b[0m Trial 35 finished with value: 0.8381379404908816 and parameters: {'C': 0.0940993509649635, 'gamma': 0.8687069797161998}. Best is trial 0 with value: 0.9882396035337212.\u001b[0m\n"
     ]
    },
    {
     "name": "stdout",
     "output_type": "stream",
     "text": [
      "0.8381379404908816\n"
     ]
    },
    {
     "name": "stderr",
     "output_type": "stream",
     "text": [
      "/var/folders/gp/r_0zq_nx5pl3nmv_2z2bd6hc0000gn/T/ipykernel_46961/506725017.py:2: FutureWarning: suggest_loguniform has been deprecated in v3.0.0. This feature will be removed in v6.0.0. See https://github.com/optuna/optuna/releases/tag/v3.0.0. Use :func:`~optuna.trial.Trial.suggest_float` instead.\n",
      "  C = trial.suggest_loguniform('C', 1e-3, 1)\n",
      "/var/folders/gp/r_0zq_nx5pl3nmv_2z2bd6hc0000gn/T/ipykernel_46961/506725017.py:3: FutureWarning: suggest_loguniform has been deprecated in v3.0.0. This feature will be removed in v6.0.0. See https://github.com/optuna/optuna/releases/tag/v3.0.0. Use :func:`~optuna.trial.Trial.suggest_float` instead.\n",
      "  gamma = trial.suggest_loguniform('gamma', 1e-1, 1e1)\n",
      "\u001b[32m[I 2023-09-06 00:37:07,943]\u001b[0m Trial 36 finished with value: 0.9599557305439659 and parameters: {'C': 0.3013656904614187, 'gamma': 7.9852758899669904}. Best is trial 0 with value: 0.9882396035337212.\u001b[0m\n"
     ]
    },
    {
     "name": "stdout",
     "output_type": "stream",
     "text": [
      "0.9599557305439659\n"
     ]
    },
    {
     "name": "stderr",
     "output_type": "stream",
     "text": [
      "/var/folders/gp/r_0zq_nx5pl3nmv_2z2bd6hc0000gn/T/ipykernel_46961/506725017.py:2: FutureWarning: suggest_loguniform has been deprecated in v3.0.0. This feature will be removed in v6.0.0. See https://github.com/optuna/optuna/releases/tag/v3.0.0. Use :func:`~optuna.trial.Trial.suggest_float` instead.\n",
      "  C = trial.suggest_loguniform('C', 1e-3, 1)\n",
      "/var/folders/gp/r_0zq_nx5pl3nmv_2z2bd6hc0000gn/T/ipykernel_46961/506725017.py:3: FutureWarning: suggest_loguniform has been deprecated in v3.0.0. This feature will be removed in v6.0.0. See https://github.com/optuna/optuna/releases/tag/v3.0.0. Use :func:`~optuna.trial.Trial.suggest_float` instead.\n",
      "  gamma = trial.suggest_loguniform('gamma', 1e-1, 1e1)\n",
      "\u001b[32m[I 2023-09-06 00:37:10,547]\u001b[0m Trial 37 finished with value: 0.9882396035337212 and parameters: {'C': 0.7251036165334952, 'gamma': 3.9192531724578568}. Best is trial 0 with value: 0.9882396035337212.\u001b[0m\n"
     ]
    },
    {
     "name": "stdout",
     "output_type": "stream",
     "text": [
      "0.9882396035337212\n"
     ]
    },
    {
     "name": "stderr",
     "output_type": "stream",
     "text": [
      "/var/folders/gp/r_0zq_nx5pl3nmv_2z2bd6hc0000gn/T/ipykernel_46961/506725017.py:2: FutureWarning: suggest_loguniform has been deprecated in v3.0.0. This feature will be removed in v6.0.0. See https://github.com/optuna/optuna/releases/tag/v3.0.0. Use :func:`~optuna.trial.Trial.suggest_float` instead.\n",
      "  C = trial.suggest_loguniform('C', 1e-3, 1)\n",
      "/var/folders/gp/r_0zq_nx5pl3nmv_2z2bd6hc0000gn/T/ipykernel_46961/506725017.py:3: FutureWarning: suggest_loguniform has been deprecated in v3.0.0. This feature will be removed in v6.0.0. See https://github.com/optuna/optuna/releases/tag/v3.0.0. Use :func:`~optuna.trial.Trial.suggest_float` instead.\n",
      "  gamma = trial.suggest_loguniform('gamma', 1e-1, 1e1)\n",
      "\u001b[32m[I 2023-09-06 00:37:14,758]\u001b[0m Trial 38 finished with value: 0.8070580399992163 and parameters: {'C': 0.05566841094822322, 'gamma': 5.428938867319501}. Best is trial 0 with value: 0.9882396035337212.\u001b[0m\n"
     ]
    },
    {
     "name": "stdout",
     "output_type": "stream",
     "text": [
      "0.8070580399992163\n"
     ]
    },
    {
     "name": "stderr",
     "output_type": "stream",
     "text": [
      "/var/folders/gp/r_0zq_nx5pl3nmv_2z2bd6hc0000gn/T/ipykernel_46961/506725017.py:2: FutureWarning: suggest_loguniform has been deprecated in v3.0.0. This feature will be removed in v6.0.0. See https://github.com/optuna/optuna/releases/tag/v3.0.0. Use :func:`~optuna.trial.Trial.suggest_float` instead.\n",
      "  C = trial.suggest_loguniform('C', 1e-3, 1)\n",
      "/var/folders/gp/r_0zq_nx5pl3nmv_2z2bd6hc0000gn/T/ipykernel_46961/506725017.py:3: FutureWarning: suggest_loguniform has been deprecated in v3.0.0. This feature will be removed in v6.0.0. See https://github.com/optuna/optuna/releases/tag/v3.0.0. Use :func:`~optuna.trial.Trial.suggest_float` instead.\n",
      "  gamma = trial.suggest_loguniform('gamma', 1e-1, 1e1)\n",
      "\u001b[32m[I 2023-09-06 00:37:18,699]\u001b[0m Trial 39 finished with value: 0.9599557305439659 and parameters: {'C': 0.20327003248722061, 'gamma': 7.321713069247576}. Best is trial 0 with value: 0.9882396035337212.\u001b[0m\n"
     ]
    },
    {
     "name": "stdout",
     "output_type": "stream",
     "text": [
      "0.9599557305439659\n"
     ]
    },
    {
     "name": "stderr",
     "output_type": "stream",
     "text": [
      "/var/folders/gp/r_0zq_nx5pl3nmv_2z2bd6hc0000gn/T/ipykernel_46961/506725017.py:2: FutureWarning: suggest_loguniform has been deprecated in v3.0.0. This feature will be removed in v6.0.0. See https://github.com/optuna/optuna/releases/tag/v3.0.0. Use :func:`~optuna.trial.Trial.suggest_float` instead.\n",
      "  C = trial.suggest_loguniform('C', 1e-3, 1)\n",
      "/var/folders/gp/r_0zq_nx5pl3nmv_2z2bd6hc0000gn/T/ipykernel_46961/506725017.py:3: FutureWarning: suggest_loguniform has been deprecated in v3.0.0. This feature will be removed in v6.0.0. See https://github.com/optuna/optuna/releases/tag/v3.0.0. Use :func:`~optuna.trial.Trial.suggest_float` instead.\n",
      "  gamma = trial.suggest_loguniform('gamma', 1e-1, 1e1)\n",
      "\u001b[32m[I 2023-09-06 00:37:21,471]\u001b[0m Trial 40 finished with value: 0.9680762374880022 and parameters: {'C': 0.4781496597816156, 'gamma': 2.1576953629406357}. Best is trial 0 with value: 0.9882396035337212.\u001b[0m\n"
     ]
    },
    {
     "name": "stdout",
     "output_type": "stream",
     "text": [
      "0.9680762374880022\n"
     ]
    },
    {
     "name": "stderr",
     "output_type": "stream",
     "text": [
      "/var/folders/gp/r_0zq_nx5pl3nmv_2z2bd6hc0000gn/T/ipykernel_46961/506725017.py:2: FutureWarning: suggest_loguniform has been deprecated in v3.0.0. This feature will be removed in v6.0.0. See https://github.com/optuna/optuna/releases/tag/v3.0.0. Use :func:`~optuna.trial.Trial.suggest_float` instead.\n",
      "  C = trial.suggest_loguniform('C', 1e-3, 1)\n",
      "/var/folders/gp/r_0zq_nx5pl3nmv_2z2bd6hc0000gn/T/ipykernel_46961/506725017.py:3: FutureWarning: suggest_loguniform has been deprecated in v3.0.0. This feature will be removed in v6.0.0. See https://github.com/optuna/optuna/releases/tag/v3.0.0. Use :func:`~optuna.trial.Trial.suggest_float` instead.\n",
      "  gamma = trial.suggest_loguniform('gamma', 1e-1, 1e1)\n",
      "\u001b[32m[I 2023-09-06 00:37:23,800]\u001b[0m Trial 41 finished with value: 0.9882396035337212 and parameters: {'C': 0.9718461604445208, 'gamma': 3.8944798928753435}. Best is trial 0 with value: 0.9882396035337212.\u001b[0m\n"
     ]
    },
    {
     "name": "stdout",
     "output_type": "stream",
     "text": [
      "0.9882396035337212\n"
     ]
    },
    {
     "name": "stderr",
     "output_type": "stream",
     "text": [
      "/var/folders/gp/r_0zq_nx5pl3nmv_2z2bd6hc0000gn/T/ipykernel_46961/506725017.py:2: FutureWarning: suggest_loguniform has been deprecated in v3.0.0. This feature will be removed in v6.0.0. See https://github.com/optuna/optuna/releases/tag/v3.0.0. Use :func:`~optuna.trial.Trial.suggest_float` instead.\n",
      "  C = trial.suggest_loguniform('C', 1e-3, 1)\n",
      "/var/folders/gp/r_0zq_nx5pl3nmv_2z2bd6hc0000gn/T/ipykernel_46961/506725017.py:3: FutureWarning: suggest_loguniform has been deprecated in v3.0.0. This feature will be removed in v6.0.0. See https://github.com/optuna/optuna/releases/tag/v3.0.0. Use :func:`~optuna.trial.Trial.suggest_float` instead.\n",
      "  gamma = trial.suggest_loguniform('gamma', 1e-1, 1e1)\n",
      "\u001b[32m[I 2023-09-06 00:37:26,410]\u001b[0m Trial 42 finished with value: 0.9882396035337212 and parameters: {'C': 0.7017480917747221, 'gamma': 4.593458694817426}. Best is trial 0 with value: 0.9882396035337212.\u001b[0m\n"
     ]
    },
    {
     "name": "stdout",
     "output_type": "stream",
     "text": [
      "0.9882396035337212\n"
     ]
    },
    {
     "name": "stderr",
     "output_type": "stream",
     "text": [
      "/var/folders/gp/r_0zq_nx5pl3nmv_2z2bd6hc0000gn/T/ipykernel_46961/506725017.py:2: FutureWarning: suggest_loguniform has been deprecated in v3.0.0. This feature will be removed in v6.0.0. See https://github.com/optuna/optuna/releases/tag/v3.0.0. Use :func:`~optuna.trial.Trial.suggest_float` instead.\n",
      "  C = trial.suggest_loguniform('C', 1e-3, 1)\n",
      "/var/folders/gp/r_0zq_nx5pl3nmv_2z2bd6hc0000gn/T/ipykernel_46961/506725017.py:3: FutureWarning: suggest_loguniform has been deprecated in v3.0.0. This feature will be removed in v6.0.0. See https://github.com/optuna/optuna/releases/tag/v3.0.0. Use :func:`~optuna.trial.Trial.suggest_float` instead.\n",
      "  gamma = trial.suggest_loguniform('gamma', 1e-1, 1e1)\n",
      "\u001b[32m[I 2023-09-06 00:37:29,363]\u001b[0m Trial 43 finished with value: 0.9680762374880022 and parameters: {'C': 0.3468600309064554, 'gamma': 8.17574588907365}. Best is trial 0 with value: 0.9882396035337212.\u001b[0m\n"
     ]
    },
    {
     "name": "stdout",
     "output_type": "stream",
     "text": [
      "0.9680762374880022\n"
     ]
    },
    {
     "name": "stderr",
     "output_type": "stream",
     "text": [
      "/var/folders/gp/r_0zq_nx5pl3nmv_2z2bd6hc0000gn/T/ipykernel_46961/506725017.py:2: FutureWarning: suggest_loguniform has been deprecated in v3.0.0. This feature will be removed in v6.0.0. See https://github.com/optuna/optuna/releases/tag/v3.0.0. Use :func:`~optuna.trial.Trial.suggest_float` instead.\n",
      "  C = trial.suggest_loguniform('C', 1e-3, 1)\n",
      "/var/folders/gp/r_0zq_nx5pl3nmv_2z2bd6hc0000gn/T/ipykernel_46961/506725017.py:3: FutureWarning: suggest_loguniform has been deprecated in v3.0.0. This feature will be removed in v6.0.0. See https://github.com/optuna/optuna/releases/tag/v3.0.0. Use :func:`~optuna.trial.Trial.suggest_float` instead.\n",
      "  gamma = trial.suggest_loguniform('gamma', 1e-1, 1e1)\n",
      "\u001b[32m[I 2023-09-06 00:37:31,705]\u001b[0m Trial 44 finished with value: 0.9882396035337212 and parameters: {'C': 0.9491022424930325, 'gamma': 5.927352536271496}. Best is trial 0 with value: 0.9882396035337212.\u001b[0m\n"
     ]
    },
    {
     "name": "stdout",
     "output_type": "stream",
     "text": [
      "0.9882396035337212\n"
     ]
    },
    {
     "name": "stderr",
     "output_type": "stream",
     "text": [
      "/var/folders/gp/r_0zq_nx5pl3nmv_2z2bd6hc0000gn/T/ipykernel_46961/506725017.py:2: FutureWarning: suggest_loguniform has been deprecated in v3.0.0. This feature will be removed in v6.0.0. See https://github.com/optuna/optuna/releases/tag/v3.0.0. Use :func:`~optuna.trial.Trial.suggest_float` instead.\n",
      "  C = trial.suggest_loguniform('C', 1e-3, 1)\n",
      "/var/folders/gp/r_0zq_nx5pl3nmv_2z2bd6hc0000gn/T/ipykernel_46961/506725017.py:3: FutureWarning: suggest_loguniform has been deprecated in v3.0.0. This feature will be removed in v6.0.0. See https://github.com/optuna/optuna/releases/tag/v3.0.0. Use :func:`~optuna.trial.Trial.suggest_float` instead.\n",
      "  gamma = trial.suggest_loguniform('gamma', 1e-1, 1e1)\n",
      "\u001b[32m[I 2023-09-06 00:37:34,284]\u001b[0m Trial 45 finished with value: 0.9680762374880022 and parameters: {'C': 0.5679787996858496, 'gamma': 3.8243737540767797}. Best is trial 0 with value: 0.9882396035337212.\u001b[0m\n"
     ]
    },
    {
     "name": "stdout",
     "output_type": "stream",
     "text": [
      "0.9680762374880022\n"
     ]
    },
    {
     "name": "stderr",
     "output_type": "stream",
     "text": [
      "/var/folders/gp/r_0zq_nx5pl3nmv_2z2bd6hc0000gn/T/ipykernel_46961/506725017.py:2: FutureWarning: suggest_loguniform has been deprecated in v3.0.0. This feature will be removed in v6.0.0. See https://github.com/optuna/optuna/releases/tag/v3.0.0. Use :func:`~optuna.trial.Trial.suggest_float` instead.\n",
      "  C = trial.suggest_loguniform('C', 1e-3, 1)\n",
      "/var/folders/gp/r_0zq_nx5pl3nmv_2z2bd6hc0000gn/T/ipykernel_46961/506725017.py:3: FutureWarning: suggest_loguniform has been deprecated in v3.0.0. This feature will be removed in v6.0.0. See https://github.com/optuna/optuna/releases/tag/v3.0.0. Use :func:`~optuna.trial.Trial.suggest_float` instead.\n",
      "  gamma = trial.suggest_loguniform('gamma', 1e-1, 1e1)\n",
      "\u001b[32m[I 2023-09-06 00:37:37,762]\u001b[0m Trial 46 finished with value: 0.9599557305439659 and parameters: {'C': 0.29412922737055924, 'gamma': 2.542599425964021}. Best is trial 0 with value: 0.9882396035337212.\u001b[0m\n"
     ]
    },
    {
     "name": "stdout",
     "output_type": "stream",
     "text": [
      "0.9599557305439659\n"
     ]
    },
    {
     "name": "stderr",
     "output_type": "stream",
     "text": [
      "/var/folders/gp/r_0zq_nx5pl3nmv_2z2bd6hc0000gn/T/ipykernel_46961/506725017.py:2: FutureWarning: suggest_loguniform has been deprecated in v3.0.0. This feature will be removed in v6.0.0. See https://github.com/optuna/optuna/releases/tag/v3.0.0. Use :func:`~optuna.trial.Trial.suggest_float` instead.\n",
      "  C = trial.suggest_loguniform('C', 1e-3, 1)\n",
      "/var/folders/gp/r_0zq_nx5pl3nmv_2z2bd6hc0000gn/T/ipykernel_46961/506725017.py:3: FutureWarning: suggest_loguniform has been deprecated in v3.0.0. This feature will be removed in v6.0.0. See https://github.com/optuna/optuna/releases/tag/v3.0.0. Use :func:`~optuna.trial.Trial.suggest_float` instead.\n",
      "  gamma = trial.suggest_loguniform('gamma', 1e-1, 1e1)\n",
      "\u001b[32m[I 2023-09-06 00:37:40,553]\u001b[0m Trial 47 finished with value: 0.9680762374880022 and parameters: {'C': 0.5065548732681806, 'gamma': 8.416132706807664}. Best is trial 0 with value: 0.9882396035337212.\u001b[0m\n"
     ]
    },
    {
     "name": "stdout",
     "output_type": "stream",
     "text": [
      "0.9680762374880022\n"
     ]
    },
    {
     "name": "stderr",
     "output_type": "stream",
     "text": [
      "/var/folders/gp/r_0zq_nx5pl3nmv_2z2bd6hc0000gn/T/ipykernel_46961/506725017.py:2: FutureWarning: suggest_loguniform has been deprecated in v3.0.0. This feature will be removed in v6.0.0. See https://github.com/optuna/optuna/releases/tag/v3.0.0. Use :func:`~optuna.trial.Trial.suggest_float` instead.\n",
      "  C = trial.suggest_loguniform('C', 1e-3, 1)\n",
      "/var/folders/gp/r_0zq_nx5pl3nmv_2z2bd6hc0000gn/T/ipykernel_46961/506725017.py:3: FutureWarning: suggest_loguniform has been deprecated in v3.0.0. This feature will be removed in v6.0.0. See https://github.com/optuna/optuna/releases/tag/v3.0.0. Use :func:`~optuna.trial.Trial.suggest_float` instead.\n",
      "  gamma = trial.suggest_loguniform('gamma', 1e-1, 1e1)\n",
      "\u001b[32m[I 2023-09-06 00:37:43,153]\u001b[0m Trial 48 finished with value: 0.9882396035337212 and parameters: {'C': 0.7351520421884756, 'gamma': 6.152652068853963}. Best is trial 0 with value: 0.9882396035337212.\u001b[0m\n"
     ]
    },
    {
     "name": "stdout",
     "output_type": "stream",
     "text": [
      "0.9882396035337212\n"
     ]
    },
    {
     "name": "stderr",
     "output_type": "stream",
     "text": [
      "/var/folders/gp/r_0zq_nx5pl3nmv_2z2bd6hc0000gn/T/ipykernel_46961/506725017.py:2: FutureWarning: suggest_loguniform has been deprecated in v3.0.0. This feature will be removed in v6.0.0. See https://github.com/optuna/optuna/releases/tag/v3.0.0. Use :func:`~optuna.trial.Trial.suggest_float` instead.\n",
      "  C = trial.suggest_loguniform('C', 1e-3, 1)\n",
      "/var/folders/gp/r_0zq_nx5pl3nmv_2z2bd6hc0000gn/T/ipykernel_46961/506725017.py:3: FutureWarning: suggest_loguniform has been deprecated in v3.0.0. This feature will be removed in v6.0.0. See https://github.com/optuna/optuna/releases/tag/v3.0.0. Use :func:`~optuna.trial.Trial.suggest_float` instead.\n",
      "  gamma = trial.suggest_loguniform('gamma', 1e-1, 1e1)\n",
      "\u001b[32m[I 2023-09-06 00:37:47,362]\u001b[0m Trial 49 finished with value: 0.7986558539499715 and parameters: {'C': 0.026526960983005513, 'gamma': 4.663057521891094}. Best is trial 0 with value: 0.9882396035337212.\u001b[0m\n"
     ]
    },
    {
     "name": "stdout",
     "output_type": "stream",
     "text": [
      "0.7986558539499715\n"
     ]
    },
    {
     "name": "stderr",
     "output_type": "stream",
     "text": [
      "/var/folders/gp/r_0zq_nx5pl3nmv_2z2bd6hc0000gn/T/ipykernel_46961/506725017.py:2: FutureWarning: suggest_loguniform has been deprecated in v3.0.0. This feature will be removed in v6.0.0. See https://github.com/optuna/optuna/releases/tag/v3.0.0. Use :func:`~optuna.trial.Trial.suggest_float` instead.\n",
      "  C = trial.suggest_loguniform('C', 1e-3, 1)\n",
      "/var/folders/gp/r_0zq_nx5pl3nmv_2z2bd6hc0000gn/T/ipykernel_46961/506725017.py:3: FutureWarning: suggest_loguniform has been deprecated in v3.0.0. This feature will be removed in v6.0.0. See https://github.com/optuna/optuna/releases/tag/v3.0.0. Use :func:`~optuna.trial.Trial.suggest_float` instead.\n",
      "  gamma = trial.suggest_loguniform('gamma', 1e-1, 1e1)\n",
      "\u001b[32m[I 2023-09-06 00:37:50,124]\u001b[0m Trial 50 finished with value: 0.9680762374880022 and parameters: {'C': 0.41552501517509316, 'gamma': 8.361460115417481}. Best is trial 0 with value: 0.9882396035337212.\u001b[0m\n"
     ]
    },
    {
     "name": "stdout",
     "output_type": "stream",
     "text": [
      "0.9680762374880022\n"
     ]
    },
    {
     "name": "stderr",
     "output_type": "stream",
     "text": [
      "/var/folders/gp/r_0zq_nx5pl3nmv_2z2bd6hc0000gn/T/ipykernel_46961/506725017.py:2: FutureWarning: suggest_loguniform has been deprecated in v3.0.0. This feature will be removed in v6.0.0. See https://github.com/optuna/optuna/releases/tag/v3.0.0. Use :func:`~optuna.trial.Trial.suggest_float` instead.\n",
      "  C = trial.suggest_loguniform('C', 1e-3, 1)\n",
      "/var/folders/gp/r_0zq_nx5pl3nmv_2z2bd6hc0000gn/T/ipykernel_46961/506725017.py:3: FutureWarning: suggest_loguniform has been deprecated in v3.0.0. This feature will be removed in v6.0.0. See https://github.com/optuna/optuna/releases/tag/v3.0.0. Use :func:`~optuna.trial.Trial.suggest_float` instead.\n",
      "  gamma = trial.suggest_loguniform('gamma', 1e-1, 1e1)\n",
      "\u001b[32m[I 2023-09-06 00:37:52,708]\u001b[0m Trial 51 finished with value: 0.9882396035337212 and parameters: {'C': 0.6590400084200138, 'gamma': 6.292479010680578}. Best is trial 0 with value: 0.9882396035337212.\u001b[0m\n"
     ]
    },
    {
     "name": "stdout",
     "output_type": "stream",
     "text": [
      "0.9882396035337212\n"
     ]
    },
    {
     "name": "stderr",
     "output_type": "stream",
     "text": [
      "/var/folders/gp/r_0zq_nx5pl3nmv_2z2bd6hc0000gn/T/ipykernel_46961/506725017.py:2: FutureWarning: suggest_loguniform has been deprecated in v3.0.0. This feature will be removed in v6.0.0. See https://github.com/optuna/optuna/releases/tag/v3.0.0. Use :func:`~optuna.trial.Trial.suggest_float` instead.\n",
      "  C = trial.suggest_loguniform('C', 1e-3, 1)\n",
      "/var/folders/gp/r_0zq_nx5pl3nmv_2z2bd6hc0000gn/T/ipykernel_46961/506725017.py:3: FutureWarning: suggest_loguniform has been deprecated in v3.0.0. This feature will be removed in v6.0.0. See https://github.com/optuna/optuna/releases/tag/v3.0.0. Use :func:`~optuna.trial.Trial.suggest_float` instead.\n",
      "  gamma = trial.suggest_loguniform('gamma', 1e-1, 1e1)\n",
      "\u001b[32m[I 2023-09-06 00:37:54,997]\u001b[0m Trial 52 finished with value: 0.9882396035337212 and parameters: {'C': 0.978875178139336, 'gamma': 9.996204505018287}. Best is trial 0 with value: 0.9882396035337212.\u001b[0m\n"
     ]
    },
    {
     "name": "stdout",
     "output_type": "stream",
     "text": [
      "0.9882396035337212\n"
     ]
    },
    {
     "name": "stderr",
     "output_type": "stream",
     "text": [
      "/var/folders/gp/r_0zq_nx5pl3nmv_2z2bd6hc0000gn/T/ipykernel_46961/506725017.py:2: FutureWarning: suggest_loguniform has been deprecated in v3.0.0. This feature will be removed in v6.0.0. See https://github.com/optuna/optuna/releases/tag/v3.0.0. Use :func:`~optuna.trial.Trial.suggest_float` instead.\n",
      "  C = trial.suggest_loguniform('C', 1e-3, 1)\n",
      "/var/folders/gp/r_0zq_nx5pl3nmv_2z2bd6hc0000gn/T/ipykernel_46961/506725017.py:3: FutureWarning: suggest_loguniform has been deprecated in v3.0.0. This feature will be removed in v6.0.0. See https://github.com/optuna/optuna/releases/tag/v3.0.0. Use :func:`~optuna.trial.Trial.suggest_float` instead.\n",
      "  gamma = trial.suggest_loguniform('gamma', 1e-1, 1e1)\n",
      "\u001b[32m[I 2023-09-06 00:37:57,609]\u001b[0m Trial 53 finished with value: 0.9680762374880022 and parameters: {'C': 0.54480405773244, 'gamma': 5.925961690126404}. Best is trial 0 with value: 0.9882396035337212.\u001b[0m\n"
     ]
    },
    {
     "name": "stdout",
     "output_type": "stream",
     "text": [
      "0.9680762374880022\n"
     ]
    },
    {
     "name": "stderr",
     "output_type": "stream",
     "text": [
      "/var/folders/gp/r_0zq_nx5pl3nmv_2z2bd6hc0000gn/T/ipykernel_46961/506725017.py:2: FutureWarning: suggest_loguniform has been deprecated in v3.0.0. This feature will be removed in v6.0.0. See https://github.com/optuna/optuna/releases/tag/v3.0.0. Use :func:`~optuna.trial.Trial.suggest_float` instead.\n",
      "  C = trial.suggest_loguniform('C', 1e-3, 1)\n",
      "/var/folders/gp/r_0zq_nx5pl3nmv_2z2bd6hc0000gn/T/ipykernel_46961/506725017.py:3: FutureWarning: suggest_loguniform has been deprecated in v3.0.0. This feature will be removed in v6.0.0. See https://github.com/optuna/optuna/releases/tag/v3.0.0. Use :func:`~optuna.trial.Trial.suggest_float` instead.\n",
      "  gamma = trial.suggest_loguniform('gamma', 1e-1, 1e1)\n",
      "\u001b[32m[I 2023-09-06 00:38:00,242]\u001b[0m Trial 54 finished with value: 0.9882396035337212 and parameters: {'C': 0.7551971671330672, 'gamma': 7.053436216713911}. Best is trial 0 with value: 0.9882396035337212.\u001b[0m\n"
     ]
    },
    {
     "name": "stdout",
     "output_type": "stream",
     "text": [
      "0.9882396035337212\n"
     ]
    },
    {
     "name": "stderr",
     "output_type": "stream",
     "text": [
      "/var/folders/gp/r_0zq_nx5pl3nmv_2z2bd6hc0000gn/T/ipykernel_46961/506725017.py:2: FutureWarning: suggest_loguniform has been deprecated in v3.0.0. This feature will be removed in v6.0.0. See https://github.com/optuna/optuna/releases/tag/v3.0.0. Use :func:`~optuna.trial.Trial.suggest_float` instead.\n",
      "  C = trial.suggest_loguniform('C', 1e-3, 1)\n",
      "/var/folders/gp/r_0zq_nx5pl3nmv_2z2bd6hc0000gn/T/ipykernel_46961/506725017.py:3: FutureWarning: suggest_loguniform has been deprecated in v3.0.0. This feature will be removed in v6.0.0. See https://github.com/optuna/optuna/releases/tag/v3.0.0. Use :func:`~optuna.trial.Trial.suggest_float` instead.\n",
      "  gamma = trial.suggest_loguniform('gamma', 1e-1, 1e1)\n",
      "\u001b[32m[I 2023-09-06 00:38:03,225]\u001b[0m Trial 55 finished with value: 0.9680762374880022 and parameters: {'C': 0.34422800502843076, 'gamma': 3.7516634772423183}. Best is trial 0 with value: 0.9882396035337212.\u001b[0m\n"
     ]
    },
    {
     "name": "stdout",
     "output_type": "stream",
     "text": [
      "0.9680762374880022\n"
     ]
    },
    {
     "name": "stderr",
     "output_type": "stream",
     "text": [
      "/var/folders/gp/r_0zq_nx5pl3nmv_2z2bd6hc0000gn/T/ipykernel_46961/506725017.py:2: FutureWarning: suggest_loguniform has been deprecated in v3.0.0. This feature will be removed in v6.0.0. See https://github.com/optuna/optuna/releases/tag/v3.0.0. Use :func:`~optuna.trial.Trial.suggest_float` instead.\n",
      "  C = trial.suggest_loguniform('C', 1e-3, 1)\n",
      "/var/folders/gp/r_0zq_nx5pl3nmv_2z2bd6hc0000gn/T/ipykernel_46961/506725017.py:3: FutureWarning: suggest_loguniform has been deprecated in v3.0.0. This feature will be removed in v6.0.0. See https://github.com/optuna/optuna/releases/tag/v3.0.0. Use :func:`~optuna.trial.Trial.suggest_float` instead.\n",
      "  gamma = trial.suggest_loguniform('gamma', 1e-1, 1e1)\n",
      "\u001b[32m[I 2023-09-06 00:38:07,089]\u001b[0m Trial 56 finished with value: 0.9599557305439659 and parameters: {'C': 0.21804336222026705, 'gamma': 5.199315952097525}. Best is trial 0 with value: 0.9882396035337212.\u001b[0m\n"
     ]
    },
    {
     "name": "stdout",
     "output_type": "stream",
     "text": [
      "0.9599557305439659\n"
     ]
    },
    {
     "name": "stderr",
     "output_type": "stream",
     "text": [
      "/var/folders/gp/r_0zq_nx5pl3nmv_2z2bd6hc0000gn/T/ipykernel_46961/506725017.py:2: FutureWarning: suggest_loguniform has been deprecated in v3.0.0. This feature will be removed in v6.0.0. See https://github.com/optuna/optuna/releases/tag/v3.0.0. Use :func:`~optuna.trial.Trial.suggest_float` instead.\n",
      "  C = trial.suggest_loguniform('C', 1e-3, 1)\n",
      "/var/folders/gp/r_0zq_nx5pl3nmv_2z2bd6hc0000gn/T/ipykernel_46961/506725017.py:3: FutureWarning: suggest_loguniform has been deprecated in v3.0.0. This feature will be removed in v6.0.0. See https://github.com/optuna/optuna/releases/tag/v3.0.0. Use :func:`~optuna.trial.Trial.suggest_float` instead.\n",
      "  gamma = trial.suggest_loguniform('gamma', 1e-1, 1e1)\n",
      "\u001b[32m[I 2023-09-06 00:38:09,881]\u001b[0m Trial 57 finished with value: 0.9680762374880022 and parameters: {'C': 0.4403417673994261, 'gamma': 9.99770424543354}. Best is trial 0 with value: 0.9882396035337212.\u001b[0m\n"
     ]
    },
    {
     "name": "stdout",
     "output_type": "stream",
     "text": [
      "0.9680762374880022\n"
     ]
    },
    {
     "name": "stderr",
     "output_type": "stream",
     "text": [
      "/var/folders/gp/r_0zq_nx5pl3nmv_2z2bd6hc0000gn/T/ipykernel_46961/506725017.py:2: FutureWarning: suggest_loguniform has been deprecated in v3.0.0. This feature will be removed in v6.0.0. See https://github.com/optuna/optuna/releases/tag/v3.0.0. Use :func:`~optuna.trial.Trial.suggest_float` instead.\n",
      "  C = trial.suggest_loguniform('C', 1e-3, 1)\n",
      "/var/folders/gp/r_0zq_nx5pl3nmv_2z2bd6hc0000gn/T/ipykernel_46961/506725017.py:3: FutureWarning: suggest_loguniform has been deprecated in v3.0.0. This feature will be removed in v6.0.0. See https://github.com/optuna/optuna/releases/tag/v3.0.0. Use :func:`~optuna.trial.Trial.suggest_float` instead.\n",
      "  gamma = trial.suggest_loguniform('gamma', 1e-1, 1e1)\n",
      "\u001b[32m[I 2023-09-06 00:38:12,492]\u001b[0m Trial 58 finished with value: 0.9882396035337212 and parameters: {'C': 0.7787972334852188, 'gamma': 7.964374326797823}. Best is trial 0 with value: 0.9882396035337212.\u001b[0m\n"
     ]
    },
    {
     "name": "stdout",
     "output_type": "stream",
     "text": [
      "0.9882396035337212\n"
     ]
    },
    {
     "name": "stderr",
     "output_type": "stream",
     "text": [
      "/var/folders/gp/r_0zq_nx5pl3nmv_2z2bd6hc0000gn/T/ipykernel_46961/506725017.py:2: FutureWarning: suggest_loguniform has been deprecated in v3.0.0. This feature will be removed in v6.0.0. See https://github.com/optuna/optuna/releases/tag/v3.0.0. Use :func:`~optuna.trial.Trial.suggest_float` instead.\n",
      "  C = trial.suggest_loguniform('C', 1e-3, 1)\n",
      "/var/folders/gp/r_0zq_nx5pl3nmv_2z2bd6hc0000gn/T/ipykernel_46961/506725017.py:3: FutureWarning: suggest_loguniform has been deprecated in v3.0.0. This feature will be removed in v6.0.0. See https://github.com/optuna/optuna/releases/tag/v3.0.0. Use :func:`~optuna.trial.Trial.suggest_float` instead.\n",
      "  gamma = trial.suggest_loguniform('gamma', 1e-1, 1e1)\n",
      "\u001b[32m[I 2023-09-06 00:38:15,071]\u001b[0m Trial 59 finished with value: 0.9680762374880022 and parameters: {'C': 0.5859709150823078, 'gamma': 3.297208408275768}. Best is trial 0 with value: 0.9882396035337212.\u001b[0m\n"
     ]
    },
    {
     "name": "stdout",
     "output_type": "stream",
     "text": [
      "0.9680762374880022\n"
     ]
    },
    {
     "name": "stderr",
     "output_type": "stream",
     "text": [
      "/var/folders/gp/r_0zq_nx5pl3nmv_2z2bd6hc0000gn/T/ipykernel_46961/506725017.py:2: FutureWarning: suggest_loguniform has been deprecated in v3.0.0. This feature will be removed in v6.0.0. See https://github.com/optuna/optuna/releases/tag/v3.0.0. Use :func:`~optuna.trial.Trial.suggest_float` instead.\n",
      "  C = trial.suggest_loguniform('C', 1e-3, 1)\n",
      "/var/folders/gp/r_0zq_nx5pl3nmv_2z2bd6hc0000gn/T/ipykernel_46961/506725017.py:3: FutureWarning: suggest_loguniform has been deprecated in v3.0.0. This feature will be removed in v6.0.0. See https://github.com/optuna/optuna/releases/tag/v3.0.0. Use :func:`~optuna.trial.Trial.suggest_float` instead.\n",
      "  gamma = trial.suggest_loguniform('gamma', 1e-1, 1e1)\n",
      "\u001b[32m[I 2023-09-06 00:38:17,695]\u001b[0m Trial 60 finished with value: 0.9882396035337212 and parameters: {'C': 0.7779456771728949, 'gamma': 6.215084666651803}. Best is trial 0 with value: 0.9882396035337212.\u001b[0m\n"
     ]
    },
    {
     "name": "stdout",
     "output_type": "stream",
     "text": [
      "0.9882396035337212\n"
     ]
    },
    {
     "name": "stderr",
     "output_type": "stream",
     "text": [
      "/var/folders/gp/r_0zq_nx5pl3nmv_2z2bd6hc0000gn/T/ipykernel_46961/506725017.py:2: FutureWarning: suggest_loguniform has been deprecated in v3.0.0. This feature will be removed in v6.0.0. See https://github.com/optuna/optuna/releases/tag/v3.0.0. Use :func:`~optuna.trial.Trial.suggest_float` instead.\n",
      "  C = trial.suggest_loguniform('C', 1e-3, 1)\n",
      "/var/folders/gp/r_0zq_nx5pl3nmv_2z2bd6hc0000gn/T/ipykernel_46961/506725017.py:3: FutureWarning: suggest_loguniform has been deprecated in v3.0.0. This feature will be removed in v6.0.0. See https://github.com/optuna/optuna/releases/tag/v3.0.0. Use :func:`~optuna.trial.Trial.suggest_float` instead.\n",
      "  gamma = trial.suggest_loguniform('gamma', 1e-1, 1e1)\n",
      "\u001b[32m[I 2023-09-06 00:38:19,993]\u001b[0m Trial 61 finished with value: 0.9882396035337212 and parameters: {'C': 0.993985160327929, 'gamma': 9.11602868787223}. Best is trial 0 with value: 0.9882396035337212.\u001b[0m\n"
     ]
    },
    {
     "name": "stdout",
     "output_type": "stream",
     "text": [
      "0.9882396035337212\n"
     ]
    },
    {
     "name": "stderr",
     "output_type": "stream",
     "text": [
      "/var/folders/gp/r_0zq_nx5pl3nmv_2z2bd6hc0000gn/T/ipykernel_46961/506725017.py:2: FutureWarning: suggest_loguniform has been deprecated in v3.0.0. This feature will be removed in v6.0.0. See https://github.com/optuna/optuna/releases/tag/v3.0.0. Use :func:`~optuna.trial.Trial.suggest_float` instead.\n",
      "  C = trial.suggest_loguniform('C', 1e-3, 1)\n",
      "/var/folders/gp/r_0zq_nx5pl3nmv_2z2bd6hc0000gn/T/ipykernel_46961/506725017.py:3: FutureWarning: suggest_loguniform has been deprecated in v3.0.0. This feature will be removed in v6.0.0. See https://github.com/optuna/optuna/releases/tag/v3.0.0. Use :func:`~optuna.trial.Trial.suggest_float` instead.\n",
      "  gamma = trial.suggest_loguniform('gamma', 1e-1, 1e1)\n",
      "\u001b[32m[I 2023-09-06 00:38:22,587]\u001b[0m Trial 62 finished with value: 0.9798362421891834 and parameters: {'C': 0.6032924508117107, 'gamma': 7.00234650787279}. Best is trial 0 with value: 0.9882396035337212.\u001b[0m\n"
     ]
    },
    {
     "name": "stdout",
     "output_type": "stream",
     "text": [
      "0.9798362421891834\n"
     ]
    },
    {
     "name": "stderr",
     "output_type": "stream",
     "text": [
      "/var/folders/gp/r_0zq_nx5pl3nmv_2z2bd6hc0000gn/T/ipykernel_46961/506725017.py:2: FutureWarning: suggest_loguniform has been deprecated in v3.0.0. This feature will be removed in v6.0.0. See https://github.com/optuna/optuna/releases/tag/v3.0.0. Use :func:`~optuna.trial.Trial.suggest_float` instead.\n",
      "  C = trial.suggest_loguniform('C', 1e-3, 1)\n",
      "/var/folders/gp/r_0zq_nx5pl3nmv_2z2bd6hc0000gn/T/ipykernel_46961/506725017.py:3: FutureWarning: suggest_loguniform has been deprecated in v3.0.0. This feature will be removed in v6.0.0. See https://github.com/optuna/optuna/releases/tag/v3.0.0. Use :func:`~optuna.trial.Trial.suggest_float` instead.\n",
      "  gamma = trial.suggest_loguniform('gamma', 1e-1, 1e1)\n",
      "\u001b[32m[I 2023-09-06 00:38:24,864]\u001b[0m Trial 63 finished with value: 0.9882396035337212 and parameters: {'C': 0.8303434188750543, 'gamma': 8.701314078878283}. Best is trial 0 with value: 0.9882396035337212.\u001b[0m\n"
     ]
    },
    {
     "name": "stdout",
     "output_type": "stream",
     "text": [
      "0.9882396035337212\n"
     ]
    },
    {
     "name": "stderr",
     "output_type": "stream",
     "text": [
      "/var/folders/gp/r_0zq_nx5pl3nmv_2z2bd6hc0000gn/T/ipykernel_46961/506725017.py:2: FutureWarning: suggest_loguniform has been deprecated in v3.0.0. This feature will be removed in v6.0.0. See https://github.com/optuna/optuna/releases/tag/v3.0.0. Use :func:`~optuna.trial.Trial.suggest_float` instead.\n",
      "  C = trial.suggest_loguniform('C', 1e-3, 1)\n",
      "/var/folders/gp/r_0zq_nx5pl3nmv_2z2bd6hc0000gn/T/ipykernel_46961/506725017.py:3: FutureWarning: suggest_loguniform has been deprecated in v3.0.0. This feature will be removed in v6.0.0. See https://github.com/optuna/optuna/releases/tag/v3.0.0. Use :func:`~optuna.trial.Trial.suggest_float` instead.\n",
      "  gamma = trial.suggest_loguniform('gamma', 1e-1, 1e1)\n",
      "\u001b[32m[I 2023-09-06 00:38:27,732]\u001b[0m Trial 64 finished with value: 0.9680762374880022 and parameters: {'C': 0.45314578248515314, 'gamma': 5.133490166887971}. Best is trial 0 with value: 0.9882396035337212.\u001b[0m\n"
     ]
    },
    {
     "name": "stdout",
     "output_type": "stream",
     "text": [
      "0.9680762374880022\n"
     ]
    },
    {
     "name": "stderr",
     "output_type": "stream",
     "text": [
      "/var/folders/gp/r_0zq_nx5pl3nmv_2z2bd6hc0000gn/T/ipykernel_46961/506725017.py:2: FutureWarning: suggest_loguniform has been deprecated in v3.0.0. This feature will be removed in v6.0.0. See https://github.com/optuna/optuna/releases/tag/v3.0.0. Use :func:`~optuna.trial.Trial.suggest_float` instead.\n",
      "  C = trial.suggest_loguniform('C', 1e-3, 1)\n",
      "/var/folders/gp/r_0zq_nx5pl3nmv_2z2bd6hc0000gn/T/ipykernel_46961/506725017.py:3: FutureWarning: suggest_loguniform has been deprecated in v3.0.0. This feature will be removed in v6.0.0. See https://github.com/optuna/optuna/releases/tag/v3.0.0. Use :func:`~optuna.trial.Trial.suggest_float` instead.\n",
      "  gamma = trial.suggest_loguniform('gamma', 1e-1, 1e1)\n",
      "\u001b[32m[I 2023-09-06 00:38:30,316]\u001b[0m Trial 65 finished with value: 0.9798362421891834 and parameters: {'C': 0.603245478115862, 'gamma': 6.8003328781196615}. Best is trial 0 with value: 0.9882396035337212.\u001b[0m\n"
     ]
    },
    {
     "name": "stdout",
     "output_type": "stream",
     "text": [
      "0.9798362421891834\n"
     ]
    },
    {
     "name": "stderr",
     "output_type": "stream",
     "text": [
      "/var/folders/gp/r_0zq_nx5pl3nmv_2z2bd6hc0000gn/T/ipykernel_46961/506725017.py:2: FutureWarning: suggest_loguniform has been deprecated in v3.0.0. This feature will be removed in v6.0.0. See https://github.com/optuna/optuna/releases/tag/v3.0.0. Use :func:`~optuna.trial.Trial.suggest_float` instead.\n",
      "  C = trial.suggest_loguniform('C', 1e-3, 1)\n",
      "/var/folders/gp/r_0zq_nx5pl3nmv_2z2bd6hc0000gn/T/ipykernel_46961/506725017.py:3: FutureWarning: suggest_loguniform has been deprecated in v3.0.0. This feature will be removed in v6.0.0. See https://github.com/optuna/optuna/releases/tag/v3.0.0. Use :func:`~optuna.trial.Trial.suggest_float` instead.\n",
      "  gamma = trial.suggest_loguniform('gamma', 1e-1, 1e1)\n",
      "\u001b[32m[I 2023-09-06 00:38:32,611]\u001b[0m Trial 66 finished with value: 0.9882396035337212 and parameters: {'C': 0.8684621679313396, 'gamma': 8.741247571228877}. Best is trial 0 with value: 0.9882396035337212.\u001b[0m\n"
     ]
    },
    {
     "name": "stdout",
     "output_type": "stream",
     "text": [
      "0.9882396035337212\n"
     ]
    },
    {
     "name": "stderr",
     "output_type": "stream",
     "text": [
      "/var/folders/gp/r_0zq_nx5pl3nmv_2z2bd6hc0000gn/T/ipykernel_46961/506725017.py:2: FutureWarning: suggest_loguniform has been deprecated in v3.0.0. This feature will be removed in v6.0.0. See https://github.com/optuna/optuna/releases/tag/v3.0.0. Use :func:`~optuna.trial.Trial.suggest_float` instead.\n",
      "  C = trial.suggest_loguniform('C', 1e-3, 1)\n",
      "/var/folders/gp/r_0zq_nx5pl3nmv_2z2bd6hc0000gn/T/ipykernel_46961/506725017.py:3: FutureWarning: suggest_loguniform has been deprecated in v3.0.0. This feature will be removed in v6.0.0. See https://github.com/optuna/optuna/releases/tag/v3.0.0. Use :func:`~optuna.trial.Trial.suggest_float` instead.\n",
      "  gamma = trial.suggest_loguniform('gamma', 1e-1, 1e1)\n",
      "\u001b[32m[I 2023-09-06 00:38:36,249]\u001b[0m Trial 67 finished with value: 0.9599557305439659 and parameters: {'C': 0.2663614886027151, 'gamma': 7.408865577037999}. Best is trial 0 with value: 0.9882396035337212.\u001b[0m\n"
     ]
    },
    {
     "name": "stdout",
     "output_type": "stream",
     "text": [
      "0.9599557305439659\n"
     ]
    },
    {
     "name": "stderr",
     "output_type": "stream",
     "text": [
      "/var/folders/gp/r_0zq_nx5pl3nmv_2z2bd6hc0000gn/T/ipykernel_46961/506725017.py:2: FutureWarning: suggest_loguniform has been deprecated in v3.0.0. This feature will be removed in v6.0.0. See https://github.com/optuna/optuna/releases/tag/v3.0.0. Use :func:`~optuna.trial.Trial.suggest_float` instead.\n",
      "  C = trial.suggest_loguniform('C', 1e-3, 1)\n",
      "/var/folders/gp/r_0zq_nx5pl3nmv_2z2bd6hc0000gn/T/ipykernel_46961/506725017.py:3: FutureWarning: suggest_loguniform has been deprecated in v3.0.0. This feature will be removed in v6.0.0. See https://github.com/optuna/optuna/releases/tag/v3.0.0. Use :func:`~optuna.trial.Trial.suggest_float` instead.\n",
      "  gamma = trial.suggest_loguniform('gamma', 1e-1, 1e1)\n",
      "\u001b[32m[I 2023-09-06 00:38:38,884]\u001b[0m Trial 68 finished with value: 0.9680762374880022 and parameters: {'C': 0.5934071366769385, 'gamma': 4.216109805442674}. Best is trial 0 with value: 0.9882396035337212.\u001b[0m\n"
     ]
    },
    {
     "name": "stdout",
     "output_type": "stream",
     "text": [
      "0.9680762374880022\n"
     ]
    },
    {
     "name": "stderr",
     "output_type": "stream",
     "text": [
      "/var/folders/gp/r_0zq_nx5pl3nmv_2z2bd6hc0000gn/T/ipykernel_46961/506725017.py:2: FutureWarning: suggest_loguniform has been deprecated in v3.0.0. This feature will be removed in v6.0.0. See https://github.com/optuna/optuna/releases/tag/v3.0.0. Use :func:`~optuna.trial.Trial.suggest_float` instead.\n",
      "  C = trial.suggest_loguniform('C', 1e-3, 1)\n",
      "/var/folders/gp/r_0zq_nx5pl3nmv_2z2bd6hc0000gn/T/ipykernel_46961/506725017.py:3: FutureWarning: suggest_loguniform has been deprecated in v3.0.0. This feature will be removed in v6.0.0. See https://github.com/optuna/optuna/releases/tag/v3.0.0. Use :func:`~optuna.trial.Trial.suggest_float` instead.\n",
      "  gamma = trial.suggest_loguniform('gamma', 1e-1, 1e1)\n",
      "\u001b[32m[I 2023-09-06 00:38:41,213]\u001b[0m Trial 69 finished with value: 0.9882396035337212 and parameters: {'C': 0.8282994382597052, 'gamma': 5.424505312383233}. Best is trial 0 with value: 0.9882396035337212.\u001b[0m\n"
     ]
    },
    {
     "name": "stdout",
     "output_type": "stream",
     "text": [
      "0.9882396035337212\n"
     ]
    },
    {
     "name": "stderr",
     "output_type": "stream",
     "text": [
      "/var/folders/gp/r_0zq_nx5pl3nmv_2z2bd6hc0000gn/T/ipykernel_46961/506725017.py:2: FutureWarning: suggest_loguniform has been deprecated in v3.0.0. This feature will be removed in v6.0.0. See https://github.com/optuna/optuna/releases/tag/v3.0.0. Use :func:`~optuna.trial.Trial.suggest_float` instead.\n",
      "  C = trial.suggest_loguniform('C', 1e-3, 1)\n",
      "/var/folders/gp/r_0zq_nx5pl3nmv_2z2bd6hc0000gn/T/ipykernel_46961/506725017.py:3: FutureWarning: suggest_loguniform has been deprecated in v3.0.0. This feature will be removed in v6.0.0. See https://github.com/optuna/optuna/releases/tag/v3.0.0. Use :func:`~optuna.trial.Trial.suggest_float` instead.\n",
      "  gamma = trial.suggest_loguniform('gamma', 1e-1, 1e1)\n",
      "\u001b[32m[I 2023-09-06 00:38:44,036]\u001b[0m Trial 70 finished with value: 0.9680762374880022 and parameters: {'C': 0.4780596209062685, 'gamma': 4.5147094103775745}. Best is trial 0 with value: 0.9882396035337212.\u001b[0m\n"
     ]
    },
    {
     "name": "stdout",
     "output_type": "stream",
     "text": [
      "0.9680762374880022\n"
     ]
    },
    {
     "name": "stderr",
     "output_type": "stream",
     "text": [
      "/var/folders/gp/r_0zq_nx5pl3nmv_2z2bd6hc0000gn/T/ipykernel_46961/506725017.py:2: FutureWarning: suggest_loguniform has been deprecated in v3.0.0. This feature will be removed in v6.0.0. See https://github.com/optuna/optuna/releases/tag/v3.0.0. Use :func:`~optuna.trial.Trial.suggest_float` instead.\n",
      "  C = trial.suggest_loguniform('C', 1e-3, 1)\n",
      "/var/folders/gp/r_0zq_nx5pl3nmv_2z2bd6hc0000gn/T/ipykernel_46961/506725017.py:3: FutureWarning: suggest_loguniform has been deprecated in v3.0.0. This feature will be removed in v6.0.0. See https://github.com/optuna/optuna/releases/tag/v3.0.0. Use :func:`~optuna.trial.Trial.suggest_float` instead.\n",
      "  gamma = trial.suggest_loguniform('gamma', 1e-1, 1e1)\n",
      "\u001b[32m[I 2023-09-06 00:38:46,366]\u001b[0m Trial 71 finished with value: 0.9882396035337212 and parameters: {'C': 0.8996475762815554, 'gamma': 6.359653164181817}. Best is trial 0 with value: 0.9882396035337212.\u001b[0m\n"
     ]
    },
    {
     "name": "stdout",
     "output_type": "stream",
     "text": [
      "0.9882396035337212\n"
     ]
    },
    {
     "name": "stderr",
     "output_type": "stream",
     "text": [
      "/var/folders/gp/r_0zq_nx5pl3nmv_2z2bd6hc0000gn/T/ipykernel_46961/506725017.py:2: FutureWarning: suggest_loguniform has been deprecated in v3.0.0. This feature will be removed in v6.0.0. See https://github.com/optuna/optuna/releases/tag/v3.0.0. Use :func:`~optuna.trial.Trial.suggest_float` instead.\n",
      "  C = trial.suggest_loguniform('C', 1e-3, 1)\n",
      "/var/folders/gp/r_0zq_nx5pl3nmv_2z2bd6hc0000gn/T/ipykernel_46961/506725017.py:3: FutureWarning: suggest_loguniform has been deprecated in v3.0.0. This feature will be removed in v6.0.0. See https://github.com/optuna/optuna/releases/tag/v3.0.0. Use :func:`~optuna.trial.Trial.suggest_float` instead.\n",
      "  gamma = trial.suggest_loguniform('gamma', 1e-1, 1e1)\n",
      "\u001b[32m[I 2023-09-06 00:38:48,919]\u001b[0m Trial 72 finished with value: 0.9882396035337212 and parameters: {'C': 0.7224629577862524, 'gamma': 9.868587020050587}. Best is trial 0 with value: 0.9882396035337212.\u001b[0m\n"
     ]
    },
    {
     "name": "stdout",
     "output_type": "stream",
     "text": [
      "0.9882396035337212\n"
     ]
    },
    {
     "name": "stderr",
     "output_type": "stream",
     "text": [
      "/var/folders/gp/r_0zq_nx5pl3nmv_2z2bd6hc0000gn/T/ipykernel_46961/506725017.py:2: FutureWarning: suggest_loguniform has been deprecated in v3.0.0. This feature will be removed in v6.0.0. See https://github.com/optuna/optuna/releases/tag/v3.0.0. Use :func:`~optuna.trial.Trial.suggest_float` instead.\n",
      "  C = trial.suggest_loguniform('C', 1e-3, 1)\n",
      "/var/folders/gp/r_0zq_nx5pl3nmv_2z2bd6hc0000gn/T/ipykernel_46961/506725017.py:3: FutureWarning: suggest_loguniform has been deprecated in v3.0.0. This feature will be removed in v6.0.0. See https://github.com/optuna/optuna/releases/tag/v3.0.0. Use :func:`~optuna.trial.Trial.suggest_float` instead.\n",
      "  gamma = trial.suggest_loguniform('gamma', 1e-1, 1e1)\n",
      "\u001b[32m[I 2023-09-06 00:38:51,919]\u001b[0m Trial 73 finished with value: 0.9680762374880022 and parameters: {'C': 0.3560853536887137, 'gamma': 7.485866092616092}. Best is trial 0 with value: 0.9882396035337212.\u001b[0m\n"
     ]
    },
    {
     "name": "stdout",
     "output_type": "stream",
     "text": [
      "0.9680762374880022\n"
     ]
    },
    {
     "name": "stderr",
     "output_type": "stream",
     "text": [
      "/var/folders/gp/r_0zq_nx5pl3nmv_2z2bd6hc0000gn/T/ipykernel_46961/506725017.py:2: FutureWarning: suggest_loguniform has been deprecated in v3.0.0. This feature will be removed in v6.0.0. See https://github.com/optuna/optuna/releases/tag/v3.0.0. Use :func:`~optuna.trial.Trial.suggest_float` instead.\n",
      "  C = trial.suggest_loguniform('C', 1e-3, 1)\n",
      "/var/folders/gp/r_0zq_nx5pl3nmv_2z2bd6hc0000gn/T/ipykernel_46961/506725017.py:3: FutureWarning: suggest_loguniform has been deprecated in v3.0.0. This feature will be removed in v6.0.0. See https://github.com/optuna/optuna/releases/tag/v3.0.0. Use :func:`~optuna.trial.Trial.suggest_float` instead.\n",
      "  gamma = trial.suggest_loguniform('gamma', 1e-1, 1e1)\n",
      "\u001b[32m[I 2023-09-06 00:38:54,565]\u001b[0m Trial 74 finished with value: 0.9882396035337212 and parameters: {'C': 0.6236424286517718, 'gamma': 5.814730398448247}. Best is trial 0 with value: 0.9882396035337212.\u001b[0m\n"
     ]
    },
    {
     "name": "stdout",
     "output_type": "stream",
     "text": [
      "0.9882396035337212\n"
     ]
    },
    {
     "name": "stderr",
     "output_type": "stream",
     "text": [
      "/var/folders/gp/r_0zq_nx5pl3nmv_2z2bd6hc0000gn/T/ipykernel_46961/506725017.py:2: FutureWarning: suggest_loguniform has been deprecated in v3.0.0. This feature will be removed in v6.0.0. See https://github.com/optuna/optuna/releases/tag/v3.0.0. Use :func:`~optuna.trial.Trial.suggest_float` instead.\n",
      "  C = trial.suggest_loguniform('C', 1e-3, 1)\n",
      "/var/folders/gp/r_0zq_nx5pl3nmv_2z2bd6hc0000gn/T/ipykernel_46961/506725017.py:3: FutureWarning: suggest_loguniform has been deprecated in v3.0.0. This feature will be removed in v6.0.0. See https://github.com/optuna/optuna/releases/tag/v3.0.0. Use :func:`~optuna.trial.Trial.suggest_float` instead.\n",
      "  gamma = trial.suggest_loguniform('gamma', 1e-1, 1e1)\n",
      "\u001b[32m[I 2023-09-06 00:38:56,867]\u001b[0m Trial 75 finished with value: 0.9882396035337212 and parameters: {'C': 0.9943976476620512, 'gamma': 7.948299102801811}. Best is trial 0 with value: 0.9882396035337212.\u001b[0m\n"
     ]
    },
    {
     "name": "stdout",
     "output_type": "stream",
     "text": [
      "0.9882396035337212\n"
     ]
    },
    {
     "name": "stderr",
     "output_type": "stream",
     "text": [
      "/var/folders/gp/r_0zq_nx5pl3nmv_2z2bd6hc0000gn/T/ipykernel_46961/506725017.py:2: FutureWarning: suggest_loguniform has been deprecated in v3.0.0. This feature will be removed in v6.0.0. See https://github.com/optuna/optuna/releases/tag/v3.0.0. Use :func:`~optuna.trial.Trial.suggest_float` instead.\n",
      "  C = trial.suggest_loguniform('C', 1e-3, 1)\n",
      "/var/folders/gp/r_0zq_nx5pl3nmv_2z2bd6hc0000gn/T/ipykernel_46961/506725017.py:3: FutureWarning: suggest_loguniform has been deprecated in v3.0.0. This feature will be removed in v6.0.0. See https://github.com/optuna/optuna/releases/tag/v3.0.0. Use :func:`~optuna.trial.Trial.suggest_float` instead.\n",
      "  gamma = trial.suggest_loguniform('gamma', 1e-1, 1e1)\n",
      "\u001b[32m[I 2023-09-06 00:38:59,695]\u001b[0m Trial 76 finished with value: 0.9680762374880022 and parameters: {'C': 0.5127649234269885, 'gamma': 6.646561710002097}. Best is trial 0 with value: 0.9882396035337212.\u001b[0m\n"
     ]
    },
    {
     "name": "stdout",
     "output_type": "stream",
     "text": [
      "0.9680762374880022\n"
     ]
    },
    {
     "name": "stderr",
     "output_type": "stream",
     "text": [
      "/var/folders/gp/r_0zq_nx5pl3nmv_2z2bd6hc0000gn/T/ipykernel_46961/506725017.py:2: FutureWarning: suggest_loguniform has been deprecated in v3.0.0. This feature will be removed in v6.0.0. See https://github.com/optuna/optuna/releases/tag/v3.0.0. Use :func:`~optuna.trial.Trial.suggest_float` instead.\n",
      "  C = trial.suggest_loguniform('C', 1e-3, 1)\n",
      "/var/folders/gp/r_0zq_nx5pl3nmv_2z2bd6hc0000gn/T/ipykernel_46961/506725017.py:3: FutureWarning: suggest_loguniform has been deprecated in v3.0.0. This feature will be removed in v6.0.0. See https://github.com/optuna/optuna/releases/tag/v3.0.0. Use :func:`~optuna.trial.Trial.suggest_float` instead.\n",
      "  gamma = trial.suggest_loguniform('gamma', 1e-1, 1e1)\n",
      "\u001b[32m[I 2023-09-06 00:39:02,054]\u001b[0m Trial 77 finished with value: 0.9882396035337212 and parameters: {'C': 0.8016436493645521, 'gamma': 4.980664409916806}. Best is trial 0 with value: 0.9882396035337212.\u001b[0m\n"
     ]
    },
    {
     "name": "stdout",
     "output_type": "stream",
     "text": [
      "0.9882396035337212\n"
     ]
    },
    {
     "name": "stderr",
     "output_type": "stream",
     "text": [
      "/var/folders/gp/r_0zq_nx5pl3nmv_2z2bd6hc0000gn/T/ipykernel_46961/506725017.py:2: FutureWarning: suggest_loguniform has been deprecated in v3.0.0. This feature will be removed in v6.0.0. See https://github.com/optuna/optuna/releases/tag/v3.0.0. Use :func:`~optuna.trial.Trial.suggest_float` instead.\n",
      "  C = trial.suggest_loguniform('C', 1e-3, 1)\n",
      "/var/folders/gp/r_0zq_nx5pl3nmv_2z2bd6hc0000gn/T/ipykernel_46961/506725017.py:3: FutureWarning: suggest_loguniform has been deprecated in v3.0.0. This feature will be removed in v6.0.0. See https://github.com/optuna/optuna/releases/tag/v3.0.0. Use :func:`~optuna.trial.Trial.suggest_float` instead.\n",
      "  gamma = trial.suggest_loguniform('gamma', 1e-1, 1e1)\n",
      "\u001b[32m[I 2023-09-06 00:39:04,826]\u001b[0m Trial 78 finished with value: 0.9680762374880022 and parameters: {'C': 0.4202273384785646, 'gamma': 8.858007924771943}. Best is trial 0 with value: 0.9882396035337212.\u001b[0m\n"
     ]
    },
    {
     "name": "stdout",
     "output_type": "stream",
     "text": [
      "0.9680762374880022\n"
     ]
    },
    {
     "name": "stderr",
     "output_type": "stream",
     "text": [
      "/var/folders/gp/r_0zq_nx5pl3nmv_2z2bd6hc0000gn/T/ipykernel_46961/506725017.py:2: FutureWarning: suggest_loguniform has been deprecated in v3.0.0. This feature will be removed in v6.0.0. See https://github.com/optuna/optuna/releases/tag/v3.0.0. Use :func:`~optuna.trial.Trial.suggest_float` instead.\n",
      "  C = trial.suggest_loguniform('C', 1e-3, 1)\n",
      "/var/folders/gp/r_0zq_nx5pl3nmv_2z2bd6hc0000gn/T/ipykernel_46961/506725017.py:3: FutureWarning: suggest_loguniform has been deprecated in v3.0.0. This feature will be removed in v6.0.0. See https://github.com/optuna/optuna/releases/tag/v3.0.0. Use :func:`~optuna.trial.Trial.suggest_float` instead.\n",
      "  gamma = trial.suggest_loguniform('gamma', 1e-1, 1e1)\n",
      "\u001b[32m[I 2023-09-06 00:39:07,395]\u001b[0m Trial 79 finished with value: 0.9882396035337212 and parameters: {'C': 0.6608309836333052, 'gamma': 3.5469613112203073}. Best is trial 0 with value: 0.9882396035337212.\u001b[0m\n"
     ]
    },
    {
     "name": "stdout",
     "output_type": "stream",
     "text": [
      "0.9882396035337212\n"
     ]
    },
    {
     "name": "stderr",
     "output_type": "stream",
     "text": [
      "/var/folders/gp/r_0zq_nx5pl3nmv_2z2bd6hc0000gn/T/ipykernel_46961/506725017.py:2: FutureWarning: suggest_loguniform has been deprecated in v3.0.0. This feature will be removed in v6.0.0. See https://github.com/optuna/optuna/releases/tag/v3.0.0. Use :func:`~optuna.trial.Trial.suggest_float` instead.\n",
      "  C = trial.suggest_loguniform('C', 1e-3, 1)\n",
      "/var/folders/gp/r_0zq_nx5pl3nmv_2z2bd6hc0000gn/T/ipykernel_46961/506725017.py:3: FutureWarning: suggest_loguniform has been deprecated in v3.0.0. This feature will be removed in v6.0.0. See https://github.com/optuna/optuna/releases/tag/v3.0.0. Use :func:`~optuna.trial.Trial.suggest_float` instead.\n",
      "  gamma = trial.suggest_loguniform('gamma', 1e-1, 1e1)\n",
      "\u001b[32m[I 2023-09-06 00:39:10,186]\u001b[0m Trial 80 finished with value: 0.9680762374880022 and parameters: {'C': 0.5136196453267634, 'gamma': 2.863225562342474}. Best is trial 0 with value: 0.9882396035337212.\u001b[0m\n"
     ]
    },
    {
     "name": "stdout",
     "output_type": "stream",
     "text": [
      "0.9680762374880022\n"
     ]
    },
    {
     "name": "stderr",
     "output_type": "stream",
     "text": [
      "/var/folders/gp/r_0zq_nx5pl3nmv_2z2bd6hc0000gn/T/ipykernel_46961/506725017.py:2: FutureWarning: suggest_loguniform has been deprecated in v3.0.0. This feature will be removed in v6.0.0. See https://github.com/optuna/optuna/releases/tag/v3.0.0. Use :func:`~optuna.trial.Trial.suggest_float` instead.\n",
      "  C = trial.suggest_loguniform('C', 1e-3, 1)\n",
      "/var/folders/gp/r_0zq_nx5pl3nmv_2z2bd6hc0000gn/T/ipykernel_46961/506725017.py:3: FutureWarning: suggest_loguniform has been deprecated in v3.0.0. This feature will be removed in v6.0.0. See https://github.com/optuna/optuna/releases/tag/v3.0.0. Use :func:`~optuna.trial.Trial.suggest_float` instead.\n",
      "  gamma = trial.suggest_loguniform('gamma', 1e-1, 1e1)\n",
      "\u001b[32m[I 2023-09-06 00:39:12,473]\u001b[0m Trial 81 finished with value: 0.9882396035337212 and parameters: {'C': 0.8335179838285749, 'gamma': 9.976430662730113}. Best is trial 0 with value: 0.9882396035337212.\u001b[0m\n"
     ]
    },
    {
     "name": "stdout",
     "output_type": "stream",
     "text": [
      "0.9882396035337212\n"
     ]
    },
    {
     "name": "stderr",
     "output_type": "stream",
     "text": [
      "/var/folders/gp/r_0zq_nx5pl3nmv_2z2bd6hc0000gn/T/ipykernel_46961/506725017.py:2: FutureWarning: suggest_loguniform has been deprecated in v3.0.0. This feature will be removed in v6.0.0. See https://github.com/optuna/optuna/releases/tag/v3.0.0. Use :func:`~optuna.trial.Trial.suggest_float` instead.\n",
      "  C = trial.suggest_loguniform('C', 1e-3, 1)\n",
      "/var/folders/gp/r_0zq_nx5pl3nmv_2z2bd6hc0000gn/T/ipykernel_46961/506725017.py:3: FutureWarning: suggest_loguniform has been deprecated in v3.0.0. This feature will be removed in v6.0.0. See https://github.com/optuna/optuna/releases/tag/v3.0.0. Use :func:`~optuna.trial.Trial.suggest_float` instead.\n",
      "  gamma = trial.suggest_loguniform('gamma', 1e-1, 1e1)\n",
      "\u001b[32m[I 2023-09-06 00:39:15,053]\u001b[0m Trial 82 finished with value: 0.9882396035337212 and parameters: {'C': 0.6626688800674588, 'gamma': 7.566146417735287}. Best is trial 0 with value: 0.9882396035337212.\u001b[0m\n"
     ]
    },
    {
     "name": "stdout",
     "output_type": "stream",
     "text": [
      "0.9882396035337212\n"
     ]
    },
    {
     "name": "stderr",
     "output_type": "stream",
     "text": [
      "/var/folders/gp/r_0zq_nx5pl3nmv_2z2bd6hc0000gn/T/ipykernel_46961/506725017.py:2: FutureWarning: suggest_loguniform has been deprecated in v3.0.0. This feature will be removed in v6.0.0. See https://github.com/optuna/optuna/releases/tag/v3.0.0. Use :func:`~optuna.trial.Trial.suggest_float` instead.\n",
      "  C = trial.suggest_loguniform('C', 1e-3, 1)\n",
      "/var/folders/gp/r_0zq_nx5pl3nmv_2z2bd6hc0000gn/T/ipykernel_46961/506725017.py:3: FutureWarning: suggest_loguniform has been deprecated in v3.0.0. This feature will be removed in v6.0.0. See https://github.com/optuna/optuna/releases/tag/v3.0.0. Use :func:`~optuna.trial.Trial.suggest_float` instead.\n",
      "  gamma = trial.suggest_loguniform('gamma', 1e-1, 1e1)\n",
      "\u001b[32m[I 2023-09-06 00:39:17,381]\u001b[0m Trial 83 finished with value: 0.9882396035337212 and parameters: {'C': 0.9821797637064136, 'gamma': 5.692799695246309}. Best is trial 0 with value: 0.9882396035337212.\u001b[0m\n"
     ]
    },
    {
     "name": "stdout",
     "output_type": "stream",
     "text": [
      "0.9882396035337212\n"
     ]
    },
    {
     "name": "stderr",
     "output_type": "stream",
     "text": [
      "/var/folders/gp/r_0zq_nx5pl3nmv_2z2bd6hc0000gn/T/ipykernel_46961/506725017.py:2: FutureWarning: suggest_loguniform has been deprecated in v3.0.0. This feature will be removed in v6.0.0. See https://github.com/optuna/optuna/releases/tag/v3.0.0. Use :func:`~optuna.trial.Trial.suggest_float` instead.\n",
      "  C = trial.suggest_loguniform('C', 1e-3, 1)\n",
      "/var/folders/gp/r_0zq_nx5pl3nmv_2z2bd6hc0000gn/T/ipykernel_46961/506725017.py:3: FutureWarning: suggest_loguniform has been deprecated in v3.0.0. This feature will be removed in v6.0.0. See https://github.com/optuna/optuna/releases/tag/v3.0.0. Use :func:`~optuna.trial.Trial.suggest_float` instead.\n",
      "  gamma = trial.suggest_loguniform('gamma', 1e-1, 1e1)\n",
      "\u001b[32m[I 2023-09-06 00:39:19,969]\u001b[0m Trial 84 finished with value: 0.9882396035337212 and parameters: {'C': 0.7144654466566105, 'gamma': 8.721345832529405}. Best is trial 0 with value: 0.9882396035337212.\u001b[0m\n"
     ]
    },
    {
     "name": "stdout",
     "output_type": "stream",
     "text": [
      "0.9882396035337212\n"
     ]
    },
    {
     "name": "stderr",
     "output_type": "stream",
     "text": [
      "/var/folders/gp/r_0zq_nx5pl3nmv_2z2bd6hc0000gn/T/ipykernel_46961/506725017.py:2: FutureWarning: suggest_loguniform has been deprecated in v3.0.0. This feature will be removed in v6.0.0. See https://github.com/optuna/optuna/releases/tag/v3.0.0. Use :func:`~optuna.trial.Trial.suggest_float` instead.\n",
      "  C = trial.suggest_loguniform('C', 1e-3, 1)\n",
      "/var/folders/gp/r_0zq_nx5pl3nmv_2z2bd6hc0000gn/T/ipykernel_46961/506725017.py:3: FutureWarning: suggest_loguniform has been deprecated in v3.0.0. This feature will be removed in v6.0.0. See https://github.com/optuna/optuna/releases/tag/v3.0.0. Use :func:`~optuna.trial.Trial.suggest_float` instead.\n",
      "  gamma = trial.suggest_loguniform('gamma', 1e-1, 1e1)\n",
      "\u001b[32m[I 2023-09-06 00:39:22,276]\u001b[0m Trial 85 finished with value: 0.9882396035337212 and parameters: {'C': 0.8292065128410742, 'gamma': 6.617469881896131}. Best is trial 0 with value: 0.9882396035337212.\u001b[0m\n"
     ]
    },
    {
     "name": "stdout",
     "output_type": "stream",
     "text": [
      "0.9882396035337212\n"
     ]
    },
    {
     "name": "stderr",
     "output_type": "stream",
     "text": [
      "/var/folders/gp/r_0zq_nx5pl3nmv_2z2bd6hc0000gn/T/ipykernel_46961/506725017.py:2: FutureWarning: suggest_loguniform has been deprecated in v3.0.0. This feature will be removed in v6.0.0. See https://github.com/optuna/optuna/releases/tag/v3.0.0. Use :func:`~optuna.trial.Trial.suggest_float` instead.\n",
      "  C = trial.suggest_loguniform('C', 1e-3, 1)\n",
      "/var/folders/gp/r_0zq_nx5pl3nmv_2z2bd6hc0000gn/T/ipykernel_46961/506725017.py:3: FutureWarning: suggest_loguniform has been deprecated in v3.0.0. This feature will be removed in v6.0.0. See https://github.com/optuna/optuna/releases/tag/v3.0.0. Use :func:`~optuna.trial.Trial.suggest_float` instead.\n",
      "  gamma = trial.suggest_loguniform('gamma', 1e-1, 1e1)\n",
      "\u001b[32m[I 2023-09-06 00:39:24,865]\u001b[0m Trial 86 finished with value: 0.9680762374880022 and parameters: {'C': 0.5441982825950266, 'gamma': 7.870314782225055}. Best is trial 0 with value: 0.9882396035337212.\u001b[0m\n"
     ]
    },
    {
     "name": "stdout",
     "output_type": "stream",
     "text": [
      "0.9680762374880022\n"
     ]
    },
    {
     "name": "stderr",
     "output_type": "stream",
     "text": [
      "/var/folders/gp/r_0zq_nx5pl3nmv_2z2bd6hc0000gn/T/ipykernel_46961/506725017.py:2: FutureWarning: suggest_loguniform has been deprecated in v3.0.0. This feature will be removed in v6.0.0. See https://github.com/optuna/optuna/releases/tag/v3.0.0. Use :func:`~optuna.trial.Trial.suggest_float` instead.\n",
      "  C = trial.suggest_loguniform('C', 1e-3, 1)\n",
      "/var/folders/gp/r_0zq_nx5pl3nmv_2z2bd6hc0000gn/T/ipykernel_46961/506725017.py:3: FutureWarning: suggest_loguniform has been deprecated in v3.0.0. This feature will be removed in v6.0.0. See https://github.com/optuna/optuna/releases/tag/v3.0.0. Use :func:`~optuna.trial.Trial.suggest_float` instead.\n",
      "  gamma = trial.suggest_loguniform('gamma', 1e-1, 1e1)\n",
      "\u001b[32m[I 2023-09-06 00:39:27,859]\u001b[0m Trial 87 finished with value: 0.9680762374880022 and parameters: {'C': 0.4100365197077446, 'gamma': 4.735693412694763}. Best is trial 0 with value: 0.9882396035337212.\u001b[0m\n"
     ]
    },
    {
     "name": "stdout",
     "output_type": "stream",
     "text": [
      "0.9680762374880022\n"
     ]
    },
    {
     "name": "stderr",
     "output_type": "stream",
     "text": [
      "/var/folders/gp/r_0zq_nx5pl3nmv_2z2bd6hc0000gn/T/ipykernel_46961/506725017.py:2: FutureWarning: suggest_loguniform has been deprecated in v3.0.0. This feature will be removed in v6.0.0. See https://github.com/optuna/optuna/releases/tag/v3.0.0. Use :func:`~optuna.trial.Trial.suggest_float` instead.\n",
      "  C = trial.suggest_loguniform('C', 1e-3, 1)\n",
      "/var/folders/gp/r_0zq_nx5pl3nmv_2z2bd6hc0000gn/T/ipykernel_46961/506725017.py:3: FutureWarning: suggest_loguniform has been deprecated in v3.0.0. This feature will be removed in v6.0.0. See https://github.com/optuna/optuna/releases/tag/v3.0.0. Use :func:`~optuna.trial.Trial.suggest_float` instead.\n",
      "  gamma = trial.suggest_loguniform('gamma', 1e-1, 1e1)\n",
      "\u001b[32m[I 2023-09-06 00:39:30,479]\u001b[0m Trial 88 finished with value: 0.9882396035337212 and parameters: {'C': 0.6654121393807665, 'gamma': 4.210598560359756}. Best is trial 0 with value: 0.9882396035337212.\u001b[0m\n"
     ]
    },
    {
     "name": "stdout",
     "output_type": "stream",
     "text": [
      "0.9882396035337212\n"
     ]
    },
    {
     "name": "stderr",
     "output_type": "stream",
     "text": [
      "/var/folders/gp/r_0zq_nx5pl3nmv_2z2bd6hc0000gn/T/ipykernel_46961/506725017.py:2: FutureWarning: suggest_loguniform has been deprecated in v3.0.0. This feature will be removed in v6.0.0. See https://github.com/optuna/optuna/releases/tag/v3.0.0. Use :func:`~optuna.trial.Trial.suggest_float` instead.\n",
      "  C = trial.suggest_loguniform('C', 1e-3, 1)\n",
      "/var/folders/gp/r_0zq_nx5pl3nmv_2z2bd6hc0000gn/T/ipykernel_46961/506725017.py:3: FutureWarning: suggest_loguniform has been deprecated in v3.0.0. This feature will be removed in v6.0.0. See https://github.com/optuna/optuna/releases/tag/v3.0.0. Use :func:`~optuna.trial.Trial.suggest_float` instead.\n",
      "  gamma = trial.suggest_loguniform('gamma', 1e-1, 1e1)\n",
      "\u001b[32m[I 2023-09-06 00:39:33,889]\u001b[0m Trial 89 finished with value: 0.9613562907680555 and parameters: {'C': 0.3227324156190938, 'gamma': 5.581649255011798}. Best is trial 0 with value: 0.9882396035337212.\u001b[0m\n"
     ]
    },
    {
     "name": "stdout",
     "output_type": "stream",
     "text": [
      "0.9613562907680555\n"
     ]
    },
    {
     "name": "stderr",
     "output_type": "stream",
     "text": [
      "/var/folders/gp/r_0zq_nx5pl3nmv_2z2bd6hc0000gn/T/ipykernel_46961/506725017.py:2: FutureWarning: suggest_loguniform has been deprecated in v3.0.0. This feature will be removed in v6.0.0. See https://github.com/optuna/optuna/releases/tag/v3.0.0. Use :func:`~optuna.trial.Trial.suggest_float` instead.\n",
      "  C = trial.suggest_loguniform('C', 1e-3, 1)\n",
      "/var/folders/gp/r_0zq_nx5pl3nmv_2z2bd6hc0000gn/T/ipykernel_46961/506725017.py:3: FutureWarning: suggest_loguniform has been deprecated in v3.0.0. This feature will be removed in v6.0.0. See https://github.com/optuna/optuna/releases/tag/v3.0.0. Use :func:`~optuna.trial.Trial.suggest_float` instead.\n",
      "  gamma = trial.suggest_loguniform('gamma', 1e-1, 1e1)\n",
      "\u001b[32m[I 2023-09-06 00:39:36,182]\u001b[0m Trial 90 finished with value: 0.9882396035337212 and parameters: {'C': 0.8877505809405603, 'gamma': 9.233378604855838}. Best is trial 0 with value: 0.9882396035337212.\u001b[0m\n"
     ]
    },
    {
     "name": "stdout",
     "output_type": "stream",
     "text": [
      "0.9882396035337212\n"
     ]
    },
    {
     "name": "stderr",
     "output_type": "stream",
     "text": [
      "/var/folders/gp/r_0zq_nx5pl3nmv_2z2bd6hc0000gn/T/ipykernel_46961/506725017.py:2: FutureWarning: suggest_loguniform has been deprecated in v3.0.0. This feature will be removed in v6.0.0. See https://github.com/optuna/optuna/releases/tag/v3.0.0. Use :func:`~optuna.trial.Trial.suggest_float` instead.\n",
      "  C = trial.suggest_loguniform('C', 1e-3, 1)\n",
      "/var/folders/gp/r_0zq_nx5pl3nmv_2z2bd6hc0000gn/T/ipykernel_46961/506725017.py:3: FutureWarning: suggest_loguniform has been deprecated in v3.0.0. This feature will be removed in v6.0.0. See https://github.com/optuna/optuna/releases/tag/v3.0.0. Use :func:`~optuna.trial.Trial.suggest_float` instead.\n",
      "  gamma = trial.suggest_loguniform('gamma', 1e-1, 1e1)\n",
      "\u001b[32m[I 2023-09-06 00:39:38,805]\u001b[0m Trial 91 finished with value: 0.9882396035337212 and parameters: {'C': 0.7507241278419096, 'gamma': 4.875717974061803}. Best is trial 0 with value: 0.9882396035337212.\u001b[0m\n"
     ]
    },
    {
     "name": "stdout",
     "output_type": "stream",
     "text": [
      "0.9882396035337212\n"
     ]
    },
    {
     "name": "stderr",
     "output_type": "stream",
     "text": [
      "/var/folders/gp/r_0zq_nx5pl3nmv_2z2bd6hc0000gn/T/ipykernel_46961/506725017.py:2: FutureWarning: suggest_loguniform has been deprecated in v3.0.0. This feature will be removed in v6.0.0. See https://github.com/optuna/optuna/releases/tag/v3.0.0. Use :func:`~optuna.trial.Trial.suggest_float` instead.\n",
      "  C = trial.suggest_loguniform('C', 1e-3, 1)\n",
      "/var/folders/gp/r_0zq_nx5pl3nmv_2z2bd6hc0000gn/T/ipykernel_46961/506725017.py:3: FutureWarning: suggest_loguniform has been deprecated in v3.0.0. This feature will be removed in v6.0.0. See https://github.com/optuna/optuna/releases/tag/v3.0.0. Use :func:`~optuna.trial.Trial.suggest_float` instead.\n",
      "  gamma = trial.suggest_loguniform('gamma', 1e-1, 1e1)\n",
      "\u001b[32m[I 2023-09-06 00:39:41,123]\u001b[0m Trial 92 finished with value: 0.9882396035337212 and parameters: {'C': 0.9995549427250305, 'gamma': 6.4916622101072345}. Best is trial 0 with value: 0.9882396035337212.\u001b[0m\n"
     ]
    },
    {
     "name": "stdout",
     "output_type": "stream",
     "text": [
      "0.9882396035337212\n"
     ]
    },
    {
     "name": "stderr",
     "output_type": "stream",
     "text": [
      "/var/folders/gp/r_0zq_nx5pl3nmv_2z2bd6hc0000gn/T/ipykernel_46961/506725017.py:2: FutureWarning: suggest_loguniform has been deprecated in v3.0.0. This feature will be removed in v6.0.0. See https://github.com/optuna/optuna/releases/tag/v3.0.0. Use :func:`~optuna.trial.Trial.suggest_float` instead.\n",
      "  C = trial.suggest_loguniform('C', 1e-3, 1)\n",
      "/var/folders/gp/r_0zq_nx5pl3nmv_2z2bd6hc0000gn/T/ipykernel_46961/506725017.py:3: FutureWarning: suggest_loguniform has been deprecated in v3.0.0. This feature will be removed in v6.0.0. See https://github.com/optuna/optuna/releases/tag/v3.0.0. Use :func:`~optuna.trial.Trial.suggest_float` instead.\n",
      "  gamma = trial.suggest_loguniform('gamma', 1e-1, 1e1)\n",
      "\u001b[32m[I 2023-09-06 00:39:43,724]\u001b[0m Trial 93 finished with value: 0.9680762374880022 and parameters: {'C': 0.5873986712742943, 'gamma': 4.1045690071626915}. Best is trial 0 with value: 0.9882396035337212.\u001b[0m\n"
     ]
    },
    {
     "name": "stdout",
     "output_type": "stream",
     "text": [
      "0.9680762374880022\n"
     ]
    },
    {
     "name": "stderr",
     "output_type": "stream",
     "text": [
      "/var/folders/gp/r_0zq_nx5pl3nmv_2z2bd6hc0000gn/T/ipykernel_46961/506725017.py:2: FutureWarning: suggest_loguniform has been deprecated in v3.0.0. This feature will be removed in v6.0.0. See https://github.com/optuna/optuna/releases/tag/v3.0.0. Use :func:`~optuna.trial.Trial.suggest_float` instead.\n",
      "  C = trial.suggest_loguniform('C', 1e-3, 1)\n",
      "/var/folders/gp/r_0zq_nx5pl3nmv_2z2bd6hc0000gn/T/ipykernel_46961/506725017.py:3: FutureWarning: suggest_loguniform has been deprecated in v3.0.0. This feature will be removed in v6.0.0. See https://github.com/optuna/optuna/releases/tag/v3.0.0. Use :func:`~optuna.trial.Trial.suggest_float` instead.\n",
      "  gamma = trial.suggest_loguniform('gamma', 1e-1, 1e1)\n",
      "\u001b[32m[I 2023-09-06 00:39:46,039]\u001b[0m Trial 94 finished with value: 0.9882396035337212 and parameters: {'C': 0.8561782636723599, 'gamma': 7.275561814034985}. Best is trial 0 with value: 0.9882396035337212.\u001b[0m\n"
     ]
    },
    {
     "name": "stdout",
     "output_type": "stream",
     "text": [
      "0.9882396035337212\n"
     ]
    },
    {
     "name": "stderr",
     "output_type": "stream",
     "text": [
      "/var/folders/gp/r_0zq_nx5pl3nmv_2z2bd6hc0000gn/T/ipykernel_46961/506725017.py:2: FutureWarning: suggest_loguniform has been deprecated in v3.0.0. This feature will be removed in v6.0.0. See https://github.com/optuna/optuna/releases/tag/v3.0.0. Use :func:`~optuna.trial.Trial.suggest_float` instead.\n",
      "  C = trial.suggest_loguniform('C', 1e-3, 1)\n",
      "/var/folders/gp/r_0zq_nx5pl3nmv_2z2bd6hc0000gn/T/ipykernel_46961/506725017.py:3: FutureWarning: suggest_loguniform has been deprecated in v3.0.0. This feature will be removed in v6.0.0. See https://github.com/optuna/optuna/releases/tag/v3.0.0. Use :func:`~optuna.trial.Trial.suggest_float` instead.\n",
      "  gamma = trial.suggest_loguniform('gamma', 1e-1, 1e1)\n",
      "\u001b[32m[I 2023-09-06 00:39:48,849]\u001b[0m Trial 95 finished with value: 0.9680762374880022 and parameters: {'C': 0.46789187974011254, 'gamma': 5.829358585876365}. Best is trial 0 with value: 0.9882396035337212.\u001b[0m\n"
     ]
    },
    {
     "name": "stdout",
     "output_type": "stream",
     "text": [
      "0.9680762374880022\n"
     ]
    },
    {
     "name": "stderr",
     "output_type": "stream",
     "text": [
      "/var/folders/gp/r_0zq_nx5pl3nmv_2z2bd6hc0000gn/T/ipykernel_46961/506725017.py:2: FutureWarning: suggest_loguniform has been deprecated in v3.0.0. This feature will be removed in v6.0.0. See https://github.com/optuna/optuna/releases/tag/v3.0.0. Use :func:`~optuna.trial.Trial.suggest_float` instead.\n",
      "  C = trial.suggest_loguniform('C', 1e-3, 1)\n",
      "/var/folders/gp/r_0zq_nx5pl3nmv_2z2bd6hc0000gn/T/ipykernel_46961/506725017.py:3: FutureWarning: suggest_loguniform has been deprecated in v3.0.0. This feature will be removed in v6.0.0. See https://github.com/optuna/optuna/releases/tag/v3.0.0. Use :func:`~optuna.trial.Trial.suggest_float` instead.\n",
      "  gamma = trial.suggest_loguniform('gamma', 1e-1, 1e1)\n",
      "\u001b[32m[I 2023-09-06 00:39:51,420]\u001b[0m Trial 96 finished with value: 0.9882396035337212 and parameters: {'C': 0.6998900135608783, 'gamma': 8.955174867073493}. Best is trial 0 with value: 0.9882396035337212.\u001b[0m\n"
     ]
    },
    {
     "name": "stdout",
     "output_type": "stream",
     "text": [
      "0.9882396035337212\n"
     ]
    },
    {
     "name": "stderr",
     "output_type": "stream",
     "text": [
      "/var/folders/gp/r_0zq_nx5pl3nmv_2z2bd6hc0000gn/T/ipykernel_46961/506725017.py:2: FutureWarning: suggest_loguniform has been deprecated in v3.0.0. This feature will be removed in v6.0.0. See https://github.com/optuna/optuna/releases/tag/v3.0.0. Use :func:`~optuna.trial.Trial.suggest_float` instead.\n",
      "  C = trial.suggest_loguniform('C', 1e-3, 1)\n",
      "/var/folders/gp/r_0zq_nx5pl3nmv_2z2bd6hc0000gn/T/ipykernel_46961/506725017.py:3: FutureWarning: suggest_loguniform has been deprecated in v3.0.0. This feature will be removed in v6.0.0. See https://github.com/optuna/optuna/releases/tag/v3.0.0. Use :func:`~optuna.trial.Trial.suggest_float` instead.\n",
      "  gamma = trial.suggest_loguniform('gamma', 1e-1, 1e1)\n",
      "\u001b[32m[I 2023-09-06 00:39:53,722]\u001b[0m Trial 97 finished with value: 0.9882396035337212 and parameters: {'C': 0.8233701779631655, 'gamma': 8.005420623990144}. Best is trial 0 with value: 0.9882396035337212.\u001b[0m\n"
     ]
    },
    {
     "name": "stdout",
     "output_type": "stream",
     "text": [
      "0.9882396035337212\n"
     ]
    },
    {
     "name": "stderr",
     "output_type": "stream",
     "text": [
      "/var/folders/gp/r_0zq_nx5pl3nmv_2z2bd6hc0000gn/T/ipykernel_46961/506725017.py:2: FutureWarning: suggest_loguniform has been deprecated in v3.0.0. This feature will be removed in v6.0.0. See https://github.com/optuna/optuna/releases/tag/v3.0.0. Use :func:`~optuna.trial.Trial.suggest_float` instead.\n",
      "  C = trial.suggest_loguniform('C', 1e-3, 1)\n",
      "/var/folders/gp/r_0zq_nx5pl3nmv_2z2bd6hc0000gn/T/ipykernel_46961/506725017.py:3: FutureWarning: suggest_loguniform has been deprecated in v3.0.0. This feature will be removed in v6.0.0. See https://github.com/optuna/optuna/releases/tag/v3.0.0. Use :func:`~optuna.trial.Trial.suggest_float` instead.\n",
      "  gamma = trial.suggest_loguniform('gamma', 1e-1, 1e1)\n",
      "\u001b[32m[I 2023-09-06 00:39:56,309]\u001b[0m Trial 98 finished with value: 0.9680762374880022 and parameters: {'C': 0.5525512884185193, 'gamma': 6.973778227274633}. Best is trial 0 with value: 0.9882396035337212.\u001b[0m\n"
     ]
    },
    {
     "name": "stdout",
     "output_type": "stream",
     "text": [
      "0.9680762374880022\n"
     ]
    },
    {
     "name": "stderr",
     "output_type": "stream",
     "text": [
      "/var/folders/gp/r_0zq_nx5pl3nmv_2z2bd6hc0000gn/T/ipykernel_46961/506725017.py:2: FutureWarning: suggest_loguniform has been deprecated in v3.0.0. This feature will be removed in v6.0.0. See https://github.com/optuna/optuna/releases/tag/v3.0.0. Use :func:`~optuna.trial.Trial.suggest_float` instead.\n",
      "  C = trial.suggest_loguniform('C', 1e-3, 1)\n",
      "/var/folders/gp/r_0zq_nx5pl3nmv_2z2bd6hc0000gn/T/ipykernel_46961/506725017.py:3: FutureWarning: suggest_loguniform has been deprecated in v3.0.0. This feature will be removed in v6.0.0. See https://github.com/optuna/optuna/releases/tag/v3.0.0. Use :func:`~optuna.trial.Trial.suggest_float` instead.\n",
      "  gamma = trial.suggest_loguniform('gamma', 1e-1, 1e1)\n",
      "\u001b[32m[I 2023-09-06 00:39:59,323]\u001b[0m Trial 99 finished with value: 0.9680762374880022 and parameters: {'C': 0.3709916094895886, 'gamma': 5.192395986025994}. Best is trial 0 with value: 0.9882396035337212.\u001b[0m\n"
     ]
    },
    {
     "name": "stdout",
     "output_type": "stream",
     "text": [
      "0.9680762374880022\n"
     ]
    }
   ],
   "source": [
    "study = optuna.create_study(direction='maximize')\n",
    "study.optimize(objective, n_trials=100) # adjust n_trials"
   ]
  },
  {
   "cell_type": "code",
   "execution_count": 20,
   "metadata": {},
   "outputs": [],
   "source": [
    "# Get the best hyperparameters\n",
    "n_trials = len(study.trials)\n",
    "best_params = study.best_params\n",
    "\n",
    "best_C = best_params['C']\n",
    "best_gamma = best_params['gamma']\n",
    "\n",
    "svm_classifier = SVC(kernel='rbf', C=best_C, gamma=best_gamma)\n",
    "svm_classifier = svm_classifier.fit(X_train, y_train)"
   ]
  },
  {
   "cell_type": "code",
   "execution_count": 21,
   "metadata": {},
   "outputs": [
    {
     "name": "stdout",
     "output_type": "stream",
     "text": [
      "Accuracy: 0.9932810750279956\n",
      "Precision: 0.9728260869565217\n",
      "Recall: 0.9944444444444445\n",
      "F1-score: 0.9835164835164836\n"
     ]
    }
   ],
   "source": [
    "y_pred = svm_classifier.predict(X_test)\n",
    "accuracy = accuracy_score(y_test, y_pred)\n",
    "print(f\"Accuracy: {accuracy}\")\n",
    "\n",
    "precision = precision_score(y_test, y_pred)\n",
    "recall = recall_score(y_test, y_pred)\n",
    "f1 = f1_score(y_test, y_pred)\n",
    "print(f\"Precision: {precision}\")\n",
    "print(f\"Recall: {recall}\")\n",
    "print(f\"F1-score: {f1}\")\n"
   ]
  },
  {
   "cell_type": "code",
   "execution_count": 22,
   "metadata": {},
   "outputs": [
    {
     "name": "stdout",
     "output_type": "stream",
     "text": [
      "Model evaluation information saved to model_evaluation.txt\n"
     ]
    }
   ],
   "source": [
    "file_path = \"model_evaluation.txt\"\n",
    "\n",
    "with open(file_path, 'a') as file:\n",
    "    # Write the best hyperparameters\n",
    "    file.write(\"Best Hyperparameters:\\n\")\n",
    "    file.write(f\"C: {best_C}\\n\")\n",
    "    file.write(f\"Gamma: {best_gamma}\\n\")\n",
    "    file.write(f\"n_trials: {n_trials}\\n\")\n",
    "    \n",
    "    # Write the evaluation scores\n",
    "    file.write(\"\\nEvaluation Scores:\\n\")\n",
    "    file.write(f\"Accuracy: {accuracy}\\n\")\n",
    "    file.write(f\"Precision: {precision}\\n\")\n",
    "    file.write(f\"Recall: {recall}\\n\")\n",
    "    file.write(f\"F1-score: {f1}\\n\")\n",
    "    file.write(\"\\n\")\n",
    "\n",
    "print(f\"Model evaluation information saved to {file_path}\")"
   ]
  }
 ],
 "metadata": {
  "kernelspec": {
   "display_name": "Python 3",
   "language": "python",
   "name": "python3"
  },
  "language_info": {
   "codemirror_mode": {
    "name": "ipython",
    "version": 3
   },
   "file_extension": ".py",
   "mimetype": "text/x-python",
   "name": "python",
   "nbconvert_exporter": "python",
   "pygments_lexer": "ipython3",
   "version": "3.11.4"
  },
  "orig_nbformat": 4
 },
 "nbformat": 4,
 "nbformat_minor": 2
}
